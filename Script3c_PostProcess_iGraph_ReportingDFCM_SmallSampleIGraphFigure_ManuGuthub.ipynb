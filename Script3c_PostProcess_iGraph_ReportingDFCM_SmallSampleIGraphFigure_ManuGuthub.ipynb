{
 "cells": [
  {
   "cell_type": "code",
   "execution_count": 1,
   "id": "c9938605",
   "metadata": {},
   "outputs": [],
   "source": [
    "###################################################\n",
    "## Post Process the primary care research corpus results --- structure author lists into edge list, network adjacency matrix\n",
    "##\n",
    "## Author: Chris Meaney\n",
    "## Date: January 2023\n",
    "###################################################"
   ]
  },
  {
   "cell_type": "code",
   "execution_count": 2,
   "id": "f024cecc",
   "metadata": {},
   "outputs": [
    {
     "name": "stderr",
     "output_type": "stream",
     "text": [
      "\n",
      "Attaching package: 'igraph'\n",
      "\n",
      "\n",
      "The following objects are masked from 'package:stats':\n",
      "\n",
      "    decompose, spectrum\n",
      "\n",
      "\n",
      "The following object is masked from 'package:base':\n",
      "\n",
      "    union\n",
      "\n",
      "\n"
     ]
    }
   ],
   "source": [
    "############\n",
    "## Dependencies\n",
    "############\n",
    "\n",
    "## For network analysis\n",
    "library(igraph)"
   ]
  },
  {
   "cell_type": "code",
   "execution_count": 3,
   "id": "d048ef7f",
   "metadata": {},
   "outputs": [],
   "source": [
    "##############\n",
    "## Filepaths to import data from disk, and export data to disk\n",
    "##############\n",
    "\n",
    "## Import core scopus dataframe\n",
    "fpath_scopus <- \"D:\\\\CopyZ_30Nov2020\\\\DFCM_Docs\\\\DFCM_Researchers\\\\PeterSelby\\\\MineScopus_DFCM_National_International_PrimaryCareResearchPrograms\\\\CoreData_Mined\\\\Core_Scopus_Dataset_Sm.csv\"\n",
    "\n",
    "## Import eid for edge list construction\n",
    "fpath_eid1 <- \"D:\\\\CopyZ_30Nov2020\\\\DFCM_Docs\\\\DFCM_Researchers\\\\PeterSelby\\\\MineScopus_DFCM_National_International_PrimaryCareResearchPrograms\\\\CoreData_Mined\\\\Scopus_CoAuthNetwork_EID1.csv\"\n",
    "fpath_eid2 <- \"D:\\\\CopyZ_30Nov2020\\\\DFCM_Docs\\\\DFCM_Researchers\\\\PeterSelby\\\\MineScopus_DFCM_National_International_PrimaryCareResearchPrograms\\\\CoreData_Mined\\\\Scopus_CoAuthNetwork_EID2.csv\"\n",
    "\n",
    "## Import author affiliation data\n",
    "affils_eid_fpath1 <- \"D://CopyZ_30Nov2020//DFCM_Docs//DFCM_Researchers//PeterSelby//MineScopus_DFCM_National_International_PrimaryCareResearchPrograms//CoreData_Mined//Scopus_CoAuthAffiliationNetwork_EID1.csv\"\n",
    "affils_eid_fpath2 <- \"D://CopyZ_30Nov2020//DFCM_Docs//DFCM_Researchers//PeterSelby//MineScopus_DFCM_National_International_PrimaryCareResearchPrograms//CoreData_Mined//Scopus_CoAuthAffiliationNetwork_EID2.csv\"\n",
    "\n",
    "## Import IDs \n",
    "ids_fpath <- \"D://CopyZ_30Nov2020//DFCM_Docs//DFCM_Researchers//PeterSelby//MineScopus_DFCM_National_International_PrimaryCareResearchPrograms//ZZZ_ScopusIDs//ZZZ_ScopusIDs//Final_Combined_ScopusIdsFile_JayaSelena.csv\""
   ]
  },
  {
   "cell_type": "code",
   "execution_count": null,
   "id": "d1008654",
   "metadata": {},
   "outputs": [],
   "source": []
  },
  {
   "cell_type": "code",
   "execution_count": null,
   "id": "549ee048",
   "metadata": {},
   "outputs": [],
   "source": []
  },
  {
   "cell_type": "code",
   "execution_count": 4,
   "id": "fd30e9a9",
   "metadata": {},
   "outputs": [
    {
     "name": "stdout",
     "output_type": "stream",
     "text": [
      "'data.frame':\t18874 obs. of  25 variables:\n",
      " $ au_id         : num  1e+10 1e+10 1e+10 1e+10 1e+10 ...\n",
      " $ prism_url     : chr  \"https://api.elsevier.com/content/abstract/scopus_id/85140976962\" \"https://api.elsevier.com/content/abstract/scopus_id/85121747496\" \"https://api.elsevier.com/content/abstract/scopus_id/85112107056\" \"https://api.elsevier.com/content/abstract/scopus_id/85118672412\" ...\n",
      " $ eid           : chr  \"2-s2.0-85140976962\" \"2-s2.0-85121747496\" \"2-s2.0-85112107056\" \"2-s2.0-85118672412\" ...\n",
      " $ doi           : chr  \"10.1016/j.socscimed.2022.115463\" \"10.1111/add.15760\" \"10.1016/j.socscimed.2021.114262\" \"10.3399/BJGP.2021.0195\" ...\n",
      " $ issn          : chr  \"02779536\" \"09652140\" \"02779536\" \"09601643\" ...\n",
      " $ eissn         : chr  \"18735347\" \"13600443\" \"18735347\" \"14785242\" ...\n",
      " $ pub_title     : chr  \"Brief opportunistic interventions by general practitioners to promote smoking cessation: A conversation analytic study\" \"The old and familiar meets the new and unknown: patient and clinician perceptions on e-cigarettes for smoking r\"| __truncated__ \"Patients’ use of the internet to negotiate about treatment\" \"Factors affecting the documentation of spoken safety-netting advice in routine GP consultations: A cross-sectional study\" ...\n",
      " $ pub_author    : chr  \"Wheat H.\" \"Albury C.\" \"Stevenson F.A.\" \"Edwards P.J.\" ...\n",
      " $ pub_journal   : chr  \"Social Science and Medicine\" \"Addiction\" \"Social Science and Medicine\" \"British Journal of General Practice\" ...\n",
      " $ pub_date      : chr  \"2022-12-01\" \"2022-05-01\" \"2021-12-01\" \"2021-11-01\" ...\n",
      " $ pub_abstract  : chr  \"Very brief opportunistic interventions for smoking cessation are effective, cost-saving for health systems, and\"| __truncated__ \"Background and Aims: Clinicians could promote e-cigarettes for harm reduction to people who smoke but cannot st\"| __truncated__ \"The internet provides access to a huge variety of information, including health information. There is, however,\"| __truncated__ \"Background Previous studies have reported how often safetynetting is documented in medical records, but it is n\"| __truncated__ ...\n",
      " $ pub_keywords  : chr  \"Conversation analysis | Primary care | Smoking | Very brief advice (VBA) intervention\" \"e-cigarettes | family practice | harm reduction | Primary care | qualitative interviews | smoking reduction\" \"Conversation analysis | Doctor-patient interaction | Internet | Primary care | UK | Video-recorded consultations\" \"Health communication | Medical records | Medicolegal | Patient safety | Primary care | Safetynetting\" ...\n",
      " $ pub_type      : chr  \"Journal\" \"Journal\" \"Journal\" \"Journal\" ...\n",
      " $ pub_subtype   : chr  \"Article\" \"Article\" \"Article\" \"Article\" ...\n",
      " $ open_access   : logi  TRUE TRUE FALSE TRUE TRUE TRUE ...\n",
      " $ fund_acr      : chr  \"OxBRC\" \"NIHR\" \"NIHR\" \"NIHR\" ...\n",
      " $ fund_num      : chr  \"C56718/A23874\" \"333\" \"undefined\" \"RCF 19/20-64E\" ...\n",
      " $ fund_sponsor  : chr  \"NIHR Oxford Biomedical Research Centre\" \"National Institute for Health and Care Research\" \"National Institute for Health Research\" \"National Institute for Health Research\" ...\n",
      " $ cited_count   : int  0 1 3 7 2 1 2 0 1 2 ...\n",
      " $ nam           : chr  \"RebeccaBarnes\" \"RebeccaBarnes\" \"RebeccaBarnes\" \"RebeccaBarnes\" ...\n",
      " $ id            : num  1e+10 1e+10 1e+10 1e+10 1e+10 ...\n",
      " $ pub_year      : int  2022 2022 2021 2021 2021 2021 2021 2021 2020 2020 ...\n",
      " $ au_country    : chr  \"UK\" \"UK\" \"UK\" \"UK\" ...\n",
      " $ au_institution: chr  \"Oxford\" \"Oxford\" \"Oxford\" \"Oxford\" ...\n",
      " $ au_name       : chr  \"RebeccaBarnes\" \"RebeccaBarnes\" \"RebeccaBarnes\" \"RebeccaBarnes\" ...\n"
     ]
    }
   ],
   "source": [
    "##################################\n",
    "## Import Scopus dataset\n",
    "##################################\n",
    "scopus_df <- read.csv(file=fpath_scopus, header=TRUE, sep=\",\", stringsAsFactors=FALSE)\n",
    "str(scopus_df)"
   ]
  },
  {
   "cell_type": "code",
   "execution_count": 5,
   "id": "5e482c41",
   "metadata": {},
   "outputs": [
    {
     "data": {
      "text/plain": [
       "\n",
       "2017 2018 2019 2020 2021 2022 \n",
       "2591 2811 2823 3075 3617 3957 "
      ]
     },
     "metadata": {},
     "output_type": "display_data"
    }
   ],
   "source": [
    "## Only keep publications from certain years --- 2000:2021\n",
    "table(scopus_df$pub_year)"
   ]
  },
  {
   "cell_type": "code",
   "execution_count": 6,
   "id": "702d2fc2",
   "metadata": {},
   "outputs": [
    {
     "data": {
      "text/plain": [
       "           \n",
       "            Canada Other   UK  USA\n",
       "  Cambridge      0     0  560    0\n",
       "  Dartmouth      0     0    0 1173\n",
       "  Duke           0     0    0  380\n",
       "  Harvard        0     0    0  485\n",
       "  HKU            0   648    0    0\n",
       "  Laval        785     0    0    0\n",
       "  McGill      1025     0    0    0\n",
       "  Michigan       0     0    0  793\n",
       "  Monash         0   455    0    0\n",
       "  OHSU           0     0    0  752\n",
       "  Ottawa       774     0    0    0\n",
       "  Oxford         0     0 5443    0\n",
       "  Toronto     2484     0    0    0\n",
       "  UBC          920     0    0    0\n",
       "  UCL            0     0 1526    0\n",
       "  UCSF           0     0    0  421\n",
       "  UNSW           0   250    0    0"
      ]
     },
     "metadata": {},
     "output_type": "display_data"
    }
   ],
   "source": [
    "## Map institution to region\n",
    "scopus_df$au_institution_country <- with(scopus_df, \n",
    "                                                       ifelse(au_institution %in% c(\"Toronto\",\"UBC\",\"McGill\",\"Laval\",\"Ottawa\"), \"Canada\",\n",
    "                                                       ifelse(au_institution %in% c(\"Dartmouth\",\"Michigan\",\"Duke\",\"OHSU\",\"UCSF\",\"Harvard\"), \"USA\",\n",
    "                                                       ifelse(au_institution %in% c(\"Oxford\", \"Cambridge\",\"UCL\"), \"UK\", \"Other\"))))\n",
    "\n",
    "table(scopus_df$au_institution, scopus_df$au_institution_country)"
   ]
  },
  {
   "cell_type": "code",
   "execution_count": 7,
   "id": "ab140296",
   "metadata": {},
   "outputs": [
    {
     "data": {
      "text/html": [
       "17"
      ],
      "text/latex": [
       "17"
      ],
      "text/markdown": [
       "17"
      ],
      "text/plain": [
       "[1] 17"
      ]
     },
     "metadata": {},
     "output_type": "display_data"
    }
   ],
   "source": [
    "## How many unique institutions\n",
    "length(unique(scopus_df$au_institution))"
   ]
  },
  {
   "cell_type": "code",
   "execution_count": 8,
   "id": "7305d91a",
   "metadata": {},
   "outputs": [
    {
     "data": {
      "text/html": [
       "591"
      ],
      "text/latex": [
       "591"
      ],
      "text/markdown": [
       "591"
      ],
      "text/plain": [
       "[1] 591"
      ]
     },
     "metadata": {},
     "output_type": "display_data"
    }
   ],
   "source": [
    "## How many unique authors\n",
    "length(unique(scopus_df$au_name))"
   ]
  },
  {
   "cell_type": "code",
   "execution_count": 9,
   "id": "007e98b3",
   "metadata": {},
   "outputs": [
    {
     "data": {
      "text/html": [
       "<style>\n",
       ".list-inline {list-style: none; margin:0; padding: 0}\n",
       ".list-inline>li {display: inline-block}\n",
       ".list-inline>li:not(:last-child)::after {content: \"\\00b7\"; padding: 0 .5ex}\n",
       "</style>\n",
       "<ol class=list-inline><li>591</li><li>3</li></ol>\n"
      ],
      "text/latex": [
       "\\begin{enumerate*}\n",
       "\\item 591\n",
       "\\item 3\n",
       "\\end{enumerate*}\n"
      ],
      "text/markdown": [
       "1. 591\n",
       "2. 3\n",
       "\n",
       "\n"
      ],
      "text/plain": [
       "[1] 591   3"
      ]
     },
     "metadata": {},
     "output_type": "display_data"
    }
   ],
   "source": [
    "## Get original set of authors (N=591) no duplicates\n",
    "scopus_df_uniq <- scopus_df[!(duplicated(scopus_df$au_name)), c(\"au_id\",\"au_name\",\"au_institution\")]\n",
    "dim(scopus_df_uniq)"
   ]
  },
  {
   "cell_type": "code",
   "execution_count": 10,
   "id": "9ec6d164",
   "metadata": {},
   "outputs": [
    {
     "data": {
      "text/html": [
       "<table class=\"dataframe\">\n",
       "<caption>A data.frame: 6 × 3</caption>\n",
       "<thead>\n",
       "\t<tr><th></th><th scope=col>au_id</th><th scope=col>au_name</th><th scope=col>au_institution</th></tr>\n",
       "\t<tr><th></th><th scope=col>&lt;dbl&gt;</th><th scope=col>&lt;chr&gt;</th><th scope=col>&lt;chr&gt;</th></tr>\n",
       "</thead>\n",
       "<tbody>\n",
       "\t<tr><th scope=row>1</th><td>10041373600</td><td>RebeccaBarnes     </td><td>Oxford  </td></tr>\n",
       "\t<tr><th scope=row>34</th><td>10240446500</td><td>ChristineTCigolle </td><td>Michigan</td></tr>\n",
       "\t<tr><th scope=row>49</th><td>12791296200</td><td>ClaireKendall     </td><td>Ottawa  </td></tr>\n",
       "\t<tr><th scope=row>122</th><td>12804958400</td><td>MinaRuthSilberberg</td><td>Duke    </td></tr>\n",
       "\t<tr><th scope=row>137</th><td>14421205500</td><td>BertrandLebouche  </td><td>McGill  </td></tr>\n",
       "\t<tr><th scope=row>217</th><td>14826143300</td><td>ClaudeTopping     </td><td>Laval   </td></tr>\n",
       "</tbody>\n",
       "</table>\n"
      ],
      "text/latex": [
       "A data.frame: 6 × 3\n",
       "\\begin{tabular}{r|lll}\n",
       "  & au\\_id & au\\_name & au\\_institution\\\\\n",
       "  & <dbl> & <chr> & <chr>\\\\\n",
       "\\hline\n",
       "\t1 & 10041373600 & RebeccaBarnes      & Oxford  \\\\\n",
       "\t34 & 10240446500 & ChristineTCigolle  & Michigan\\\\\n",
       "\t49 & 12791296200 & ClaireKendall      & Ottawa  \\\\\n",
       "\t122 & 12804958400 & MinaRuthSilberberg & Duke    \\\\\n",
       "\t137 & 14421205500 & BertrandLebouche   & McGill  \\\\\n",
       "\t217 & 14826143300 & ClaudeTopping      & Laval   \\\\\n",
       "\\end{tabular}\n"
      ],
      "text/markdown": [
       "\n",
       "A data.frame: 6 × 3\n",
       "\n",
       "| <!--/--> | au_id &lt;dbl&gt; | au_name &lt;chr&gt; | au_institution &lt;chr&gt; |\n",
       "|---|---|---|---|\n",
       "| 1 | 10041373600 | RebeccaBarnes      | Oxford   |\n",
       "| 34 | 10240446500 | ChristineTCigolle  | Michigan |\n",
       "| 49 | 12791296200 | ClaireKendall      | Ottawa   |\n",
       "| 122 | 12804958400 | MinaRuthSilberberg | Duke     |\n",
       "| 137 | 14421205500 | BertrandLebouche   | McGill   |\n",
       "| 217 | 14826143300 | ClaudeTopping      | Laval    |\n",
       "\n"
      ],
      "text/plain": [
       "    au_id       au_name            au_institution\n",
       "1   10041373600 RebeccaBarnes      Oxford        \n",
       "34  10240446500 ChristineTCigolle  Michigan      \n",
       "49  12791296200 ClaireKendall      Ottawa        \n",
       "122 12804958400 MinaRuthSilberberg Duke          \n",
       "137 14421205500 BertrandLebouche   McGill        \n",
       "217 14826143300 ClaudeTopping      Laval         "
      ]
     },
     "metadata": {},
     "output_type": "display_data"
    }
   ],
   "source": [
    "head(scopus_df_uniq)"
   ]
  },
  {
   "cell_type": "code",
   "execution_count": null,
   "id": "29704d70",
   "metadata": {},
   "outputs": [],
   "source": []
  },
  {
   "cell_type": "code",
   "execution_count": null,
   "id": "275642ce",
   "metadata": {},
   "outputs": [],
   "source": []
  },
  {
   "cell_type": "code",
   "execution_count": null,
   "id": "0ce84077",
   "metadata": {},
   "outputs": [],
   "source": []
  },
  {
   "cell_type": "code",
   "execution_count": 11,
   "id": "f05760ba",
   "metadata": {},
   "outputs": [
    {
     "name": "stdout",
     "output_type": "stream",
     "text": [
      "'data.frame':\t150906 obs. of  4 variables:\n",
      " $ eid   : chr  \"2-s2.0-85140976962\" \"2-s2.0-85140976962\" \"2-s2.0-85140976962\" \"2-s2.0-85140976962\" ...\n",
      " $ auths : chr  \"Wheat H.\" \"Barnes R.K.\" \"Aveyard P.\" \"Stevenson F.\" ...\n",
      " $ ids   : num  5.64e+10 1.00e+10 5.51e+10 7.10e+09 3.51e+10 ...\n",
      " $ doc_id: int  1 1 1 1 1 2 2 2 2 2 ...\n"
     ]
    }
   ],
   "source": [
    "#################################\n",
    "##\n",
    "## Import EID authors/ids files\n",
    "##\n",
    "#################################\n",
    "eid_results1 <- read.csv(file=fpath_eid1, header=TRUE, sep=\",\")\n",
    "eid_results2 <- read.csv(file=fpath_eid2, header=TRUE, sep=\",\")\n",
    "\n",
    "eid_results <- rbind(eid_results1, eid_results2)\n",
    "\n",
    "str(eid_results)"
   ]
  },
  {
   "cell_type": "code",
   "execution_count": 12,
   "id": "580f7982",
   "metadata": {},
   "outputs": [
    {
     "data": {
      "text/html": [
       "<ol>\n",
       "\t<li><style>\n",
       ".list-inline {list-style: none; margin:0; padding: 0}\n",
       ".list-inline>li {display: inline-block}\n",
       ".list-inline>li:not(:last-child)::after {content: \"\\00b7\"; padding: 0 .5ex}\n",
       "</style>\n",
       "<ol class=list-inline><li>150906</li><li>4</li></ol>\n",
       "</li>\n",
       "\t<li>13098</li>\n",
       "\t<li>13098</li>\n",
       "\t<li>66686</li>\n",
       "</ol>\n"
      ],
      "text/latex": [
       "\\begin{enumerate}\n",
       "\\item \\begin{enumerate*}\n",
       "\\item 150906\n",
       "\\item 4\n",
       "\\end{enumerate*}\n",
       "\n",
       "\\item 13098\n",
       "\\item 13098\n",
       "\\item 66686\n",
       "\\end{enumerate}\n"
      ],
      "text/markdown": [
       "1. 1. 150906\n",
       "2. 4\n",
       "\n",
       "\n",
       "\n",
       "2. 13098\n",
       "3. 13098\n",
       "4. 66686\n",
       "\n",
       "\n"
      ],
      "text/plain": [
       "[[1]]\n",
       "[1] 150906      4\n",
       "\n",
       "[[2]]\n",
       "[1] 13098\n",
       "\n",
       "[[3]]\n",
       "[1] 13098\n",
       "\n",
       "[[4]]\n",
       "[1] 66686\n"
      ]
     },
     "metadata": {},
     "output_type": "display_data"
    }
   ],
   "source": [
    "##\n",
    "## Descriptive stats\n",
    "##\n",
    "list(\n",
    "    dim(eid_results),\n",
    "    length(unique(eid_results$eid)),\n",
    "    length(unique(eid_results$doc_id)),\n",
    "    length(unique(eid_results$ids))\n",
    ")"
   ]
  },
  {
   "cell_type": "code",
   "execution_count": 13,
   "id": "5010a1bb",
   "metadata": {},
   "outputs": [],
   "source": [
    "#head(eid_results)"
   ]
  },
  {
   "cell_type": "code",
   "execution_count": 14,
   "id": "7a9ed40d",
   "metadata": {},
   "outputs": [
    {
     "data": {
      "text/html": [
       "<ol>\n",
       "\t<li>66686</li>\n",
       "\t<li>62515</li>\n",
       "</ol>\n"
      ],
      "text/latex": [
       "\\begin{enumerate}\n",
       "\\item 66686\n",
       "\\item 62515\n",
       "\\end{enumerate}\n"
      ],
      "text/markdown": [
       "1. 66686\n",
       "2. 62515\n",
       "\n",
       "\n"
      ],
      "text/plain": [
       "[[1]]\n",
       "[1] 66686\n",
       "\n",
       "[[2]]\n",
       "[1] 62515\n"
      ]
     },
     "metadata": {},
     "output_type": "display_data"
    }
   ],
   "source": [
    "## Number unique authors (including the N=591 ppl in the original Scopus query)\n",
    "list(\n",
    "    length(unique(eid_results$ids)),\n",
    "    length(unique(eid_results$auths))\n",
    "    )"
   ]
  },
  {
   "cell_type": "code",
   "execution_count": 15,
   "id": "85086d81",
   "metadata": {},
   "outputs": [
    {
     "data": {
      "text/html": [
       "66095"
      ],
      "text/latex": [
       "66095"
      ],
      "text/markdown": [
       "66095"
      ],
      "text/plain": [
       "[1] 66095"
      ]
     },
     "metadata": {},
     "output_type": "display_data"
    }
   ],
   "source": [
    "## Number unique authors --- after subtracting off the original N=591 included in the Scopus query\n",
    "length(unique(eid_results$ids)) - length(unique(scopus_df$au_name))"
   ]
  },
  {
   "cell_type": "code",
   "execution_count": null,
   "id": "5e5c805b",
   "metadata": {},
   "outputs": [],
   "source": []
  },
  {
   "cell_type": "code",
   "execution_count": null,
   "id": "162434b6",
   "metadata": {},
   "outputs": [],
   "source": []
  },
  {
   "cell_type": "code",
   "execution_count": 16,
   "id": "31ffe886",
   "metadata": {},
   "outputs": [
    {
     "data": {
      "text/html": [
       "<ol>\n",
       "\t<li>62515</li>\n",
       "\t<li>55335</li>\n",
       "\t<li>66686</li>\n",
       "</ol>\n"
      ],
      "text/latex": [
       "\\begin{enumerate}\n",
       "\\item 62515\n",
       "\\item 55335\n",
       "\\item 66686\n",
       "\\end{enumerate}\n"
      ],
      "text/markdown": [
       "1. 62515\n",
       "2. 55335\n",
       "3. 66686\n",
       "\n",
       "\n"
      ],
      "text/plain": [
       "[[1]]\n",
       "[1] 62515\n",
       "\n",
       "[[2]]\n",
       "[1] 55335\n",
       "\n",
       "[[3]]\n",
       "[1] 66686\n"
      ]
     },
     "metadata": {},
     "output_type": "display_data"
    }
   ],
   "source": [
    "##\n",
    "## Normalize author names lists\n",
    "## \n",
    "## WARNING --- this is a bit HACKY; and we expect that it will resolve some problems while creating other new problems\n",
    "## For example, for common/generic Asian family names restricting to LastName+FirstInitial may not be enough granularity to uniquely specify authors\n",
    "##\n",
    "\n",
    "## See weird case for example\n",
    "# eid_results[grepl(x=eid_results$auths, pattern=\"Upshur\"), ]\n",
    "eid_results$auths_norm <- sapply(strsplit(x=eid_results$auths, split=\"\\\\.\"), function(x) x[[1]])\n",
    "# eid_results[grepl(x=eid_results$auths_norm, pattern=\"Upshur\"), ]\n",
    "\n",
    "list(\n",
    "    length(unique(eid_results$auths)),\n",
    "    length(unique(eid_results$auths_norm)),\n",
    "    length(unique(eid_results$ids))\n",
    ")"
   ]
  },
  {
   "cell_type": "code",
   "execution_count": 17,
   "id": "1eb6f22d",
   "metadata": {},
   "outputs": [],
   "source": [
    "##\n",
    "##\n",
    "## Note...you will get slightly/subtly different answers depending on your definition of an author/person\n",
    "## For example, is an author/person defined by 1) Scopus ID, 2) author name, 3) normalized author name, 4) some other identifier, etc.\n",
    "## Here we use Scopus ID because we think it is less biased than author name --- but we acknowledge it is NOT perfect\n",
    "## For example, some unique authors/people may have multiple Scopus IDs (a multiplicity problem)...\n",
    "##\n",
    "##"
   ]
  },
  {
   "cell_type": "code",
   "execution_count": 18,
   "id": "5cfd0f6f",
   "metadata": {},
   "outputs": [
    {
     "data": {
      "text/html": [
       "13098"
      ],
      "text/latex": [
       "13098"
      ],
      "text/markdown": [
       "13098"
      ],
      "text/plain": [
       "[1] 13098"
      ]
     },
     "metadata": {},
     "output_type": "display_data"
    }
   ],
   "source": [
    "##\n",
    "## Split into separate eid files\n",
    "##\n",
    "eid_split <- split(eid_results, f=as.factor(eid_results$eid))\n",
    "length(eid_split)"
   ]
  },
  {
   "cell_type": "code",
   "execution_count": 19,
   "id": "68e981cd",
   "metadata": {},
   "outputs": [
    {
     "data": {
      "text/html": [
       "<table class=\"dataframe\">\n",
       "<caption>A data.frame: 177 × 3</caption>\n",
       "<thead>\n",
       "\t<tr><th scope=col>num_authors</th><th scope=col>freq</th><th scope=col>prop</th></tr>\n",
       "\t<tr><th scope=col>&lt;dbl&gt;</th><th scope=col>&lt;dbl&gt;</th><th scope=col>&lt;dbl&gt;</th></tr>\n",
       "</thead>\n",
       "<tbody>\n",
       "\t<tr><td> 1</td><td>1184</td><td> 9.04</td></tr>\n",
       "\t<tr><td> 2</td><td> 416</td><td> 3.18</td></tr>\n",
       "\t<tr><td> 3</td><td> 731</td><td> 5.58</td></tr>\n",
       "\t<tr><td> 4</td><td>1178</td><td> 8.99</td></tr>\n",
       "\t<tr><td> 5</td><td>1347</td><td>10.28</td></tr>\n",
       "\t<tr><td> 6</td><td>1367</td><td>10.44</td></tr>\n",
       "\t<tr><td> 7</td><td>1217</td><td> 9.29</td></tr>\n",
       "\t<tr><td> 8</td><td> 995</td><td> 7.60</td></tr>\n",
       "\t<tr><td> 9</td><td> 817</td><td> 6.24</td></tr>\n",
       "\t<tr><td>10</td><td> 689</td><td> 5.26</td></tr>\n",
       "\t<tr><td>11</td><td> 541</td><td> 4.13</td></tr>\n",
       "\t<tr><td>12</td><td> 400</td><td> 3.05</td></tr>\n",
       "\t<tr><td>13</td><td> 321</td><td> 2.45</td></tr>\n",
       "\t<tr><td>14</td><td> 272</td><td> 2.08</td></tr>\n",
       "\t<tr><td>15</td><td> 232</td><td> 1.77</td></tr>\n",
       "\t<tr><td>16</td><td> 155</td><td> 1.18</td></tr>\n",
       "\t<tr><td>17</td><td> 141</td><td> 1.08</td></tr>\n",
       "\t<tr><td>18</td><td> 113</td><td> 0.86</td></tr>\n",
       "\t<tr><td>19</td><td>  97</td><td> 0.74</td></tr>\n",
       "\t<tr><td>20</td><td>  83</td><td> 0.63</td></tr>\n",
       "\t<tr><td>21</td><td>  80</td><td> 0.61</td></tr>\n",
       "\t<tr><td>22</td><td>  73</td><td> 0.56</td></tr>\n",
       "\t<tr><td>23</td><td>  58</td><td> 0.44</td></tr>\n",
       "\t<tr><td>24</td><td>  46</td><td> 0.35</td></tr>\n",
       "\t<tr><td>25</td><td>  44</td><td> 0.34</td></tr>\n",
       "\t<tr><td>26</td><td>  32</td><td> 0.24</td></tr>\n",
       "\t<tr><td>27</td><td>  33</td><td> 0.25</td></tr>\n",
       "\t<tr><td>28</td><td>  32</td><td> 0.24</td></tr>\n",
       "\t<tr><td>29</td><td>  35</td><td> 0.27</td></tr>\n",
       "\t<tr><td>30</td><td>  18</td><td> 0.14</td></tr>\n",
       "\t<tr><td>⋮</td><td>⋮</td><td>⋮</td></tr>\n",
       "\t<tr><td> 344</td><td>1</td><td>0.01</td></tr>\n",
       "\t<tr><td> 348</td><td>1</td><td>0.01</td></tr>\n",
       "\t<tr><td> 351</td><td>1</td><td>0.01</td></tr>\n",
       "\t<tr><td> 366</td><td>1</td><td>0.01</td></tr>\n",
       "\t<tr><td> 373</td><td>1</td><td>0.01</td></tr>\n",
       "\t<tr><td> 378</td><td>1</td><td>0.01</td></tr>\n",
       "\t<tr><td> 386</td><td>2</td><td>0.02</td></tr>\n",
       "\t<tr><td> 453</td><td>1</td><td>0.01</td></tr>\n",
       "\t<tr><td> 455</td><td>1</td><td>0.01</td></tr>\n",
       "\t<tr><td> 477</td><td>1</td><td>0.01</td></tr>\n",
       "\t<tr><td> 491</td><td>1</td><td>0.01</td></tr>\n",
       "\t<tr><td> 493</td><td>1</td><td>0.01</td></tr>\n",
       "\t<tr><td> 502</td><td>1</td><td>0.01</td></tr>\n",
       "\t<tr><td> 511</td><td>1</td><td>0.01</td></tr>\n",
       "\t<tr><td> 589</td><td>1</td><td>0.01</td></tr>\n",
       "\t<tr><td> 595</td><td>1</td><td>0.01</td></tr>\n",
       "\t<tr><td> 626</td><td>1</td><td>0.01</td></tr>\n",
       "\t<tr><td> 640</td><td>2</td><td>0.02</td></tr>\n",
       "\t<tr><td> 765</td><td>1</td><td>0.01</td></tr>\n",
       "\t<tr><td> 770</td><td>1</td><td>0.01</td></tr>\n",
       "\t<tr><td> 855</td><td>1</td><td>0.01</td></tr>\n",
       "\t<tr><td> 940</td><td>1</td><td>0.01</td></tr>\n",
       "\t<tr><td>1064</td><td>1</td><td>0.01</td></tr>\n",
       "\t<tr><td>1171</td><td>1</td><td>0.01</td></tr>\n",
       "\t<tr><td>1277</td><td>1</td><td>0.01</td></tr>\n",
       "\t<tr><td>1308</td><td>1</td><td>0.01</td></tr>\n",
       "\t<tr><td>1408</td><td>1</td><td>0.01</td></tr>\n",
       "\t<tr><td>2223</td><td>1</td><td>0.01</td></tr>\n",
       "\t<tr><td>2336</td><td>1</td><td>0.01</td></tr>\n",
       "\t<tr><td>3391</td><td>1</td><td>0.01</td></tr>\n",
       "</tbody>\n",
       "</table>\n"
      ],
      "text/latex": [
       "A data.frame: 177 × 3\n",
       "\\begin{tabular}{lll}\n",
       " num\\_authors & freq & prop\\\\\n",
       " <dbl> & <dbl> & <dbl>\\\\\n",
       "\\hline\n",
       "\t  1 & 1184 &  9.04\\\\\n",
       "\t  2 &  416 &  3.18\\\\\n",
       "\t  3 &  731 &  5.58\\\\\n",
       "\t  4 & 1178 &  8.99\\\\\n",
       "\t  5 & 1347 & 10.28\\\\\n",
       "\t  6 & 1367 & 10.44\\\\\n",
       "\t  7 & 1217 &  9.29\\\\\n",
       "\t  8 &  995 &  7.60\\\\\n",
       "\t  9 &  817 &  6.24\\\\\n",
       "\t 10 &  689 &  5.26\\\\\n",
       "\t 11 &  541 &  4.13\\\\\n",
       "\t 12 &  400 &  3.05\\\\\n",
       "\t 13 &  321 &  2.45\\\\\n",
       "\t 14 &  272 &  2.08\\\\\n",
       "\t 15 &  232 &  1.77\\\\\n",
       "\t 16 &  155 &  1.18\\\\\n",
       "\t 17 &  141 &  1.08\\\\\n",
       "\t 18 &  113 &  0.86\\\\\n",
       "\t 19 &   97 &  0.74\\\\\n",
       "\t 20 &   83 &  0.63\\\\\n",
       "\t 21 &   80 &  0.61\\\\\n",
       "\t 22 &   73 &  0.56\\\\\n",
       "\t 23 &   58 &  0.44\\\\\n",
       "\t 24 &   46 &  0.35\\\\\n",
       "\t 25 &   44 &  0.34\\\\\n",
       "\t 26 &   32 &  0.24\\\\\n",
       "\t 27 &   33 &  0.25\\\\\n",
       "\t 28 &   32 &  0.24\\\\\n",
       "\t 29 &   35 &  0.27\\\\\n",
       "\t 30 &   18 &  0.14\\\\\n",
       "\t ⋮ & ⋮ & ⋮\\\\\n",
       "\t  344 & 1 & 0.01\\\\\n",
       "\t  348 & 1 & 0.01\\\\\n",
       "\t  351 & 1 & 0.01\\\\\n",
       "\t  366 & 1 & 0.01\\\\\n",
       "\t  373 & 1 & 0.01\\\\\n",
       "\t  378 & 1 & 0.01\\\\\n",
       "\t  386 & 2 & 0.02\\\\\n",
       "\t  453 & 1 & 0.01\\\\\n",
       "\t  455 & 1 & 0.01\\\\\n",
       "\t  477 & 1 & 0.01\\\\\n",
       "\t  491 & 1 & 0.01\\\\\n",
       "\t  493 & 1 & 0.01\\\\\n",
       "\t  502 & 1 & 0.01\\\\\n",
       "\t  511 & 1 & 0.01\\\\\n",
       "\t  589 & 1 & 0.01\\\\\n",
       "\t  595 & 1 & 0.01\\\\\n",
       "\t  626 & 1 & 0.01\\\\\n",
       "\t  640 & 2 & 0.02\\\\\n",
       "\t  765 & 1 & 0.01\\\\\n",
       "\t  770 & 1 & 0.01\\\\\n",
       "\t  855 & 1 & 0.01\\\\\n",
       "\t  940 & 1 & 0.01\\\\\n",
       "\t 1064 & 1 & 0.01\\\\\n",
       "\t 1171 & 1 & 0.01\\\\\n",
       "\t 1277 & 1 & 0.01\\\\\n",
       "\t 1308 & 1 & 0.01\\\\\n",
       "\t 1408 & 1 & 0.01\\\\\n",
       "\t 2223 & 1 & 0.01\\\\\n",
       "\t 2336 & 1 & 0.01\\\\\n",
       "\t 3391 & 1 & 0.01\\\\\n",
       "\\end{tabular}\n"
      ],
      "text/markdown": [
       "\n",
       "A data.frame: 177 × 3\n",
       "\n",
       "| num_authors &lt;dbl&gt; | freq &lt;dbl&gt; | prop &lt;dbl&gt; |\n",
       "|---|---|---|\n",
       "|  1 | 1184 |  9.04 |\n",
       "|  2 |  416 |  3.18 |\n",
       "|  3 |  731 |  5.58 |\n",
       "|  4 | 1178 |  8.99 |\n",
       "|  5 | 1347 | 10.28 |\n",
       "|  6 | 1367 | 10.44 |\n",
       "|  7 | 1217 |  9.29 |\n",
       "|  8 |  995 |  7.60 |\n",
       "|  9 |  817 |  6.24 |\n",
       "| 10 |  689 |  5.26 |\n",
       "| 11 |  541 |  4.13 |\n",
       "| 12 |  400 |  3.05 |\n",
       "| 13 |  321 |  2.45 |\n",
       "| 14 |  272 |  2.08 |\n",
       "| 15 |  232 |  1.77 |\n",
       "| 16 |  155 |  1.18 |\n",
       "| 17 |  141 |  1.08 |\n",
       "| 18 |  113 |  0.86 |\n",
       "| 19 |   97 |  0.74 |\n",
       "| 20 |   83 |  0.63 |\n",
       "| 21 |   80 |  0.61 |\n",
       "| 22 |   73 |  0.56 |\n",
       "| 23 |   58 |  0.44 |\n",
       "| 24 |   46 |  0.35 |\n",
       "| 25 |   44 |  0.34 |\n",
       "| 26 |   32 |  0.24 |\n",
       "| 27 |   33 |  0.25 |\n",
       "| 28 |   32 |  0.24 |\n",
       "| 29 |   35 |  0.27 |\n",
       "| 30 |   18 |  0.14 |\n",
       "| ⋮ | ⋮ | ⋮ |\n",
       "|  344 | 1 | 0.01 |\n",
       "|  348 | 1 | 0.01 |\n",
       "|  351 | 1 | 0.01 |\n",
       "|  366 | 1 | 0.01 |\n",
       "|  373 | 1 | 0.01 |\n",
       "|  378 | 1 | 0.01 |\n",
       "|  386 | 2 | 0.02 |\n",
       "|  453 | 1 | 0.01 |\n",
       "|  455 | 1 | 0.01 |\n",
       "|  477 | 1 | 0.01 |\n",
       "|  491 | 1 | 0.01 |\n",
       "|  493 | 1 | 0.01 |\n",
       "|  502 | 1 | 0.01 |\n",
       "|  511 | 1 | 0.01 |\n",
       "|  589 | 1 | 0.01 |\n",
       "|  595 | 1 | 0.01 |\n",
       "|  626 | 1 | 0.01 |\n",
       "|  640 | 2 | 0.02 |\n",
       "|  765 | 1 | 0.01 |\n",
       "|  770 | 1 | 0.01 |\n",
       "|  855 | 1 | 0.01 |\n",
       "|  940 | 1 | 0.01 |\n",
       "| 1064 | 1 | 0.01 |\n",
       "| 1171 | 1 | 0.01 |\n",
       "| 1277 | 1 | 0.01 |\n",
       "| 1308 | 1 | 0.01 |\n",
       "| 1408 | 1 | 0.01 |\n",
       "| 2223 | 1 | 0.01 |\n",
       "| 2336 | 1 | 0.01 |\n",
       "| 3391 | 1 | 0.01 |\n",
       "\n"
      ],
      "text/plain": [
       "    num_authors freq prop \n",
       "1    1          1184  9.04\n",
       "2    2           416  3.18\n",
       "3    3           731  5.58\n",
       "4    4          1178  8.99\n",
       "5    5          1347 10.28\n",
       "6    6          1367 10.44\n",
       "7    7          1217  9.29\n",
       "8    8           995  7.60\n",
       "9    9           817  6.24\n",
       "10  10           689  5.26\n",
       "11  11           541  4.13\n",
       "12  12           400  3.05\n",
       "13  13           321  2.45\n",
       "14  14           272  2.08\n",
       "15  15           232  1.77\n",
       "16  16           155  1.18\n",
       "17  17           141  1.08\n",
       "18  18           113  0.86\n",
       "19  19            97  0.74\n",
       "20  20            83  0.63\n",
       "21  21            80  0.61\n",
       "22  22            73  0.56\n",
       "23  23            58  0.44\n",
       "24  24            46  0.35\n",
       "25  25            44  0.34\n",
       "26  26            32  0.24\n",
       "27  27            33  0.25\n",
       "28  28            32  0.24\n",
       "29  29            35  0.27\n",
       "30  30            18  0.14\n",
       "<U+22EE>   <U+22EE>    <U+22EE> <U+22EE>\n",
       "148  344        1    0.01 \n",
       "149  348        1    0.01 \n",
       "150  351        1    0.01 \n",
       "151  366        1    0.01 \n",
       "152  373        1    0.01 \n",
       "153  378        1    0.01 \n",
       "154  386        2    0.02 \n",
       "155  453        1    0.01 \n",
       "156  455        1    0.01 \n",
       "157  477        1    0.01 \n",
       "158  491        1    0.01 \n",
       "159  493        1    0.01 \n",
       "160  502        1    0.01 \n",
       "161  511        1    0.01 \n",
       "162  589        1    0.01 \n",
       "163  595        1    0.01 \n",
       "164  626        1    0.01 \n",
       "165  640        2    0.02 \n",
       "166  765        1    0.01 \n",
       "167  770        1    0.01 \n",
       "168  855        1    0.01 \n",
       "169  940        1    0.01 \n",
       "170 1064        1    0.01 \n",
       "171 1171        1    0.01 \n",
       "172 1277        1    0.01 \n",
       "173 1308        1    0.01 \n",
       "174 1408        1    0.01 \n",
       "175 2223        1    0.01 \n",
       "176 2336        1    0.01 \n",
       "177 3391        1    0.01 "
      ]
     },
     "metadata": {},
     "output_type": "display_data"
    }
   ],
   "source": [
    "## Get number of authors per publication (based on eid)\n",
    "num_authors <- sapply(eid_split, nrow)\n",
    "\n",
    "num_authors_df <- data.frame(table(num_authors))\n",
    "prop_authors_df <- data.frame(prop.table(table(num_authors)))\n",
    "\n",
    "authors_df <- cbind(num_authors_df, round(prop_authors_df[,2]*100, 2))\n",
    "authors_df <- data.frame(apply(authors_df, 2, as.numeric))\n",
    "names(authors_df) <- c(\"num_authors\", \"freq\", \"prop\")\n",
    "authors_df"
   ]
  },
  {
   "cell_type": "code",
   "execution_count": 20,
   "id": "962dcce5",
   "metadata": {},
   "outputs": [
    {
     "data": {
      "text/html": [
       "<ol>\n",
       "\t<li><style>\n",
       ".list-inline {list-style: none; margin:0; padding: 0}\n",
       ".list-inline>li {display: inline-block}\n",
       ".list-inline>li:not(:last-child)::after {content: \"\\00b7\"; padding: 0 .5ex}\n",
       "</style>\n",
       "<ol class=list-inline><li>150906</li><li>5</li></ol>\n",
       "</li>\n",
       "\t<li>150906</li>\n",
       "</ol>\n"
      ],
      "text/latex": [
       "\\begin{enumerate}\n",
       "\\item \\begin{enumerate*}\n",
       "\\item 150906\n",
       "\\item 5\n",
       "\\end{enumerate*}\n",
       "\n",
       "\\item 150906\n",
       "\\end{enumerate}\n"
      ],
      "text/markdown": [
       "1. 1. 150906\n",
       "2. 5\n",
       "\n",
       "\n",
       "\n",
       "2. 150906\n",
       "\n",
       "\n"
      ],
      "text/plain": [
       "[[1]]\n",
       "[1] 150906      5\n",
       "\n",
       "[[2]]\n",
       "[1] 150906\n"
      ]
     },
     "metadata": {},
     "output_type": "display_data"
    }
   ],
   "source": [
    "## Check on author freq counts\n",
    "list(\n",
    "    dim(eid_results),\n",
    "    sum(authors_df$num_authors * authors_df$freq)\n",
    ")"
   ]
  },
  {
   "cell_type": "code",
   "execution_count": 21,
   "id": "0c146bed",
   "metadata": {},
   "outputs": [
    {
     "data": {
      "text/html": [
       "<table class=\"dataframe\">\n",
       "<caption>A data.frame: 5 × 1</caption>\n",
       "<thead>\n",
       "\t<tr><th></th><th scope=col>num_authors</th></tr>\n",
       "\t<tr><th></th><th scope=col>&lt;dbl&gt;</th></tr>\n",
       "</thead>\n",
       "<tbody>\n",
       "\t<tr><th scope=row>0%</th><td>   1</td></tr>\n",
       "\t<tr><th scope=row>25%</th><td>   4</td></tr>\n",
       "\t<tr><th scope=row>50%</th><td>   7</td></tr>\n",
       "\t<tr><th scope=row>75%</th><td>  10</td></tr>\n",
       "\t<tr><th scope=row>100%</th><td>3391</td></tr>\n",
       "</tbody>\n",
       "</table>\n"
      ],
      "text/latex": [
       "A data.frame: 5 × 1\n",
       "\\begin{tabular}{r|l}\n",
       "  & num\\_authors\\\\\n",
       "  & <dbl>\\\\\n",
       "\\hline\n",
       "\t0\\% &    1\\\\\n",
       "\t25\\% &    4\\\\\n",
       "\t50\\% &    7\\\\\n",
       "\t75\\% &   10\\\\\n",
       "\t100\\% & 3391\\\\\n",
       "\\end{tabular}\n"
      ],
      "text/markdown": [
       "\n",
       "A data.frame: 5 × 1\n",
       "\n",
       "| <!--/--> | num_authors &lt;dbl&gt; |\n",
       "|---|---|\n",
       "| 0% |    1 |\n",
       "| 25% |    4 |\n",
       "| 50% |    7 |\n",
       "| 75% |   10 |\n",
       "| 100% | 3391 |\n",
       "\n"
      ],
      "text/plain": [
       "     num_authors\n",
       "0%      1       \n",
       "25%     4       \n",
       "50%     7       \n",
       "75%    10       \n",
       "100% 3391       "
      ]
     },
     "metadata": {},
     "output_type": "display_data"
    }
   ],
   "source": [
    "## Quantiles on number of authors\n",
    "data.frame(num_authors=quantile(num_authors, probs=c(0, 0.25, 0.50, 0.75, 1.0)))"
   ]
  },
  {
   "cell_type": "code",
   "execution_count": 22,
   "id": "ae8510dc",
   "metadata": {},
   "outputs": [
    {
     "data": {
      "text/html": [
       "<ol>\n",
       "\t<li>66686</li>\n",
       "\t<li>66095</li>\n",
       "</ol>\n"
      ],
      "text/latex": [
       "\\begin{enumerate}\n",
       "\\item 66686\n",
       "\\item 66095\n",
       "\\end{enumerate}\n"
      ],
      "text/markdown": [
       "1. 66686\n",
       "2. 66095\n",
       "\n",
       "\n"
      ],
      "text/plain": [
       "[[1]]\n",
       "[1] 66686\n",
       "\n",
       "[[2]]\n",
       "[1] 66095\n"
      ]
     },
     "metadata": {},
     "output_type": "display_data"
    }
   ],
   "source": [
    "## Number of collaborators - minus the number of original authors in the search/query\n",
    "list(\n",
    "    length(unique(eid_results$ids)),\n",
    "    length(unique(eid_results$ids)) - length(unique(scopus_df$au_name))\n",
    ")"
   ]
  },
  {
   "cell_type": "code",
   "execution_count": null,
   "id": "7103638f",
   "metadata": {},
   "outputs": [],
   "source": []
  },
  {
   "cell_type": "code",
   "execution_count": 23,
   "id": "ee538feb",
   "metadata": {},
   "outputs": [],
   "source": [
    "## Investigate weird cases with >1000 authors on publication \n",
    "## We have seen some large international collaborations of this nature\n",
    "## However, for assessing collaboration, we feel it is best to drop these edge cases, as to not distort traditional small/medium team collaboration\n",
    "\n",
    "# big_collabs <- eid_split[sapply(eid_split, nrow) > 1000]\n",
    "# length(big_collabs)\n",
    "# big_collabs[1]\n",
    "\n",
    "## Note: these seem like legit, albeit, really big team science projects"
   ]
  },
  {
   "cell_type": "code",
   "execution_count": 24,
   "id": "a4f26d66",
   "metadata": {},
   "outputs": [],
   "source": [
    "##\n",
    "## For now I will leave these in, since it makes counting collaborations more consistent\n",
    "## However, I **think** these few very large collaborations may distort estimation of centrality measures\n",
    "##\n",
    "## That said, the removal of large collaborative projects is very subjective\n",
    "## And further, the exact threshold for determination of what is big (>10, >25, >50, >100, etc.) is quite subjective\n",
    "##"
   ]
  },
  {
   "cell_type": "code",
   "execution_count": 25,
   "id": "b2e81f39",
   "metadata": {},
   "outputs": [
    {
     "data": {
      "text/plain": [
       "num_authors_flag\n",
       "FALSE  TRUE \n",
       "12597   501 "
      ]
     },
     "metadata": {},
     "output_type": "display_data"
    }
   ],
   "source": [
    "## Create flag and drop articles with very many authors (say num_authors>25)\n",
    "num_authors_flag <- num_authors>25\n",
    "table(num_authors_flag)"
   ]
  },
  {
   "cell_type": "code",
   "execution_count": 26,
   "id": "5fc2f391",
   "metadata": {},
   "outputs": [
    {
     "data": {
      "text/html": [
       "12597"
      ],
      "text/latex": [
       "12597"
      ],
      "text/markdown": [
       "12597"
      ],
      "text/plain": [
       "[1] 12597"
      ]
     },
     "metadata": {},
     "output_type": "display_data"
    }
   ],
   "source": [
    "eid_split <- eid_split[!num_authors_flag]\n",
    "length(eid_split)"
   ]
  },
  {
   "cell_type": "code",
   "execution_count": null,
   "id": "0167bb9e",
   "metadata": {},
   "outputs": [],
   "source": []
  },
  {
   "cell_type": "code",
   "execution_count": null,
   "id": "f550810d",
   "metadata": {},
   "outputs": [],
   "source": []
  },
  {
   "cell_type": "code",
   "execution_count": null,
   "id": "8b3d4cb0",
   "metadata": {},
   "outputs": [],
   "source": []
  },
  {
   "cell_type": "code",
   "execution_count": 27,
   "id": "5e77d266",
   "metadata": {},
   "outputs": [
    {
     "data": {
      "text/plain": [
       "Time difference of 5.886382 secs"
      ]
     },
     "metadata": {},
     "output_type": "display_data"
    }
   ],
   "source": [
    "##\n",
    "## Get Author Pairs DF --- Note: this is based on unique Scopus ID (an assumption; noting we could use given name)\n",
    "##\n",
    "t0 <- Sys.time()\n",
    "\n",
    "author_pairs_list <- lapply(eid_split, function(x) subset(expand.grid(x$ids, x$ids),Var1!=Var2))\n",
    "el_auth <- do.call(\"rbind\", author_pairs_list)\n",
    "names(el_auth) <- c(\"Auth1\",\"Auth2\")\n",
    "el_auth$Auth1 <- as.character(el_auth$Auth1)\n",
    "el_auth$Auth2 <- as.character(el_auth$Auth2)\n",
    "\n",
    "t1 <- Sys.time()\n",
    "t1-t0"
   ]
  },
  {
   "cell_type": "code",
   "execution_count": 28,
   "id": "267c3ce9",
   "metadata": {},
   "outputs": [
    {
     "data": {
      "text/html": [
       "<ol>\n",
       "\t<li><style>\n",
       ".list-inline {list-style: none; margin:0; padding: 0}\n",
       ".list-inline>li {display: inline-block}\n",
       ".list-inline>li:not(:last-child)::after {content: \"\\00b7\"; padding: 0 .5ex}\n",
       "</style>\n",
       "<ol class=list-inline><li>898788</li><li>2</li></ol>\n",
       "</li>\n",
       "\t<li>36176</li>\n",
       "</ol>\n"
      ],
      "text/latex": [
       "\\begin{enumerate}\n",
       "\\item \\begin{enumerate*}\n",
       "\\item 898788\n",
       "\\item 2\n",
       "\\end{enumerate*}\n",
       "\n",
       "\\item 36176\n",
       "\\end{enumerate}\n"
      ],
      "text/markdown": [
       "1. 1. 898788\n",
       "2. 2\n",
       "\n",
       "\n",
       "\n",
       "2. 36176\n",
       "\n",
       "\n"
      ],
      "text/plain": [
       "[[1]]\n",
       "[1] 898788      2\n",
       "\n",
       "[[2]]\n",
       "[1] 36176\n"
      ]
     },
     "metadata": {},
     "output_type": "display_data"
    }
   ],
   "source": [
    "list(\n",
    "    #str(el_auth),\n",
    "    dim(el_auth),\n",
    "    length(unique(c(el_auth$Auth1, el_auth$Auth2)))\n",
    ")"
   ]
  },
  {
   "cell_type": "code",
   "execution_count": 29,
   "id": "339ea27a",
   "metadata": {},
   "outputs": [],
   "source": [
    "## \n",
    "## Note: the dimension above are essentially the number of vertex-to-vertex ties/edges\n",
    "## Note: we DOUBLE COUNT above; since we include both a->b and b->a type ties\n",
    "## Note: we have EXCLUDED the a->a type ties/edges\n",
    "## \n",
    "## Hence...the total number of ties is nrow(el_auth)/2\n",
    "##"
   ]
  },
  {
   "cell_type": "code",
   "execution_count": 30,
   "id": "c960e899",
   "metadata": {},
   "outputs": [
    {
     "data": {
      "text/html": [
       "449394"
      ],
      "text/latex": [
       "449394"
      ],
      "text/markdown": [
       "449394"
      ],
      "text/plain": [
       "[1] 449394"
      ]
     },
     "metadata": {},
     "output_type": "display_data"
    }
   ],
   "source": [
    "## Total number of unique ties/edges\n",
    "nrow(el_auth)/2"
   ]
  },
  {
   "cell_type": "code",
   "execution_count": 31,
   "id": "efe731c6",
   "metadata": {},
   "outputs": [],
   "source": [
    "##\n",
    "## Note: this number/estimate is IMO greatly inflated because of some outlying LARGE studies\n",
    "##\n",
    "## For example, our largest study contains 3300ish authors --- this study alone creates choose(3300,2) ties ~ 5M\n",
    "##"
   ]
  },
  {
   "cell_type": "code",
   "execution_count": 32,
   "id": "68160cc4",
   "metadata": {},
   "outputs": [
    {
     "data": {
      "text/html": [
       "<table class=\"dataframe\">\n",
       "<caption>A data.frame: 6 × 2</caption>\n",
       "<thead>\n",
       "\t<tr><th></th><th scope=col>Auth1</th><th scope=col>Auth2</th></tr>\n",
       "\t<tr><th></th><th scope=col>&lt;chr&gt;</th><th scope=col>&lt;chr&gt;</th></tr>\n",
       "</thead>\n",
       "<tbody>\n",
       "\t<tr><th scope=row>2-s2.0-79960678065.2</th><td>6603627308 </td><td>23498419200</td></tr>\n",
       "\t<tr><th scope=row>2-s2.0-79960678065.3</th><td>7201918014 </td><td>23498419200</td></tr>\n",
       "\t<tr><th scope=row>2-s2.0-79960678065.4</th><td>7003757445 </td><td>23498419200</td></tr>\n",
       "\t<tr><th scope=row>2-s2.0-79960678065.5</th><td>8240813400 </td><td>23498419200</td></tr>\n",
       "\t<tr><th scope=row>2-s2.0-79960678065.6</th><td>23498419200</td><td>6603627308 </td></tr>\n",
       "\t<tr><th scope=row>2-s2.0-79960678065.8</th><td>7201918014 </td><td>6603627308 </td></tr>\n",
       "</tbody>\n",
       "</table>\n"
      ],
      "text/latex": [
       "A data.frame: 6 × 2\n",
       "\\begin{tabular}{r|ll}\n",
       "  & Auth1 & Auth2\\\\\n",
       "  & <chr> & <chr>\\\\\n",
       "\\hline\n",
       "\t2-s2.0-79960678065.2 & 6603627308  & 23498419200\\\\\n",
       "\t2-s2.0-79960678065.3 & 7201918014  & 23498419200\\\\\n",
       "\t2-s2.0-79960678065.4 & 7003757445  & 23498419200\\\\\n",
       "\t2-s2.0-79960678065.5 & 8240813400  & 23498419200\\\\\n",
       "\t2-s2.0-79960678065.6 & 23498419200 & 6603627308 \\\\\n",
       "\t2-s2.0-79960678065.8 & 7201918014  & 6603627308 \\\\\n",
       "\\end{tabular}\n"
      ],
      "text/markdown": [
       "\n",
       "A data.frame: 6 × 2\n",
       "\n",
       "| <!--/--> | Auth1 &lt;chr&gt; | Auth2 &lt;chr&gt; |\n",
       "|---|---|---|\n",
       "| 2-s2.0-79960678065.2 | 6603627308  | 23498419200 |\n",
       "| 2-s2.0-79960678065.3 | 7201918014  | 23498419200 |\n",
       "| 2-s2.0-79960678065.4 | 7003757445  | 23498419200 |\n",
       "| 2-s2.0-79960678065.5 | 8240813400  | 23498419200 |\n",
       "| 2-s2.0-79960678065.6 | 23498419200 | 6603627308  |\n",
       "| 2-s2.0-79960678065.8 | 7201918014  | 6603627308  |\n",
       "\n"
      ],
      "text/plain": [
       "                     Auth1       Auth2      \n",
       "2-s2.0-79960678065.2 6603627308  23498419200\n",
       "2-s2.0-79960678065.3 7201918014  23498419200\n",
       "2-s2.0-79960678065.4 7003757445  23498419200\n",
       "2-s2.0-79960678065.5 8240813400  23498419200\n",
       "2-s2.0-79960678065.6 23498419200 6603627308 \n",
       "2-s2.0-79960678065.8 7201918014  6603627308 "
      ]
     },
     "metadata": {},
     "output_type": "display_data"
    }
   ],
   "source": [
    "head(el_auth)"
   ]
  },
  {
   "cell_type": "code",
   "execution_count": null,
   "id": "896634be",
   "metadata": {},
   "outputs": [],
   "source": []
  },
  {
   "cell_type": "code",
   "execution_count": 33,
   "id": "9c21cd78",
   "metadata": {},
   "outputs": [
    {
     "data": {
      "text/html": [
       "<style>\n",
       ".list-inline {list-style: none; margin:0; padding: 0}\n",
       ".list-inline>li {display: inline-block}\n",
       ".list-inline>li:not(:last-child)::after {content: \"\\00b7\"; padding: 0 .5ex}\n",
       "</style>\n",
       "<ol class=list-inline><li>898788</li><li>2</li></ol>\n"
      ],
      "text/latex": [
       "\\begin{enumerate*}\n",
       "\\item 898788\n",
       "\\item 2\n",
       "\\end{enumerate*}\n"
      ],
      "text/markdown": [
       "1. 898788\n",
       "2. 2\n",
       "\n",
       "\n"
      ],
      "text/plain": [
       "[1] 898788      2"
      ]
     },
     "metadata": {},
     "output_type": "display_data"
    }
   ],
   "source": [
    "###############################\n",
    "##\n",
    "## Grab all co-author pairs - for coauthorship network analysis\n",
    "##\n",
    "###############################\n",
    "\n",
    "##\n",
    "## Create network graph from directed citation edge-list\n",
    "##\n",
    "\n",
    "el_auth <- el_auth[!is.na(el_auth$Auth1), ]\n",
    "el_auth <- el_auth[!is.na(el_auth$Auth2), ]\n",
    "el_auth <- el_auth[el_auth$Auth1 != \"\", ]\n",
    "el_auth <- el_auth[el_auth$Auth2 != \"\", ]\n",
    "dim(el_auth)"
   ]
  },
  {
   "cell_type": "code",
   "execution_count": 34,
   "id": "aeedffad",
   "metadata": {},
   "outputs": [
    {
     "data": {
      "text/plain": [
       "Time difference of 3.496851 secs"
      ]
     },
     "metadata": {},
     "output_type": "display_data"
    }
   ],
   "source": [
    "## Co-Authorship Network Graph\n",
    "t0 <- Sys.time()\n",
    "g_auth <- graph_from_edgelist(el=as.matrix(el_auth), directed=FALSE)\n",
    "t1 <- Sys.time()\n",
    "t1-t0\n",
    "\n",
    "saveRDS(g_auth, file=\"D:\\\\CopyZ_30Nov2020\\\\DFCM_Docs\\\\DFCM_Researchers\\\\PeterSelby\\\\MineScopus_DFCM_National_International_PrimaryCareResearchPrograms\\\\Output_NetworkAnalysis\\\\Author_Network.RDS\")\n",
    "# g_auth <- readRDS(file=\"C:\\\\Users\\\\ChristopherMeaney\\\\Desktop\\\\FamMedTopicModel\\\\mine_dfcm_scopus\\\\Author_Network.RDS\")"
   ]
  },
  {
   "cell_type": "code",
   "execution_count": 35,
   "id": "58bede9e",
   "metadata": {},
   "outputs": [],
   "source": [
    "##\n",
    "## Assign color attributes to graph\n",
    "##\n",
    "\n",
    "## Color for all persons not faculty/staff in one of our bottom-up sampled N=17 institutions\n",
    "V(g_auth)$color <- \"black\"\n",
    "\n",
    "## Rainbow colors for everyone else in one of the N=17 institutions\n",
    "V(g_auth)$color[which(V(g_auth)$name %in% scopus_df_uniq[scopus_df_uniq$au_institution==\"Toronto\", \"au_id\"])] <- rainbow(17)[1]\n",
    "V(g_auth)$color[which(V(g_auth)$name %in% scopus_df_uniq[scopus_df_uniq$au_institution==\"Ottawa\", \"au_id\"])] <- rainbow(17)[2]\n",
    "V(g_auth)$color[which(V(g_auth)$name %in% scopus_df_uniq[scopus_df_uniq$au_institution==\"McGill\", \"au_id\"])] <- rainbow(17)[3]\n",
    "V(g_auth)$color[which(V(g_auth)$name %in% scopus_df_uniq[scopus_df_uniq$au_institution==\"Laval\", \"au_id\"])] <- rainbow(17)[4]\n",
    "V(g_auth)$color[which(V(g_auth)$name %in% scopus_df_uniq[scopus_df_uniq$au_institution==\"UBC\", \"au_id\"])] <- rainbow(17)[5]\n",
    "V(g_auth)$color[which(V(g_auth)$name %in% scopus_df_uniq[scopus_df_uniq$au_institution==\"Harvard\", \"au_id\"])] <- rainbow(17)[6]\n",
    "V(g_auth)$color[which(V(g_auth)$name %in% scopus_df_uniq[scopus_df_uniq$au_institution==\"Dartmouth\", \"au_id\"])] <- rainbow(17)[7]\n",
    "V(g_auth)$color[which(V(g_auth)$name %in% scopus_df_uniq[scopus_df_uniq$au_institution==\"Duke\", \"au_id\"])] <- rainbow(17)[8]\n",
    "V(g_auth)$color[which(V(g_auth)$name %in% scopus_df_uniq[scopus_df_uniq$au_institution==\"UCSF\", \"au_id\"])] <- rainbow(17)[9]\n",
    "V(g_auth)$color[which(V(g_auth)$name %in% scopus_df_uniq[scopus_df_uniq$au_institution==\"Michigan\", \"au_id\"])] <- rainbow(17)[10]\n",
    "V(g_auth)$color[which(V(g_auth)$name %in% scopus_df_uniq[scopus_df_uniq$au_institution==\"OHSU\", \"au_id\"])] <- rainbow(17)[11]\n",
    "V(g_auth)$color[which(V(g_auth)$name %in% scopus_df_uniq[scopus_df_uniq$au_institution==\"Oxford\", \"au_id\"])] <- rainbow(17)[12]\n",
    "V(g_auth)$color[which(V(g_auth)$name %in% scopus_df_uniq[scopus_df_uniq$au_institution==\"Cambridge\", \"au_id\"])] <- rainbow(17)[13]\n",
    "V(g_auth)$color[which(V(g_auth)$name %in% scopus_df_uniq[scopus_df_uniq$au_institution==\"UCL\", \"au_id\"])] <- rainbow(17)[14]\n",
    "V(g_auth)$color[which(V(g_auth)$name %in% scopus_df_uniq[scopus_df_uniq$au_institution==\"UNSW\", \"au_id\"])] <- rainbow(17)[15]\n",
    "V(g_auth)$color[which(V(g_auth)$name %in% scopus_df_uniq[scopus_df_uniq$au_institution==\"Monash\", \"au_id\"])] <- rainbow(17)[16]\n",
    "V(g_auth)$color[which(V(g_auth)$name %in% scopus_df_uniq[scopus_df_uniq$au_institution==\"HKU\", \"au_id\"])] <- rainbow(17)[17]"
   ]
  },
  {
   "cell_type": "code",
   "execution_count": 36,
   "id": "dfde4ed8",
   "metadata": {},
   "outputs": [
    {
     "data": {
      "text/html": [
       "<table class=\"dataframe\">\n",
       "<caption>A data.frame: 18 × 2</caption>\n",
       "<thead>\n",
       "\t<tr><th scope=col>col</th><th scope=col>col_freq</th></tr>\n",
       "\t<tr><th scope=col>&lt;fct&gt;</th><th scope=col>&lt;int&gt;</th></tr>\n",
       "</thead>\n",
       "<tbody>\n",
       "\t<tr><td>#001EFF</td><td>  165</td></tr>\n",
       "\t<tr><td>#0078FF</td><td>   19</td></tr>\n",
       "\t<tr><td>#00D2FF</td><td>   28</td></tr>\n",
       "\t<tr><td>#00FF1E</td><td>   45</td></tr>\n",
       "\t<tr><td>#00FF78</td><td>   13</td></tr>\n",
       "\t<tr><td>#00FFD2</td><td>   12</td></tr>\n",
       "\t<tr><td>#3C00FF</td><td>    8</td></tr>\n",
       "\t<tr><td>#3CFF00</td><td>   22</td></tr>\n",
       "\t<tr><td>#9600FF</td><td>   51</td></tr>\n",
       "\t<tr><td>#96FF00</td><td>   34</td></tr>\n",
       "\t<tr><td>#F000FF</td><td>    8</td></tr>\n",
       "\t<tr><td>#F0FF00</td><td>   30</td></tr>\n",
       "\t<tr><td>#FF0000</td><td>   72</td></tr>\n",
       "\t<tr><td>#FF005A</td><td>   11</td></tr>\n",
       "\t<tr><td>#FF00B4</td><td>   14</td></tr>\n",
       "\t<tr><td>#FF5A00</td><td>   19</td></tr>\n",
       "\t<tr><td>#FFB400</td><td>   31</td></tr>\n",
       "\t<tr><td>black  </td><td>35594</td></tr>\n",
       "</tbody>\n",
       "</table>\n"
      ],
      "text/latex": [
       "A data.frame: 18 × 2\n",
       "\\begin{tabular}{ll}\n",
       " col & col\\_freq\\\\\n",
       " <fct> & <int>\\\\\n",
       "\\hline\n",
       "\t \\#001EFF &   165\\\\\n",
       "\t \\#0078FF &    19\\\\\n",
       "\t \\#00D2FF &    28\\\\\n",
       "\t \\#00FF1E &    45\\\\\n",
       "\t \\#00FF78 &    13\\\\\n",
       "\t \\#00FFD2 &    12\\\\\n",
       "\t \\#3C00FF &     8\\\\\n",
       "\t \\#3CFF00 &    22\\\\\n",
       "\t \\#9600FF &    51\\\\\n",
       "\t \\#96FF00 &    34\\\\\n",
       "\t \\#F000FF &     8\\\\\n",
       "\t \\#F0FF00 &    30\\\\\n",
       "\t \\#FF0000 &    72\\\\\n",
       "\t \\#FF005A &    11\\\\\n",
       "\t \\#FF00B4 &    14\\\\\n",
       "\t \\#FF5A00 &    19\\\\\n",
       "\t \\#FFB400 &    31\\\\\n",
       "\t black   & 35594\\\\\n",
       "\\end{tabular}\n"
      ],
      "text/markdown": [
       "\n",
       "A data.frame: 18 × 2\n",
       "\n",
       "| col &lt;fct&gt; | col_freq &lt;int&gt; |\n",
       "|---|---|\n",
       "| #001EFF |   165 |\n",
       "| #0078FF |    19 |\n",
       "| #00D2FF |    28 |\n",
       "| #00FF1E |    45 |\n",
       "| #00FF78 |    13 |\n",
       "| #00FFD2 |    12 |\n",
       "| #3C00FF |     8 |\n",
       "| #3CFF00 |    22 |\n",
       "| #9600FF |    51 |\n",
       "| #96FF00 |    34 |\n",
       "| #F000FF |     8 |\n",
       "| #F0FF00 |    30 |\n",
       "| #FF0000 |    72 |\n",
       "| #FF005A |    11 |\n",
       "| #FF00B4 |    14 |\n",
       "| #FF5A00 |    19 |\n",
       "| #FFB400 |    31 |\n",
       "| black   | 35594 |\n",
       "\n"
      ],
      "text/plain": [
       "   col     col_freq\n",
       "1  #001EFF   165   \n",
       "2  #0078FF    19   \n",
       "3  #00D2FF    28   \n",
       "4  #00FF1E    45   \n",
       "5  #00FF78    13   \n",
       "6  #00FFD2    12   \n",
       "7  #3C00FF     8   \n",
       "8  #3CFF00    22   \n",
       "9  #9600FF    51   \n",
       "10 #96FF00    34   \n",
       "11 #F000FF     8   \n",
       "12 #F0FF00    30   \n",
       "13 #FF0000    72   \n",
       "14 #FF005A    11   \n",
       "15 #FF00B4    14   \n",
       "16 #FF5A00    19   \n",
       "17 #FFB400    31   \n",
       "18 black   35594   "
      ]
     },
     "metadata": {},
     "output_type": "display_data"
    }
   ],
   "source": [
    "## Check how many people assigned to each color\n",
    "col_freq_df <- data.frame(table(V(g_auth)$color))\n",
    "names(col_freq_df) <- c(\"col\", \"col_freq\")\n",
    "col_freq_df"
   ]
  },
  {
   "cell_type": "code",
   "execution_count": 37,
   "id": "7f6c8a2a",
   "metadata": {},
   "outputs": [
    {
     "data": {
      "text/html": [
       "<table class=\"dataframe\">\n",
       "<caption>A data.frame: 17 × 2</caption>\n",
       "<thead>\n",
       "\t<tr><th scope=col>inst</th><th scope=col>au_freq</th></tr>\n",
       "\t<tr><th scope=col>&lt;fct&gt;</th><th scope=col>&lt;int&gt;</th></tr>\n",
       "</thead>\n",
       "<tbody>\n",
       "\t<tr><td>Cambridge</td><td>  8</td></tr>\n",
       "\t<tr><td>Dartmouth</td><td> 48</td></tr>\n",
       "\t<tr><td>Duke     </td><td> 13</td></tr>\n",
       "\t<tr><td>Harvard  </td><td> 22</td></tr>\n",
       "\t<tr><td>HKU      </td><td> 11</td></tr>\n",
       "\t<tr><td>Laval    </td><td> 30</td></tr>\n",
       "\t<tr><td>McGill   </td><td> 31</td></tr>\n",
       "\t<tr><td>Michigan </td><td> 28</td></tr>\n",
       "\t<tr><td>Monash   </td><td> 15</td></tr>\n",
       "\t<tr><td>OHSU     </td><td> 19</td></tr>\n",
       "\t<tr><td>Ottawa   </td><td> 19</td></tr>\n",
       "\t<tr><td>Oxford   </td><td>169</td></tr>\n",
       "\t<tr><td>Toronto  </td><td> 72</td></tr>\n",
       "\t<tr><td>UBC      </td><td> 35</td></tr>\n",
       "\t<tr><td>UCL      </td><td> 51</td></tr>\n",
       "\t<tr><td>UCSF     </td><td> 12</td></tr>\n",
       "\t<tr><td>UNSW     </td><td>  8</td></tr>\n",
       "</tbody>\n",
       "</table>\n"
      ],
      "text/latex": [
       "A data.frame: 17 × 2\n",
       "\\begin{tabular}{ll}\n",
       " inst & au\\_freq\\\\\n",
       " <fct> & <int>\\\\\n",
       "\\hline\n",
       "\t Cambridge &   8\\\\\n",
       "\t Dartmouth &  48\\\\\n",
       "\t Duke      &  13\\\\\n",
       "\t Harvard   &  22\\\\\n",
       "\t HKU       &  11\\\\\n",
       "\t Laval     &  30\\\\\n",
       "\t McGill    &  31\\\\\n",
       "\t Michigan  &  28\\\\\n",
       "\t Monash    &  15\\\\\n",
       "\t OHSU      &  19\\\\\n",
       "\t Ottawa    &  19\\\\\n",
       "\t Oxford    & 169\\\\\n",
       "\t Toronto   &  72\\\\\n",
       "\t UBC       &  35\\\\\n",
       "\t UCL       &  51\\\\\n",
       "\t UCSF      &  12\\\\\n",
       "\t UNSW      &   8\\\\\n",
       "\\end{tabular}\n"
      ],
      "text/markdown": [
       "\n",
       "A data.frame: 17 × 2\n",
       "\n",
       "| inst &lt;fct&gt; | au_freq &lt;int&gt; |\n",
       "|---|---|\n",
       "| Cambridge |   8 |\n",
       "| Dartmouth |  48 |\n",
       "| Duke      |  13 |\n",
       "| Harvard   |  22 |\n",
       "| HKU       |  11 |\n",
       "| Laval     |  30 |\n",
       "| McGill    |  31 |\n",
       "| Michigan  |  28 |\n",
       "| Monash    |  15 |\n",
       "| OHSU      |  19 |\n",
       "| Ottawa    |  19 |\n",
       "| Oxford    | 169 |\n",
       "| Toronto   |  72 |\n",
       "| UBC       |  35 |\n",
       "| UCL       |  51 |\n",
       "| UCSF      |  12 |\n",
       "| UNSW      |   8 |\n",
       "\n"
      ],
      "text/plain": [
       "   inst      au_freq\n",
       "1  Cambridge   8    \n",
       "2  Dartmouth  48    \n",
       "3  Duke       13    \n",
       "4  Harvard    22    \n",
       "5  HKU        11    \n",
       "6  Laval      30    \n",
       "7  McGill     31    \n",
       "8  Michigan   28    \n",
       "9  Monash     15    \n",
       "10 OHSU       19    \n",
       "11 Ottawa     19    \n",
       "12 Oxford    169    \n",
       "13 Toronto    72    \n",
       "14 UBC        35    \n",
       "15 UCL        51    \n",
       "16 UCSF       12    \n",
       "17 UNSW        8    "
      ]
     },
     "metadata": {},
     "output_type": "display_data"
    }
   ],
   "source": [
    "## Check how many people assigned to each institution\n",
    "au_freq_df <- data.frame(table(scopus_df_uniq$au_institution))\n",
    "names(au_freq_df) <- c(\"inst\", \"au_freq\")\n",
    "au_freq_df"
   ]
  },
  {
   "cell_type": "code",
   "execution_count": 38,
   "id": "f01c7d7a",
   "metadata": {},
   "outputs": [
    {
     "data": {
      "text/html": [
       "<table class=\"dataframe\">\n",
       "<caption>A data.frame: 18 × 4</caption>\n",
       "<thead>\n",
       "\t<tr><th scope=col>col</th><th scope=col>inst</th><th scope=col>au_freq</th><th scope=col>col_freq</th></tr>\n",
       "\t<tr><th scope=col>&lt;chr&gt;</th><th scope=col>&lt;chr&gt;</th><th scope=col>&lt;int&gt;</th><th scope=col>&lt;int&gt;</th></tr>\n",
       "</thead>\n",
       "<tbody>\n",
       "\t<tr><td>#001EFF</td><td>Oxford   </td><td>169</td><td>  165</td></tr>\n",
       "\t<tr><td>#0078FF</td><td>OHSU     </td><td> 19</td><td>   19</td></tr>\n",
       "\t<tr><td>#00D2FF</td><td>Michigan </td><td> 28</td><td>   28</td></tr>\n",
       "\t<tr><td>#00FF1E</td><td>Dartmouth</td><td> 48</td><td>   45</td></tr>\n",
       "\t<tr><td>#00FF78</td><td>Duke     </td><td> 13</td><td>   13</td></tr>\n",
       "\t<tr><td>#00FFD2</td><td>UCSF     </td><td> 12</td><td>   12</td></tr>\n",
       "\t<tr><td>#3C00FF</td><td>Cambridge</td><td>  8</td><td>    8</td></tr>\n",
       "\t<tr><td>#3CFF00</td><td>Harvard  </td><td> 22</td><td>   22</td></tr>\n",
       "\t<tr><td>#9600FF</td><td>UCL      </td><td> 51</td><td>   51</td></tr>\n",
       "\t<tr><td>#96FF00</td><td>UBC      </td><td> 35</td><td>   34</td></tr>\n",
       "\t<tr><td>#F000FF</td><td>UNSW     </td><td>  8</td><td>    8</td></tr>\n",
       "\t<tr><td>#F0FF00</td><td>Laval    </td><td> 30</td><td>   30</td></tr>\n",
       "\t<tr><td>#FF0000</td><td>Toronto  </td><td> 72</td><td>   72</td></tr>\n",
       "\t<tr><td>#FF005A</td><td>HKU      </td><td> 11</td><td>   11</td></tr>\n",
       "\t<tr><td>#FF00B4</td><td>Monash   </td><td> 15</td><td>   14</td></tr>\n",
       "\t<tr><td>#FF5A00</td><td>Ottawa   </td><td> 19</td><td>   19</td></tr>\n",
       "\t<tr><td>#FFB400</td><td>McGill   </td><td> 31</td><td>   31</td></tr>\n",
       "\t<tr><td>black  </td><td>NA       </td><td> NA</td><td>35594</td></tr>\n",
       "</tbody>\n",
       "</table>\n"
      ],
      "text/latex": [
       "A data.frame: 18 × 4\n",
       "\\begin{tabular}{llll}\n",
       " col & inst & au\\_freq & col\\_freq\\\\\n",
       " <chr> & <chr> & <int> & <int>\\\\\n",
       "\\hline\n",
       "\t \\#001EFF & Oxford    & 169 &   165\\\\\n",
       "\t \\#0078FF & OHSU      &  19 &    19\\\\\n",
       "\t \\#00D2FF & Michigan  &  28 &    28\\\\\n",
       "\t \\#00FF1E & Dartmouth &  48 &    45\\\\\n",
       "\t \\#00FF78 & Duke      &  13 &    13\\\\\n",
       "\t \\#00FFD2 & UCSF      &  12 &    12\\\\\n",
       "\t \\#3C00FF & Cambridge &   8 &     8\\\\\n",
       "\t \\#3CFF00 & Harvard   &  22 &    22\\\\\n",
       "\t \\#9600FF & UCL       &  51 &    51\\\\\n",
       "\t \\#96FF00 & UBC       &  35 &    34\\\\\n",
       "\t \\#F000FF & UNSW      &   8 &     8\\\\\n",
       "\t \\#F0FF00 & Laval     &  30 &    30\\\\\n",
       "\t \\#FF0000 & Toronto   &  72 &    72\\\\\n",
       "\t \\#FF005A & HKU       &  11 &    11\\\\\n",
       "\t \\#FF00B4 & Monash    &  15 &    14\\\\\n",
       "\t \\#FF5A00 & Ottawa    &  19 &    19\\\\\n",
       "\t \\#FFB400 & McGill    &  31 &    31\\\\\n",
       "\t black   & NA        &  NA & 35594\\\\\n",
       "\\end{tabular}\n"
      ],
      "text/markdown": [
       "\n",
       "A data.frame: 18 × 4\n",
       "\n",
       "| col &lt;chr&gt; | inst &lt;chr&gt; | au_freq &lt;int&gt; | col_freq &lt;int&gt; |\n",
       "|---|---|---|---|\n",
       "| #001EFF | Oxford    | 169 |   165 |\n",
       "| #0078FF | OHSU      |  19 |    19 |\n",
       "| #00D2FF | Michigan  |  28 |    28 |\n",
       "| #00FF1E | Dartmouth |  48 |    45 |\n",
       "| #00FF78 | Duke      |  13 |    13 |\n",
       "| #00FFD2 | UCSF      |  12 |    12 |\n",
       "| #3C00FF | Cambridge |   8 |     8 |\n",
       "| #3CFF00 | Harvard   |  22 |    22 |\n",
       "| #9600FF | UCL       |  51 |    51 |\n",
       "| #96FF00 | UBC       |  35 |    34 |\n",
       "| #F000FF | UNSW      |   8 |     8 |\n",
       "| #F0FF00 | Laval     |  30 |    30 |\n",
       "| #FF0000 | Toronto   |  72 |    72 |\n",
       "| #FF005A | HKU       |  11 |    11 |\n",
       "| #FF00B4 | Monash    |  15 |    14 |\n",
       "| #FF5A00 | Ottawa    |  19 |    19 |\n",
       "| #FFB400 | McGill    |  31 |    31 |\n",
       "| black   | NA        |  NA | 35594 |\n",
       "\n"
      ],
      "text/plain": [
       "   col     inst      au_freq col_freq\n",
       "1  #001EFF Oxford    169       165   \n",
       "2  #0078FF OHSU       19        19   \n",
       "3  #00D2FF Michigan   28        28   \n",
       "4  #00FF1E Dartmouth  48        45   \n",
       "5  #00FF78 Duke       13        13   \n",
       "6  #00FFD2 UCSF       12        12   \n",
       "7  #3C00FF Cambridge   8         8   \n",
       "8  #3CFF00 Harvard    22        22   \n",
       "9  #9600FF UCL        51        51   \n",
       "10 #96FF00 UBC        35        34   \n",
       "11 #F000FF UNSW        8         8   \n",
       "12 #F0FF00 Laval      30        30   \n",
       "13 #FF0000 Toronto    72        72   \n",
       "14 #FF005A HKU        11        11   \n",
       "15 #FF00B4 Monash     15        14   \n",
       "16 #FF5A00 Ottawa     19        19   \n",
       "17 #FFB400 McGill     31        31   \n",
       "18 black   NA         NA     35594   "
      ]
     },
     "metadata": {},
     "output_type": "display_data"
    }
   ],
   "source": [
    "## Merge above data into data.frame created below\n",
    "inst_names <- c(\"Toronto\",\n",
    "                \"Ottawa\",\n",
    "               \"McGill\",\n",
    "               \"Laval\",\n",
    "               \"UBC\",\n",
    "               \"Harvard\",\n",
    "               \"Dartmouth\",\n",
    "               \"Duke\",\n",
    "               \"UCSF\",\n",
    "               \"Michigan\",\n",
    "               \"OHSU\",\n",
    "               \"Oxford\",\n",
    "               \"Cambridge\",\n",
    "               \"UCL\",\n",
    "               \"UNSW\",\n",
    "               \"Monash\",\n",
    "               \"HKU\")\n",
    "\n",
    "pal <- data.frame(col=rainbow(17), inst=inst_names)\n",
    "\n",
    "pal <- merge(x=pal, y=au_freq_df, by=\"inst\", all=TRUE)\n",
    "pal <- merge(x=pal, y=col_freq_df, by=\"col\", all=TRUE)\n",
    "\n",
    "## This shows that we lose a few people in the network graph --- since they must not be included in Scopus IDs\n",
    "## This could be an issue of how they are assigned Scopus IDs??\n",
    "pal"
   ]
  },
  {
   "cell_type": "code",
   "execution_count": null,
   "id": "bb4afffe",
   "metadata": {},
   "outputs": [],
   "source": []
  },
  {
   "cell_type": "code",
   "execution_count": null,
   "id": "489213a1",
   "metadata": {},
   "outputs": [],
   "source": []
  },
  {
   "cell_type": "code",
   "execution_count": null,
   "id": "4b2a318a",
   "metadata": {},
   "outputs": [],
   "source": []
  },
  {
   "cell_type": "code",
   "execution_count": null,
   "id": "6b14b7d5",
   "metadata": {},
   "outputs": [],
   "source": []
  },
  {
   "cell_type": "code",
   "execution_count": 39,
   "id": "4c9c54fc",
   "metadata": {},
   "outputs": [
    {
     "data": {
      "text/html": [
       "<ol>\n",
       "\t<li><style>\n",
       ".list-inline {list-style: none; margin:0; padding: 0}\n",
       ".list-inline>li {display: inline-block}\n",
       ".list-inline>li:not(:last-child)::after {content: \"\\00b7\"; padding: 0 .5ex}\n",
       "</style>\n",
       "<ol class=list-inline><li>898788</li><li>2</li></ol>\n",
       "</li>\n",
       "\t<li>36176</li>\n",
       "\t<li>36176</li>\n",
       "\t<li>36176</li>\n",
       "</ol>\n"
      ],
      "text/latex": [
       "\\begin{enumerate}\n",
       "\\item \\begin{enumerate*}\n",
       "\\item 898788\n",
       "\\item 2\n",
       "\\end{enumerate*}\n",
       "\n",
       "\\item 36176\n",
       "\\item 36176\n",
       "\\item 36176\n",
       "\\end{enumerate}\n"
      ],
      "text/markdown": [
       "1. 1. 898788\n",
       "2. 2\n",
       "\n",
       "\n",
       "\n",
       "2. 36176\n",
       "3. 36176\n",
       "4. 36176\n",
       "\n",
       "\n"
      ],
      "text/plain": [
       "[[1]]\n",
       "[1] 898788      2\n",
       "\n",
       "[[2]]\n",
       "[1] 36176\n",
       "\n",
       "[[3]]\n",
       "[1] 36176\n",
       "\n",
       "[[4]]\n",
       "[1] 36176\n"
      ]
     },
     "metadata": {},
     "output_type": "display_data"
    }
   ],
   "source": [
    "#############################################\n",
    "##\n",
    "## Try to plot the co-author graph\n",
    "## https://kateto.net/wp-content/uploads/2016/01/NetSciX_2016_Workshop.pdf\n",
    "##\n",
    "#############################################\n",
    "\n",
    "## Number of authors\n",
    "\n",
    "list(\n",
    "dim(el_auth),\n",
    "length(unique(el_auth$Auth1)),\n",
    "length(unique(el_auth$Auth2)),\n",
    "length(unique(c(el_auth$Auth1, el_auth$Auth2)))\n",
    ")"
   ]
  },
  {
   "cell_type": "code",
   "execution_count": 40,
   "id": "a59ae126",
   "metadata": {},
   "outputs": [],
   "source": [
    "## Which names will be plotted on vertex\n",
    "\n",
    "# threshold <- 750\n",
    "# names(V(g_auth))[degree(g_auth)>threshold]\n",
    "\n",
    "#l <- layout.lgl(g_auth,  \n",
    "#       maxiter=150,\n",
    "#       maxdelta=vcount(g_auth),\n",
    "#       area=vcount(g_auth)^2,\n",
    "#       coolexp=1.5\n",
    "#       )"
   ]
  },
  {
   "cell_type": "code",
   "execution_count": 41,
   "id": "79d7f5f5",
   "metadata": {},
   "outputs": [
    {
     "data": {
      "image/png": "[encoded data removed]",
      "text/plain": [
       "Plot with title \"\""
      ]
     },
     "metadata": {
      "image/png": {
       "height": 960,
       "width": 960
      }
     },
     "output_type": "display_data"
    }
   ],
   "source": [
    "########\n",
    "## Kamada Kawai Force Direct Graph Layout\n",
    "########\n",
    "options(repr.plot.width=16, repr.plot.height=16)\n",
    "\n",
    "set.seed(54321) \n",
    "\n",
    "t0 <- Sys.time()\n",
    "\n",
    "l_kk <- layout_with_kk(g_auth)\n",
    "\n",
    "# pdf(\"D://CopyZ_30Nov2020//DFCM_Docs//DFCM_Researchers//PeterSelby//MineScopus_DFCM_National_International_PrimaryCareResearchPrograms//Output_NetworkAnalysis//IGraph_KK.pdf\")\n",
    "\n",
    "plot(g_auth, \n",
    "     layout=l_kk,  \n",
    "     ## Vertex attributes\n",
    "     #vertex.label = ifelse(degree(g_auth) > threshold, names(V(g_auth)), NA),\n",
    "     vertex.label = NA,\n",
    "     #vertex.label.cex=0.25,\n",
    "     #vertex.label.color=\"red\", \n",
    "     #vertex.label.font=2,\n",
    "     vertex.shape=\"circle\", \n",
    "     vertex.size=0.1, \n",
    "     vertex.color=V(g_auth)$color,\n",
    "     vertex.frame.color='black',\n",
    "     ## Edge attributes\n",
    "     edge.mode=0,\n",
    "     edge.color='grey90',\n",
    "     edge.arrow.size=0.1, \n",
    "     edge.width=0.1,\n",
    "     ## Other attributes\n",
    "     frame=TRUE\n",
    "     )\n",
    "\n",
    "# dev.off()\n",
    "\n",
    "t1 <- Sys.time()\n",
    "# t1-t0"
   ]
  },
  {
   "cell_type": "code",
   "execution_count": 42,
   "id": "29fb8aa9",
   "metadata": {},
   "outputs": [],
   "source": [
    "########\n",
    "## Kamada Kawai Force Direct Graph Layout\n",
    "########\n",
    "# set.seed(54321) \n",
    "\n",
    "# t0 <- Sys.time()\n",
    "\n",
    "# l_kk <- layout_with_kk(g_auth)\n",
    "\n",
    "# pdf(\"D://CopyZ_30Nov2020//DFCM_Docs//DFCM_Researchers//PeterSelby//MineScopus_DFCM_National_International_PrimaryCareResearchPrograms//Output_NetworkAnalysis//IGraph_KK.pdf\")\n",
    "\n",
    "# plot(g_auth, \n",
    "#     layout=l_kk,  \n",
    "#     ## Vertex attributes\n",
    "#     #vertex.label = ifelse(degree(g_auth) > threshold, names(V(g_auth)), NA),\n",
    "#     vertex.label = NA,\n",
    "#     #vertex.label.cex=0.25,\n",
    "#     #vertex.label.color=\"red\", \n",
    "#     #vertex.label.font=2,\n",
    "#     vertex.shape=\"circle\", \n",
    "#     vertex.size=0.1, \n",
    "#     vertex.color=\"black\",\n",
    "#     vertex.frame.color='black',\n",
    "#     ## Edge attributes\n",
    "#     edge.mode=0,\n",
    "#     edge.color='grey90',\n",
    "#     edge.arrow.size=0.1, \n",
    "#     edge.width=0.1,\n",
    "#     ## Other attributes\n",
    "#     frame=TRUE\n",
    "#     )\n",
    "\n",
    "# dev.off()\n",
    "\n",
    "# t1 <- Sys.time()\n",
    "# t1-t0"
   ]
  },
  {
   "cell_type": "code",
   "execution_count": null,
   "id": "97bcc722",
   "metadata": {},
   "outputs": [],
   "source": []
  },
  {
   "cell_type": "code",
   "execution_count": null,
   "id": "d92ea2ff",
   "metadata": {},
   "outputs": [],
   "source": []
  },
  {
   "cell_type": "code",
   "execution_count": null,
   "id": "8a15e372",
   "metadata": {},
   "outputs": [],
   "source": []
  },
  {
   "cell_type": "code",
   "execution_count": null,
   "id": "00b58f23",
   "metadata": {},
   "outputs": [],
   "source": []
  },
  {
   "cell_type": "code",
   "execution_count": null,
   "id": "87135251",
   "metadata": {},
   "outputs": [],
   "source": []
  },
  {
   "cell_type": "code",
   "execution_count": 43,
   "id": "2905d47a",
   "metadata": {},
   "outputs": [],
   "source": [
    "###########################\n",
    "## Session Information\n",
    "###########################"
   ]
  },
  {
   "cell_type": "code",
   "execution_count": 44,
   "id": "f107ef38",
   "metadata": {},
   "outputs": [
    {
     "data": {
      "text/html": [
       "<time datetime=\"2023-02-02\">2023-02-02</time>"
      ],
      "text/latex": [
       "2023-02-02"
      ],
      "text/markdown": [
       "2023-02-02"
      ],
      "text/plain": [
       "[1] \"2023-02-02\""
      ]
     },
     "metadata": {},
     "output_type": "display_data"
    }
   ],
   "source": [
    "Sys.Date()"
   ]
  },
  {
   "cell_type": "code",
   "execution_count": 45,
   "id": "10533b13",
   "metadata": {},
   "outputs": [
    {
     "data": {
      "text/plain": [
       "R version 4.1.3 (2022-03-10)\n",
       "Platform: x86_64-w64-mingw32/x64 (64-bit)\n",
       "Running under: Windows 10 x64 (build 17763)\n",
       "\n",
       "Matrix products: default\n",
       "\n",
       "locale:\n",
       "[1] LC_COLLATE=English_United States.1252 \n",
       "[2] LC_CTYPE=English_United States.1252   \n",
       "[3] LC_MONETARY=English_United States.1252\n",
       "[4] LC_NUMERIC=C                          \n",
       "[5] LC_TIME=English_United States.1252    \n",
       "\n",
       "attached base packages:\n",
       "[1] stats     graphics  grDevices utils     datasets  methods   base     \n",
       "\n",
       "other attached packages:\n",
       "[1] igraph_1.3.1\n",
       "\n",
       "loaded via a namespace (and not attached):\n",
       " [1] fansi_1.0.3     utf8_1.2.2      digest_0.6.29   crayon_1.5.1   \n",
       " [5] IRdisplay_1.1   repr_1.1.4      lifecycle_1.0.1 jsonlite_1.8.0 \n",
       " [9] magrittr_2.0.3  evaluate_0.15   pillar_1.7.0    rlang_1.0.2    \n",
       "[13] cli_3.3.0       uuid_1.1-0      vctrs_0.4.1     ellipsis_0.3.2 \n",
       "[17] IRkernel_1.3    tools_4.1.3     glue_1.6.2      fastmap_1.1.0  \n",
       "[21] compiler_4.1.3  pkgconfig_2.0.3 base64enc_0.1-3 pbdZMQ_0.3-7   \n",
       "[25] htmltools_0.5.2"
      ]
     },
     "metadata": {},
     "output_type": "display_data"
    }
   ],
   "source": [
    "sessionInfo()"
   ]
  },
  {
   "cell_type": "code",
   "execution_count": 46,
   "id": "27bf0c63",
   "metadata": {},
   "outputs": [
    {
     "data": {
      "text/plain": [
       "               _                           \n",
       "platform       x86_64-w64-mingw32          \n",
       "arch           x86_64                      \n",
       "os             mingw32                     \n",
       "system         x86_64, mingw32             \n",
       "status                                     \n",
       "major          4                           \n",
       "minor          1.3                         \n",
       "year           2022                        \n",
       "month          03                          \n",
       "day            10                          \n",
       "svn rev        81868                       \n",
       "language       R                           \n",
       "version.string R version 4.1.3 (2022-03-10)\n",
       "nickname       One Push-Up                 "
      ]
     },
     "metadata": {},
     "output_type": "display_data"
    }
   ],
   "source": [
    "version"
   ]
  },
  {
   "cell_type": "code",
   "execution_count": null,
   "id": "05c5c5eb",
   "metadata": {},
   "outputs": [],
   "source": []
  },
  {
   "cell_type": "code",
   "execution_count": null,
   "id": "331c6623",
   "metadata": {},
   "outputs": [],
   "source": []
  }
 ],
 "metadata": {
  "kernelspec": {
   "display_name": "R",
   "language": "R",
   "name": "ir"
  },
  "language_info": {
   "codemirror_mode": "r",
   "file_extension": ".r",
   "mimetype": "text/x-r-source",
   "name": "R",
   "pygments_lexer": "r",
   "version": "4.1.3"
  }
 },
 "nbformat": 4,
 "nbformat_minor": 5
}
