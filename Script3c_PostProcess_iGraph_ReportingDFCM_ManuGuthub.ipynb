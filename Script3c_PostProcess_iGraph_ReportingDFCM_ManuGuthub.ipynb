{
 "cells": [
  {
   "cell_type": "code",
   "execution_count": 1,
   "id": "c9938605",
   "metadata": {},
   "outputs": [],
   "source": [
    "###################################################\n",
    "## Post Process the primary care research corpus results --- structure author lists into edge list, network adjacency matrix\n",
    "##\n",
    "## Author: Chris Meaney\n",
    "## Date: January 2023\n",
    "###################################################"
   ]
  },
  {
   "cell_type": "code",
   "execution_count": 2,
   "id": "f024cecc",
   "metadata": {},
   "outputs": [
    {
     "name": "stderr",
     "output_type": "stream",
     "text": [
      "\n",
      "Attaching package: 'igraph'\n",
      "\n",
      "\n",
      "The following objects are masked from 'package:stats':\n",
      "\n",
      "    decompose, spectrum\n",
      "\n",
      "\n",
      "The following object is masked from 'package:base':\n",
      "\n",
      "    union\n",
      "\n",
      "\n"
     ]
    }
   ],
   "source": [
    "############\n",
    "## Dependencies\n",
    "############\n",
    "\n",
    "## For network analysis\n",
    "library(igraph)"
   ]
  },
  {
   "cell_type": "code",
   "execution_count": 3,
   "id": "d048ef7f",
   "metadata": {},
   "outputs": [],
   "source": [
    "##############\n",
    "## Filepaths to import data from disk, and export data to disk\n",
    "##############\n",
    "\n",
    "## Set working directory path\n",
    "wd_path <- \"Enter_a_Path_to_a_Working_Directory_For_This_Project\"\n",
    "\n",
    "## Import core scopus dataframe\n",
    "fpath_scopus <- paste0(wd_path, \"\\\\Core_Scopus_Dataset_Sm.csv\")\n",
    "\n",
    "## Import eid for edge list construction\n",
    "fpath_eid1 <- paste0(wd_path, \"\\\\Scopus_CoAuthNetwork_EID1.csv\")\n",
    "fpath_eid2 <- paste0(wd_path, \"\\\\Scopus_CoAuthNetwork_EID2.csv\")\n",
    "\n",
    "## Import author affiliation data\n",
    "affils_eid_fpath1 <- paste0(wd_path, \"//Scopus_CoAuthAffiliationNetwork_EID1.csv\")\n",
    "affils_eid_fpath2 <- paste0(wd_path, \"//Scopus_CoAuthAffiliationNetwork_EID2.csv\")\n",
    "\n",
    "## Import IDs \n",
    "ids_fpath <- paste0(wd_path, \"//Final_Combined_ScopusIdsFile_JayaSelena.csv\")"
   ]
  },
  {
   "cell_type": "code",
   "execution_count": null,
   "id": "d1008654",
   "metadata": {},
   "outputs": [],
   "source": []
  },
  {
   "cell_type": "code",
   "execution_count": null,
   "id": "549ee048",
   "metadata": {},
   "outputs": [],
   "source": []
  },
  {
   "cell_type": "code",
   "execution_count": 4,
   "id": "fd30e9a9",
   "metadata": {},
   "outputs": [
    {
     "name": "stdout",
     "output_type": "stream",
     "text": [
      "'data.frame':\t18874 obs. of  25 variables:\n",
      " $ au_id         : num  1e+10 1e+10 1e+10 1e+10 1e+10 ...\n",
      " $ prism_url     : chr  \"https://api.elsevier.com/content/abstract/scopus_id/85140976962\" \"https://api.elsevier.com/content/abstract/scopus_id/85121747496\" \"https://api.elsevier.com/content/abstract/scopus_id/85112107056\" \"https://api.elsevier.com/content/abstract/scopus_id/85118672412\" ...\n",
      " $ eid           : chr  \"2-s2.0-85140976962\" \"2-s2.0-85121747496\" \"2-s2.0-85112107056\" \"2-s2.0-85118672412\" ...\n",
      " $ doi           : chr  \"10.1016/j.socscimed.2022.115463\" \"10.1111/add.15760\" \"10.1016/j.socscimed.2021.114262\" \"10.3399/BJGP.2021.0195\" ...\n",
      " $ issn          : chr  \"02779536\" \"09652140\" \"02779536\" \"09601643\" ...\n",
      " $ eissn         : chr  \"18735347\" \"13600443\" \"18735347\" \"14785242\" ...\n",
      " $ pub_title     : chr  \"Brief opportunistic interventions by general practitioners to promote smoking cessation: A conversation analytic study\" \"The old and familiar meets the new and unknown: patient and clinician perceptions on e-cigarettes for smoking r\"| __truncated__ \"Patients’ use of the internet to negotiate about treatment\" \"Factors affecting the documentation of spoken safety-netting advice in routine GP consultations: A cross-sectional study\" ...\n",
      " $ pub_author    : chr  \"Wheat H.\" \"Albury C.\" \"Stevenson F.A.\" \"Edwards P.J.\" ...\n",
      " $ pub_journal   : chr  \"Social Science and Medicine\" \"Addiction\" \"Social Science and Medicine\" \"British Journal of General Practice\" ...\n",
      " $ pub_date      : chr  \"2022-12-01\" \"2022-05-01\" \"2021-12-01\" \"2021-11-01\" ...\n",
      " $ pub_abstract  : chr  \"Very brief opportunistic interventions for smoking cessation are effective, cost-saving for health systems, and\"| __truncated__ \"Background and Aims: Clinicians could promote e-cigarettes for harm reduction to people who smoke but cannot st\"| __truncated__ \"The internet provides access to a huge variety of information, including health information. There is, however,\"| __truncated__ \"Background Previous studies have reported how often safetynetting is documented in medical records, but it is n\"| __truncated__ ...\n",
      " $ pub_keywords  : chr  \"Conversation analysis | Primary care | Smoking | Very brief advice (VBA) intervention\" \"e-cigarettes | family practice | harm reduction | Primary care | qualitative interviews | smoking reduction\" \"Conversation analysis | Doctor-patient interaction | Internet | Primary care | UK | Video-recorded consultations\" \"Health communication | Medical records | Medicolegal | Patient safety | Primary care | Safetynetting\" ...\n",
      " $ pub_type      : chr  \"Journal\" \"Journal\" \"Journal\" \"Journal\" ...\n",
      " $ pub_subtype   : chr  \"Article\" \"Article\" \"Article\" \"Article\" ...\n",
      " $ open_access   : logi  TRUE TRUE FALSE TRUE TRUE TRUE ...\n",
      " $ fund_acr      : chr  \"OxBRC\" \"NIHR\" \"NIHR\" \"NIHR\" ...\n",
      " $ fund_num      : chr  \"C56718/A23874\" \"333\" \"undefined\" \"RCF 19/20-64E\" ...\n",
      " $ fund_sponsor  : chr  \"NIHR Oxford Biomedical Research Centre\" \"National Institute for Health and Care Research\" \"National Institute for Health Research\" \"National Institute for Health Research\" ...\n",
      " $ cited_count   : int  0 1 3 7 2 1 2 0 1 2 ...\n",
      " $ nam           : chr  \"RebeccaBarnes\" \"RebeccaBarnes\" \"RebeccaBarnes\" \"RebeccaBarnes\" ...\n",
      " $ id            : num  1e+10 1e+10 1e+10 1e+10 1e+10 ...\n",
      " $ pub_year      : int  2022 2022 2021 2021 2021 2021 2021 2021 2020 2020 ...\n",
      " $ au_country    : chr  \"UK\" \"UK\" \"UK\" \"UK\" ...\n",
      " $ au_institution: chr  \"Oxford\" \"Oxford\" \"Oxford\" \"Oxford\" ...\n",
      " $ au_name       : chr  \"RebeccaBarnes\" \"RebeccaBarnes\" \"RebeccaBarnes\" \"RebeccaBarnes\" ...\n"
     ]
    }
   ],
   "source": [
    "##################################\n",
    "## Import Scopus dataset\n",
    "##################################\n",
    "scopus_df <- read.csv(file=fpath_scopus, header=TRUE, sep=\",\", stringsAsFactors=FALSE)\n",
    "str(scopus_df)"
   ]
  },
  {
   "cell_type": "code",
   "execution_count": 5,
   "id": "5e482c41",
   "metadata": {},
   "outputs": [
    {
     "data": {
      "text/plain": [
       "\n",
       "2017 2018 2019 2020 2021 2022 \n",
       "2591 2811 2823 3075 3617 3957 "
      ]
     },
     "metadata": {},
     "output_type": "display_data"
    }
   ],
   "source": [
    "## Only keep publications from certain years --- 2000:2021\n",
    "table(scopus_df$pub_year)"
   ]
  },
  {
   "cell_type": "code",
   "execution_count": 6,
   "id": "702d2fc2",
   "metadata": {},
   "outputs": [
    {
     "data": {
      "text/plain": [
       "           \n",
       "            Canada Other   UK  USA\n",
       "  Cambridge      0     0  560    0\n",
       "  Dartmouth      0     0    0 1173\n",
       "  Duke           0     0    0  380\n",
       "  Harvard        0     0    0  485\n",
       "  HKU            0   648    0    0\n",
       "  Laval        785     0    0    0\n",
       "  McGill      1025     0    0    0\n",
       "  Michigan       0     0    0  793\n",
       "  Monash         0   455    0    0\n",
       "  OHSU           0     0    0  752\n",
       "  Ottawa       774     0    0    0\n",
       "  Oxford         0     0 5443    0\n",
       "  Toronto     2484     0    0    0\n",
       "  UBC          920     0    0    0\n",
       "  UCL            0     0 1526    0\n",
       "  UCSF           0     0    0  421\n",
       "  UNSW           0   250    0    0"
      ]
     },
     "metadata": {},
     "output_type": "display_data"
    }
   ],
   "source": [
    "## Map institution to region\n",
    "scopus_df$au_institution_country <- with(scopus_df, \n",
    "                                                       ifelse(au_institution %in% c(\"Toronto\",\"UBC\",\"McGill\",\"Laval\",\"Ottawa\"), \"Canada\",\n",
    "                                                       ifelse(au_institution %in% c(\"Dartmouth\",\"Michigan\",\"Duke\",\"OHSU\",\"UCSF\",\"Harvard\"), \"USA\",\n",
    "                                                       ifelse(au_institution %in% c(\"Oxford\", \"Cambridge\",\"UCL\"), \"UK\", \"Other\"))))\n",
    "\n",
    "table(scopus_df$au_institution, scopus_df$au_institution_country)"
   ]
  },
  {
   "cell_type": "code",
   "execution_count": 7,
   "id": "ab140296",
   "metadata": {},
   "outputs": [
    {
     "data": {
      "text/html": [
       "17"
      ],
      "text/latex": [
       "17"
      ],
      "text/markdown": [
       "17"
      ],
      "text/plain": [
       "[1] 17"
      ]
     },
     "metadata": {},
     "output_type": "display_data"
    }
   ],
   "source": [
    "## How many unique institutions\n",
    "length(unique(scopus_df$au_institution))"
   ]
  },
  {
   "cell_type": "code",
   "execution_count": 8,
   "id": "7305d91a",
   "metadata": {},
   "outputs": [
    {
     "data": {
      "text/html": [
       "591"
      ],
      "text/latex": [
       "591"
      ],
      "text/markdown": [
       "591"
      ],
      "text/plain": [
       "[1] 591"
      ]
     },
     "metadata": {},
     "output_type": "display_data"
    }
   ],
   "source": [
    "## How many unique authors\n",
    "length(unique(scopus_df$au_name))"
   ]
  },
  {
   "cell_type": "code",
   "execution_count": 9,
   "id": "007e98b3",
   "metadata": {},
   "outputs": [
    {
     "data": {
      "text/html": [
       "<style>\n",
       ".list-inline {list-style: none; margin:0; padding: 0}\n",
       ".list-inline>li {display: inline-block}\n",
       ".list-inline>li:not(:last-child)::after {content: \"\\00b7\"; padding: 0 .5ex}\n",
       "</style>\n",
       "<ol class=list-inline><li>591</li><li>3</li></ol>\n"
      ],
      "text/latex": [
       "\\begin{enumerate*}\n",
       "\\item 591\n",
       "\\item 3\n",
       "\\end{enumerate*}\n"
      ],
      "text/markdown": [
       "1. 591\n",
       "2. 3\n",
       "\n",
       "\n"
      ],
      "text/plain": [
       "[1] 591   3"
      ]
     },
     "metadata": {},
     "output_type": "display_data"
    }
   ],
   "source": [
    "## Get original set of authors (N=591) no duplicates\n",
    "scopus_df_uniq <- scopus_df[!(duplicated(scopus_df$au_name)), c(\"au_id\",\"au_name\",\"au_institution\")]\n",
    "dim(scopus_df_uniq)"
   ]
  },
  {
   "cell_type": "code",
   "execution_count": 10,
   "id": "d2cf9c05",
   "metadata": {},
   "outputs": [
    {
     "data": {
      "text/html": [
       "<table class=\"dataframe\">\n",
       "<caption>A data.frame: 6 × 3</caption>\n",
       "<thead>\n",
       "\t<tr><th></th><th scope=col>au_id</th><th scope=col>au_name</th><th scope=col>au_institution</th></tr>\n",
       "\t<tr><th></th><th scope=col>&lt;dbl&gt;</th><th scope=col>&lt;chr&gt;</th><th scope=col>&lt;chr&gt;</th></tr>\n",
       "</thead>\n",
       "<tbody>\n",
       "\t<tr><th scope=row>1</th><td>10041373600</td><td>RebeccaBarnes     </td><td>Oxford  </td></tr>\n",
       "\t<tr><th scope=row>34</th><td>10240446500</td><td>ChristineTCigolle </td><td>Michigan</td></tr>\n",
       "\t<tr><th scope=row>49</th><td>12791296200</td><td>ClaireKendall     </td><td>Ottawa  </td></tr>\n",
       "\t<tr><th scope=row>122</th><td>12804958400</td><td>MinaRuthSilberberg</td><td>Duke    </td></tr>\n",
       "\t<tr><th scope=row>137</th><td>14421205500</td><td>BertrandLebouche  </td><td>McGill  </td></tr>\n",
       "\t<tr><th scope=row>217</th><td>14826143300</td><td>ClaudeTopping     </td><td>Laval   </td></tr>\n",
       "</tbody>\n",
       "</table>\n"
      ],
      "text/latex": [
       "A data.frame: 6 × 3\n",
       "\\begin{tabular}{r|lll}\n",
       "  & au\\_id & au\\_name & au\\_institution\\\\\n",
       "  & <dbl> & <chr> & <chr>\\\\\n",
       "\\hline\n",
       "\t1 & 10041373600 & RebeccaBarnes      & Oxford  \\\\\n",
       "\t34 & 10240446500 & ChristineTCigolle  & Michigan\\\\\n",
       "\t49 & 12791296200 & ClaireKendall      & Ottawa  \\\\\n",
       "\t122 & 12804958400 & MinaRuthSilberberg & Duke    \\\\\n",
       "\t137 & 14421205500 & BertrandLebouche   & McGill  \\\\\n",
       "\t217 & 14826143300 & ClaudeTopping      & Laval   \\\\\n",
       "\\end{tabular}\n"
      ],
      "text/markdown": [
       "\n",
       "A data.frame: 6 × 3\n",
       "\n",
       "| <!--/--> | au_id &lt;dbl&gt; | au_name &lt;chr&gt; | au_institution &lt;chr&gt; |\n",
       "|---|---|---|---|\n",
       "| 1 | 10041373600 | RebeccaBarnes      | Oxford   |\n",
       "| 34 | 10240446500 | ChristineTCigolle  | Michigan |\n",
       "| 49 | 12791296200 | ClaireKendall      | Ottawa   |\n",
       "| 122 | 12804958400 | MinaRuthSilberberg | Duke     |\n",
       "| 137 | 14421205500 | BertrandLebouche   | McGill   |\n",
       "| 217 | 14826143300 | ClaudeTopping      | Laval    |\n",
       "\n"
      ],
      "text/plain": [
       "    au_id       au_name            au_institution\n",
       "1   10041373600 RebeccaBarnes      Oxford        \n",
       "34  10240446500 ChristineTCigolle  Michigan      \n",
       "49  12791296200 ClaireKendall      Ottawa        \n",
       "122 12804958400 MinaRuthSilberberg Duke          \n",
       "137 14421205500 BertrandLebouche   McGill        \n",
       "217 14826143300 ClaudeTopping      Laval         "
      ]
     },
     "metadata": {},
     "output_type": "display_data"
    }
   ],
   "source": [
    "head(scopus_df_uniq)"
   ]
  },
  {
   "cell_type": "code",
   "execution_count": null,
   "id": "29704d70",
   "metadata": {},
   "outputs": [],
   "source": []
  },
  {
   "cell_type": "code",
   "execution_count": null,
   "id": "275642ce",
   "metadata": {},
   "outputs": [],
   "source": []
  },
  {
   "cell_type": "code",
   "execution_count": null,
   "id": "0ce84077",
   "metadata": {},
   "outputs": [],
   "source": []
  },
  {
   "cell_type": "code",
   "execution_count": 11,
   "id": "f05760ba",
   "metadata": {},
   "outputs": [
    {
     "name": "stdout",
     "output_type": "stream",
     "text": [
      "'data.frame':\t150906 obs. of  4 variables:\n",
      " $ eid   : chr  \"2-s2.0-85140976962\" \"2-s2.0-85140976962\" \"2-s2.0-85140976962\" \"2-s2.0-85140976962\" ...\n",
      " $ auths : chr  \"Wheat H.\" \"Barnes R.K.\" \"Aveyard P.\" \"Stevenson F.\" ...\n",
      " $ ids   : num  5.64e+10 1.00e+10 5.51e+10 7.10e+09 3.51e+10 ...\n",
      " $ doc_id: int  1 1 1 1 1 2 2 2 2 2 ...\n"
     ]
    }
   ],
   "source": [
    "#################################\n",
    "##\n",
    "## Import EID authors/ids files\n",
    "##\n",
    "#################################\n",
    "eid_results1 <- read.csv(file=fpath_eid1, header=TRUE, sep=\",\")\n",
    "eid_results2 <- read.csv(file=fpath_eid2, header=TRUE, sep=\",\")\n",
    "\n",
    "eid_results <- rbind(eid_results1, eid_results2)\n",
    "\n",
    "str(eid_results)"
   ]
  },
  {
   "cell_type": "code",
   "execution_count": 12,
   "id": "580f7982",
   "metadata": {},
   "outputs": [
    {
     "data": {
      "text/html": [
       "<ol>\n",
       "\t<li><style>\n",
       ".list-inline {list-style: none; margin:0; padding: 0}\n",
       ".list-inline>li {display: inline-block}\n",
       ".list-inline>li:not(:last-child)::after {content: \"\\00b7\"; padding: 0 .5ex}\n",
       "</style>\n",
       "<ol class=list-inline><li>150906</li><li>4</li></ol>\n",
       "</li>\n",
       "\t<li>13098</li>\n",
       "\t<li>13098</li>\n",
       "\t<li>66686</li>\n",
       "</ol>\n"
      ],
      "text/latex": [
       "\\begin{enumerate}\n",
       "\\item \\begin{enumerate*}\n",
       "\\item 150906\n",
       "\\item 4\n",
       "\\end{enumerate*}\n",
       "\n",
       "\\item 13098\n",
       "\\item 13098\n",
       "\\item 66686\n",
       "\\end{enumerate}\n"
      ],
      "text/markdown": [
       "1. 1. 150906\n",
       "2. 4\n",
       "\n",
       "\n",
       "\n",
       "2. 13098\n",
       "3. 13098\n",
       "4. 66686\n",
       "\n",
       "\n"
      ],
      "text/plain": [
       "[[1]]\n",
       "[1] 150906      4\n",
       "\n",
       "[[2]]\n",
       "[1] 13098\n",
       "\n",
       "[[3]]\n",
       "[1] 13098\n",
       "\n",
       "[[4]]\n",
       "[1] 66686\n"
      ]
     },
     "metadata": {},
     "output_type": "display_data"
    }
   ],
   "source": [
    "##\n",
    "## Descriptive stats\n",
    "##\n",
    "list(\n",
    "    dim(eid_results),\n",
    "    length(unique(eid_results$eid)),\n",
    "    length(unique(eid_results$doc_id)),\n",
    "    length(unique(eid_results$ids))\n",
    ")"
   ]
  },
  {
   "cell_type": "code",
   "execution_count": 13,
   "id": "5010a1bb",
   "metadata": {},
   "outputs": [],
   "source": [
    "#head(eid_results)"
   ]
  },
  {
   "cell_type": "code",
   "execution_count": 14,
   "id": "f4779ebc",
   "metadata": {},
   "outputs": [
    {
     "data": {
      "text/html": [
       "<ol>\n",
       "\t<li>66686</li>\n",
       "\t<li>62515</li>\n",
       "</ol>\n"
      ],
      "text/latex": [
       "\\begin{enumerate}\n",
       "\\item 66686\n",
       "\\item 62515\n",
       "\\end{enumerate}\n"
      ],
      "text/markdown": [
       "1. 66686\n",
       "2. 62515\n",
       "\n",
       "\n"
      ],
      "text/plain": [
       "[[1]]\n",
       "[1] 66686\n",
       "\n",
       "[[2]]\n",
       "[1] 62515\n"
      ]
     },
     "metadata": {},
     "output_type": "display_data"
    }
   ],
   "source": [
    "## Number unique authors (including the N=591 ppl in the original Scopus query)\n",
    "list(\n",
    "    length(unique(eid_results$ids)),\n",
    "    length(unique(eid_results$auths))\n",
    "    )"
   ]
  },
  {
   "cell_type": "code",
   "execution_count": 15,
   "id": "029a595d",
   "metadata": {},
   "outputs": [
    {
     "data": {
      "text/html": [
       "66095"
      ],
      "text/latex": [
       "66095"
      ],
      "text/markdown": [
       "66095"
      ],
      "text/plain": [
       "[1] 66095"
      ]
     },
     "metadata": {},
     "output_type": "display_data"
    }
   ],
   "source": [
    "## Number unique authors --- after subtracting off the original N=591 included in the Scopus query\n",
    "length(unique(eid_results$ids)) - length(unique(scopus_df$au_name))"
   ]
  },
  {
   "cell_type": "code",
   "execution_count": null,
   "id": "f32f32f9",
   "metadata": {},
   "outputs": [],
   "source": []
  },
  {
   "cell_type": "code",
   "execution_count": null,
   "id": "c41ce355",
   "metadata": {},
   "outputs": [],
   "source": []
  },
  {
   "cell_type": "code",
   "execution_count": 16,
   "id": "31ffe886",
   "metadata": {},
   "outputs": [
    {
     "data": {
      "text/html": [
       "<ol>\n",
       "\t<li>62515</li>\n",
       "\t<li>55335</li>\n",
       "\t<li>66686</li>\n",
       "</ol>\n"
      ],
      "text/latex": [
       "\\begin{enumerate}\n",
       "\\item 62515\n",
       "\\item 55335\n",
       "\\item 66686\n",
       "\\end{enumerate}\n"
      ],
      "text/markdown": [
       "1. 62515\n",
       "2. 55335\n",
       "3. 66686\n",
       "\n",
       "\n"
      ],
      "text/plain": [
       "[[1]]\n",
       "[1] 62515\n",
       "\n",
       "[[2]]\n",
       "[1] 55335\n",
       "\n",
       "[[3]]\n",
       "[1] 66686\n"
      ]
     },
     "metadata": {},
     "output_type": "display_data"
    }
   ],
   "source": [
    "##\n",
    "## Normalize author names lists\n",
    "## \n",
    "## WARNING --- this is a bit HACKY; and we expect that it will resolve some problems while creating other new problems\n",
    "## For example, for common/generic Asian family names restricting to LastName+FirstInitial may not be enough granularity to uniquely specify authors\n",
    "##\n",
    "\n",
    "## See weird case for example\n",
    "# eid_results[grepl(x=eid_results$auths, pattern=\"Upshur\"), ]\n",
    "eid_results$auths_norm <- sapply(strsplit(x=eid_results$auths, split=\"\\\\.\"), function(x) x[[1]])\n",
    "# eid_results[grepl(x=eid_results$auths_norm, pattern=\"Upshur\"), ]\n",
    "\n",
    "list(\n",
    "    length(unique(eid_results$auths)),\n",
    "    length(unique(eid_results$auths_norm)),\n",
    "    length(unique(eid_results$ids))\n",
    ")"
   ]
  },
  {
   "cell_type": "code",
   "execution_count": 17,
   "id": "1733fea6",
   "metadata": {},
   "outputs": [],
   "source": [
    "##\n",
    "##\n",
    "## Note...you will get slightly/subtly different answers depending on your definition of an author/person\n",
    "## For example, is an author/person defined by 1) Scopus ID, 2) author name, 3) normalized author name, 4) some other identifier, etc.\n",
    "## Here we use Scopus ID because we think it is less biased than author name --- but we acknowledge it is NOT perfect\n",
    "## For example, some unique authors/people may have multiple Scopus IDs (a multiplicity problem)...\n",
    "##\n",
    "##"
   ]
  },
  {
   "cell_type": "code",
   "execution_count": 18,
   "id": "5cfd0f6f",
   "metadata": {},
   "outputs": [
    {
     "data": {
      "text/html": [
       "13098"
      ],
      "text/latex": [
       "13098"
      ],
      "text/markdown": [
       "13098"
      ],
      "text/plain": [
       "[1] 13098"
      ]
     },
     "metadata": {},
     "output_type": "display_data"
    }
   ],
   "source": [
    "##\n",
    "## Split into separate eid files\n",
    "##\n",
    "eid_split <- split(eid_results, f=as.factor(eid_results$eid))\n",
    "length(eid_split)"
   ]
  },
  {
   "cell_type": "code",
   "execution_count": 19,
   "id": "68e981cd",
   "metadata": {},
   "outputs": [
    {
     "data": {
      "text/html": [
       "<table class=\"dataframe\">\n",
       "<caption>A data.frame: 177 × 3</caption>\n",
       "<thead>\n",
       "\t<tr><th scope=col>num_authors</th><th scope=col>freq</th><th scope=col>prop</th></tr>\n",
       "\t<tr><th scope=col>&lt;dbl&gt;</th><th scope=col>&lt;dbl&gt;</th><th scope=col>&lt;dbl&gt;</th></tr>\n",
       "</thead>\n",
       "<tbody>\n",
       "\t<tr><td> 1</td><td>1184</td><td> 9.04</td></tr>\n",
       "\t<tr><td> 2</td><td> 416</td><td> 3.18</td></tr>\n",
       "\t<tr><td> 3</td><td> 731</td><td> 5.58</td></tr>\n",
       "\t<tr><td> 4</td><td>1178</td><td> 8.99</td></tr>\n",
       "\t<tr><td> 5</td><td>1347</td><td>10.28</td></tr>\n",
       "\t<tr><td> 6</td><td>1367</td><td>10.44</td></tr>\n",
       "\t<tr><td> 7</td><td>1217</td><td> 9.29</td></tr>\n",
       "\t<tr><td> 8</td><td> 995</td><td> 7.60</td></tr>\n",
       "\t<tr><td> 9</td><td> 817</td><td> 6.24</td></tr>\n",
       "\t<tr><td>10</td><td> 689</td><td> 5.26</td></tr>\n",
       "\t<tr><td>11</td><td> 541</td><td> 4.13</td></tr>\n",
       "\t<tr><td>12</td><td> 400</td><td> 3.05</td></tr>\n",
       "\t<tr><td>13</td><td> 321</td><td> 2.45</td></tr>\n",
       "\t<tr><td>14</td><td> 272</td><td> 2.08</td></tr>\n",
       "\t<tr><td>15</td><td> 232</td><td> 1.77</td></tr>\n",
       "\t<tr><td>16</td><td> 155</td><td> 1.18</td></tr>\n",
       "\t<tr><td>17</td><td> 141</td><td> 1.08</td></tr>\n",
       "\t<tr><td>18</td><td> 113</td><td> 0.86</td></tr>\n",
       "\t<tr><td>19</td><td>  97</td><td> 0.74</td></tr>\n",
       "\t<tr><td>20</td><td>  83</td><td> 0.63</td></tr>\n",
       "\t<tr><td>21</td><td>  80</td><td> 0.61</td></tr>\n",
       "\t<tr><td>22</td><td>  73</td><td> 0.56</td></tr>\n",
       "\t<tr><td>23</td><td>  58</td><td> 0.44</td></tr>\n",
       "\t<tr><td>24</td><td>  46</td><td> 0.35</td></tr>\n",
       "\t<tr><td>25</td><td>  44</td><td> 0.34</td></tr>\n",
       "\t<tr><td>26</td><td>  32</td><td> 0.24</td></tr>\n",
       "\t<tr><td>27</td><td>  33</td><td> 0.25</td></tr>\n",
       "\t<tr><td>28</td><td>  32</td><td> 0.24</td></tr>\n",
       "\t<tr><td>29</td><td>  35</td><td> 0.27</td></tr>\n",
       "\t<tr><td>30</td><td>  18</td><td> 0.14</td></tr>\n",
       "\t<tr><td>⋮</td><td>⋮</td><td>⋮</td></tr>\n",
       "\t<tr><td> 344</td><td>1</td><td>0.01</td></tr>\n",
       "\t<tr><td> 348</td><td>1</td><td>0.01</td></tr>\n",
       "\t<tr><td> 351</td><td>1</td><td>0.01</td></tr>\n",
       "\t<tr><td> 366</td><td>1</td><td>0.01</td></tr>\n",
       "\t<tr><td> 373</td><td>1</td><td>0.01</td></tr>\n",
       "\t<tr><td> 378</td><td>1</td><td>0.01</td></tr>\n",
       "\t<tr><td> 386</td><td>2</td><td>0.02</td></tr>\n",
       "\t<tr><td> 453</td><td>1</td><td>0.01</td></tr>\n",
       "\t<tr><td> 455</td><td>1</td><td>0.01</td></tr>\n",
       "\t<tr><td> 477</td><td>1</td><td>0.01</td></tr>\n",
       "\t<tr><td> 491</td><td>1</td><td>0.01</td></tr>\n",
       "\t<tr><td> 493</td><td>1</td><td>0.01</td></tr>\n",
       "\t<tr><td> 502</td><td>1</td><td>0.01</td></tr>\n",
       "\t<tr><td> 511</td><td>1</td><td>0.01</td></tr>\n",
       "\t<tr><td> 589</td><td>1</td><td>0.01</td></tr>\n",
       "\t<tr><td> 595</td><td>1</td><td>0.01</td></tr>\n",
       "\t<tr><td> 626</td><td>1</td><td>0.01</td></tr>\n",
       "\t<tr><td> 640</td><td>2</td><td>0.02</td></tr>\n",
       "\t<tr><td> 765</td><td>1</td><td>0.01</td></tr>\n",
       "\t<tr><td> 770</td><td>1</td><td>0.01</td></tr>\n",
       "\t<tr><td> 855</td><td>1</td><td>0.01</td></tr>\n",
       "\t<tr><td> 940</td><td>1</td><td>0.01</td></tr>\n",
       "\t<tr><td>1064</td><td>1</td><td>0.01</td></tr>\n",
       "\t<tr><td>1171</td><td>1</td><td>0.01</td></tr>\n",
       "\t<tr><td>1277</td><td>1</td><td>0.01</td></tr>\n",
       "\t<tr><td>1308</td><td>1</td><td>0.01</td></tr>\n",
       "\t<tr><td>1408</td><td>1</td><td>0.01</td></tr>\n",
       "\t<tr><td>2223</td><td>1</td><td>0.01</td></tr>\n",
       "\t<tr><td>2336</td><td>1</td><td>0.01</td></tr>\n",
       "\t<tr><td>3391</td><td>1</td><td>0.01</td></tr>\n",
       "</tbody>\n",
       "</table>\n"
      ],
      "text/latex": [
       "A data.frame: 177 × 3\n",
       "\\begin{tabular}{lll}\n",
       " num\\_authors & freq & prop\\\\\n",
       " <dbl> & <dbl> & <dbl>\\\\\n",
       "\\hline\n",
       "\t  1 & 1184 &  9.04\\\\\n",
       "\t  2 &  416 &  3.18\\\\\n",
       "\t  3 &  731 &  5.58\\\\\n",
       "\t  4 & 1178 &  8.99\\\\\n",
       "\t  5 & 1347 & 10.28\\\\\n",
       "\t  6 & 1367 & 10.44\\\\\n",
       "\t  7 & 1217 &  9.29\\\\\n",
       "\t  8 &  995 &  7.60\\\\\n",
       "\t  9 &  817 &  6.24\\\\\n",
       "\t 10 &  689 &  5.26\\\\\n",
       "\t 11 &  541 &  4.13\\\\\n",
       "\t 12 &  400 &  3.05\\\\\n",
       "\t 13 &  321 &  2.45\\\\\n",
       "\t 14 &  272 &  2.08\\\\\n",
       "\t 15 &  232 &  1.77\\\\\n",
       "\t 16 &  155 &  1.18\\\\\n",
       "\t 17 &  141 &  1.08\\\\\n",
       "\t 18 &  113 &  0.86\\\\\n",
       "\t 19 &   97 &  0.74\\\\\n",
       "\t 20 &   83 &  0.63\\\\\n",
       "\t 21 &   80 &  0.61\\\\\n",
       "\t 22 &   73 &  0.56\\\\\n",
       "\t 23 &   58 &  0.44\\\\\n",
       "\t 24 &   46 &  0.35\\\\\n",
       "\t 25 &   44 &  0.34\\\\\n",
       "\t 26 &   32 &  0.24\\\\\n",
       "\t 27 &   33 &  0.25\\\\\n",
       "\t 28 &   32 &  0.24\\\\\n",
       "\t 29 &   35 &  0.27\\\\\n",
       "\t 30 &   18 &  0.14\\\\\n",
       "\t ⋮ & ⋮ & ⋮\\\\\n",
       "\t  344 & 1 & 0.01\\\\\n",
       "\t  348 & 1 & 0.01\\\\\n",
       "\t  351 & 1 & 0.01\\\\\n",
       "\t  366 & 1 & 0.01\\\\\n",
       "\t  373 & 1 & 0.01\\\\\n",
       "\t  378 & 1 & 0.01\\\\\n",
       "\t  386 & 2 & 0.02\\\\\n",
       "\t  453 & 1 & 0.01\\\\\n",
       "\t  455 & 1 & 0.01\\\\\n",
       "\t  477 & 1 & 0.01\\\\\n",
       "\t  491 & 1 & 0.01\\\\\n",
       "\t  493 & 1 & 0.01\\\\\n",
       "\t  502 & 1 & 0.01\\\\\n",
       "\t  511 & 1 & 0.01\\\\\n",
       "\t  589 & 1 & 0.01\\\\\n",
       "\t  595 & 1 & 0.01\\\\\n",
       "\t  626 & 1 & 0.01\\\\\n",
       "\t  640 & 2 & 0.02\\\\\n",
       "\t  765 & 1 & 0.01\\\\\n",
       "\t  770 & 1 & 0.01\\\\\n",
       "\t  855 & 1 & 0.01\\\\\n",
       "\t  940 & 1 & 0.01\\\\\n",
       "\t 1064 & 1 & 0.01\\\\\n",
       "\t 1171 & 1 & 0.01\\\\\n",
       "\t 1277 & 1 & 0.01\\\\\n",
       "\t 1308 & 1 & 0.01\\\\\n",
       "\t 1408 & 1 & 0.01\\\\\n",
       "\t 2223 & 1 & 0.01\\\\\n",
       "\t 2336 & 1 & 0.01\\\\\n",
       "\t 3391 & 1 & 0.01\\\\\n",
       "\\end{tabular}\n"
      ],
      "text/markdown": [
       "\n",
       "A data.frame: 177 × 3\n",
       "\n",
       "| num_authors &lt;dbl&gt; | freq &lt;dbl&gt; | prop &lt;dbl&gt; |\n",
       "|---|---|---|\n",
       "|  1 | 1184 |  9.04 |\n",
       "|  2 |  416 |  3.18 |\n",
       "|  3 |  731 |  5.58 |\n",
       "|  4 | 1178 |  8.99 |\n",
       "|  5 | 1347 | 10.28 |\n",
       "|  6 | 1367 | 10.44 |\n",
       "|  7 | 1217 |  9.29 |\n",
       "|  8 |  995 |  7.60 |\n",
       "|  9 |  817 |  6.24 |\n",
       "| 10 |  689 |  5.26 |\n",
       "| 11 |  541 |  4.13 |\n",
       "| 12 |  400 |  3.05 |\n",
       "| 13 |  321 |  2.45 |\n",
       "| 14 |  272 |  2.08 |\n",
       "| 15 |  232 |  1.77 |\n",
       "| 16 |  155 |  1.18 |\n",
       "| 17 |  141 |  1.08 |\n",
       "| 18 |  113 |  0.86 |\n",
       "| 19 |   97 |  0.74 |\n",
       "| 20 |   83 |  0.63 |\n",
       "| 21 |   80 |  0.61 |\n",
       "| 22 |   73 |  0.56 |\n",
       "| 23 |   58 |  0.44 |\n",
       "| 24 |   46 |  0.35 |\n",
       "| 25 |   44 |  0.34 |\n",
       "| 26 |   32 |  0.24 |\n",
       "| 27 |   33 |  0.25 |\n",
       "| 28 |   32 |  0.24 |\n",
       "| 29 |   35 |  0.27 |\n",
       "| 30 |   18 |  0.14 |\n",
       "| ⋮ | ⋮ | ⋮ |\n",
       "|  344 | 1 | 0.01 |\n",
       "|  348 | 1 | 0.01 |\n",
       "|  351 | 1 | 0.01 |\n",
       "|  366 | 1 | 0.01 |\n",
       "|  373 | 1 | 0.01 |\n",
       "|  378 | 1 | 0.01 |\n",
       "|  386 | 2 | 0.02 |\n",
       "|  453 | 1 | 0.01 |\n",
       "|  455 | 1 | 0.01 |\n",
       "|  477 | 1 | 0.01 |\n",
       "|  491 | 1 | 0.01 |\n",
       "|  493 | 1 | 0.01 |\n",
       "|  502 | 1 | 0.01 |\n",
       "|  511 | 1 | 0.01 |\n",
       "|  589 | 1 | 0.01 |\n",
       "|  595 | 1 | 0.01 |\n",
       "|  626 | 1 | 0.01 |\n",
       "|  640 | 2 | 0.02 |\n",
       "|  765 | 1 | 0.01 |\n",
       "|  770 | 1 | 0.01 |\n",
       "|  855 | 1 | 0.01 |\n",
       "|  940 | 1 | 0.01 |\n",
       "| 1064 | 1 | 0.01 |\n",
       "| 1171 | 1 | 0.01 |\n",
       "| 1277 | 1 | 0.01 |\n",
       "| 1308 | 1 | 0.01 |\n",
       "| 1408 | 1 | 0.01 |\n",
       "| 2223 | 1 | 0.01 |\n",
       "| 2336 | 1 | 0.01 |\n",
       "| 3391 | 1 | 0.01 |\n",
       "\n"
      ],
      "text/plain": [
       "    num_authors freq prop \n",
       "1    1          1184  9.04\n",
       "2    2           416  3.18\n",
       "3    3           731  5.58\n",
       "4    4          1178  8.99\n",
       "5    5          1347 10.28\n",
       "6    6          1367 10.44\n",
       "7    7          1217  9.29\n",
       "8    8           995  7.60\n",
       "9    9           817  6.24\n",
       "10  10           689  5.26\n",
       "11  11           541  4.13\n",
       "12  12           400  3.05\n",
       "13  13           321  2.45\n",
       "14  14           272  2.08\n",
       "15  15           232  1.77\n",
       "16  16           155  1.18\n",
       "17  17           141  1.08\n",
       "18  18           113  0.86\n",
       "19  19            97  0.74\n",
       "20  20            83  0.63\n",
       "21  21            80  0.61\n",
       "22  22            73  0.56\n",
       "23  23            58  0.44\n",
       "24  24            46  0.35\n",
       "25  25            44  0.34\n",
       "26  26            32  0.24\n",
       "27  27            33  0.25\n",
       "28  28            32  0.24\n",
       "29  29            35  0.27\n",
       "30  30            18  0.14\n",
       "<U+22EE>   <U+22EE>    <U+22EE> <U+22EE>\n",
       "148  344        1    0.01 \n",
       "149  348        1    0.01 \n",
       "150  351        1    0.01 \n",
       "151  366        1    0.01 \n",
       "152  373        1    0.01 \n",
       "153  378        1    0.01 \n",
       "154  386        2    0.02 \n",
       "155  453        1    0.01 \n",
       "156  455        1    0.01 \n",
       "157  477        1    0.01 \n",
       "158  491        1    0.01 \n",
       "159  493        1    0.01 \n",
       "160  502        1    0.01 \n",
       "161  511        1    0.01 \n",
       "162  589        1    0.01 \n",
       "163  595        1    0.01 \n",
       "164  626        1    0.01 \n",
       "165  640        2    0.02 \n",
       "166  765        1    0.01 \n",
       "167  770        1    0.01 \n",
       "168  855        1    0.01 \n",
       "169  940        1    0.01 \n",
       "170 1064        1    0.01 \n",
       "171 1171        1    0.01 \n",
       "172 1277        1    0.01 \n",
       "173 1308        1    0.01 \n",
       "174 1408        1    0.01 \n",
       "175 2223        1    0.01 \n",
       "176 2336        1    0.01 \n",
       "177 3391        1    0.01 "
      ]
     },
     "metadata": {},
     "output_type": "display_data"
    }
   ],
   "source": [
    "## Get number of authors per publication (based on eid)\n",
    "num_authors <- sapply(eid_split, nrow)\n",
    "\n",
    "num_authors_df <- data.frame(table(num_authors))\n",
    "prop_authors_df <- data.frame(prop.table(table(num_authors)))\n",
    "\n",
    "authors_df <- cbind(num_authors_df, round(prop_authors_df[,2]*100, 2))\n",
    "authors_df <- data.frame(apply(authors_df, 2, as.numeric))\n",
    "names(authors_df) <- c(\"num_authors\", \"freq\", \"prop\")\n",
    "authors_df"
   ]
  },
  {
   "cell_type": "code",
   "execution_count": 20,
   "id": "df9853a1",
   "metadata": {},
   "outputs": [
    {
     "data": {
      "text/html": [
       "<ol>\n",
       "\t<li><style>\n",
       ".list-inline {list-style: none; margin:0; padding: 0}\n",
       ".list-inline>li {display: inline-block}\n",
       ".list-inline>li:not(:last-child)::after {content: \"\\00b7\"; padding: 0 .5ex}\n",
       "</style>\n",
       "<ol class=list-inline><li>150906</li><li>5</li></ol>\n",
       "</li>\n",
       "\t<li>150906</li>\n",
       "</ol>\n"
      ],
      "text/latex": [
       "\\begin{enumerate}\n",
       "\\item \\begin{enumerate*}\n",
       "\\item 150906\n",
       "\\item 5\n",
       "\\end{enumerate*}\n",
       "\n",
       "\\item 150906\n",
       "\\end{enumerate}\n"
      ],
      "text/markdown": [
       "1. 1. 150906\n",
       "2. 5\n",
       "\n",
       "\n",
       "\n",
       "2. 150906\n",
       "\n",
       "\n"
      ],
      "text/plain": [
       "[[1]]\n",
       "[1] 150906      5\n",
       "\n",
       "[[2]]\n",
       "[1] 150906\n"
      ]
     },
     "metadata": {},
     "output_type": "display_data"
    }
   ],
   "source": [
    "## Check on author freq counts\n",
    "list(\n",
    "    dim(eid_results),\n",
    "    sum(authors_df$num_authors * authors_df$freq)\n",
    ")"
   ]
  },
  {
   "cell_type": "code",
   "execution_count": 21,
   "id": "0c146bed",
   "metadata": {},
   "outputs": [
    {
     "data": {
      "text/html": [
       "<table class=\"dataframe\">\n",
       "<caption>A data.frame: 5 × 1</caption>\n",
       "<thead>\n",
       "\t<tr><th></th><th scope=col>num_authors</th></tr>\n",
       "\t<tr><th></th><th scope=col>&lt;dbl&gt;</th></tr>\n",
       "</thead>\n",
       "<tbody>\n",
       "\t<tr><th scope=row>0%</th><td>   1</td></tr>\n",
       "\t<tr><th scope=row>25%</th><td>   4</td></tr>\n",
       "\t<tr><th scope=row>50%</th><td>   7</td></tr>\n",
       "\t<tr><th scope=row>75%</th><td>  10</td></tr>\n",
       "\t<tr><th scope=row>100%</th><td>3391</td></tr>\n",
       "</tbody>\n",
       "</table>\n"
      ],
      "text/latex": [
       "A data.frame: 5 × 1\n",
       "\\begin{tabular}{r|l}\n",
       "  & num\\_authors\\\\\n",
       "  & <dbl>\\\\\n",
       "\\hline\n",
       "\t0\\% &    1\\\\\n",
       "\t25\\% &    4\\\\\n",
       "\t50\\% &    7\\\\\n",
       "\t75\\% &   10\\\\\n",
       "\t100\\% & 3391\\\\\n",
       "\\end{tabular}\n"
      ],
      "text/markdown": [
       "\n",
       "A data.frame: 5 × 1\n",
       "\n",
       "| <!--/--> | num_authors &lt;dbl&gt; |\n",
       "|---|---|\n",
       "| 0% |    1 |\n",
       "| 25% |    4 |\n",
       "| 50% |    7 |\n",
       "| 75% |   10 |\n",
       "| 100% | 3391 |\n",
       "\n"
      ],
      "text/plain": [
       "     num_authors\n",
       "0%      1       \n",
       "25%     4       \n",
       "50%     7       \n",
       "75%    10       \n",
       "100% 3391       "
      ]
     },
     "metadata": {},
     "output_type": "display_data"
    }
   ],
   "source": [
    "## Quantiles on number of authors\n",
    "data.frame(num_authors=quantile(num_authors, probs=c(0, 0.25, 0.50, 0.75, 1.0)))"
   ]
  },
  {
   "cell_type": "code",
   "execution_count": 22,
   "id": "0096965d",
   "metadata": {},
   "outputs": [
    {
     "data": {
      "text/html": [
       "<ol>\n",
       "\t<li>66686</li>\n",
       "\t<li>66095</li>\n",
       "</ol>\n"
      ],
      "text/latex": [
       "\\begin{enumerate}\n",
       "\\item 66686\n",
       "\\item 66095\n",
       "\\end{enumerate}\n"
      ],
      "text/markdown": [
       "1. 66686\n",
       "2. 66095\n",
       "\n",
       "\n"
      ],
      "text/plain": [
       "[[1]]\n",
       "[1] 66686\n",
       "\n",
       "[[2]]\n",
       "[1] 66095\n"
      ]
     },
     "metadata": {},
     "output_type": "display_data"
    }
   ],
   "source": [
    "## Number of collaborators - minus the number of original authors in the search/query\n",
    "list(\n",
    "    length(unique(eid_results$ids)),\n",
    "    length(unique(eid_results$ids)) - length(unique(scopus_df$au_name))\n",
    ")"
   ]
  },
  {
   "cell_type": "code",
   "execution_count": null,
   "id": "45823c8c",
   "metadata": {},
   "outputs": [],
   "source": []
  },
  {
   "cell_type": "code",
   "execution_count": 23,
   "id": "ee538feb",
   "metadata": {},
   "outputs": [],
   "source": [
    "## Investigate weird cases with >1000 authors on publication \n",
    "## We have seen some large international collaborations of this nature\n",
    "## However, for assessing collaboration, we feel it is best to drop these edge cases, as to not distort traditional small/medium team collaboration\n",
    "\n",
    "# big_collabs <- eid_split[sapply(eid_split, nrow) > 1000]\n",
    "# length(big_collabs)\n",
    "# big_collabs[1]\n",
    "\n",
    "## Note: these seem like legit, albeit, really big team science projects"
   ]
  },
  {
   "cell_type": "code",
   "execution_count": 24,
   "id": "93c846a6",
   "metadata": {},
   "outputs": [],
   "source": [
    "##\n",
    "## For now I will leave these in, since it makes counting collaborations more consistent\n",
    "## However, I **think** these few very large collaborations may distort estimation of centrality measures\n",
    "##\n",
    "## That said, the removal of large collaborative projects is very subjective\n",
    "## And further, the exact threshold for determination of what is big (>10, >25, >50, >100, etc.) is quite subjective\n",
    "##"
   ]
  },
  {
   "cell_type": "code",
   "execution_count": 25,
   "id": "b2e81f39",
   "metadata": {},
   "outputs": [],
   "source": [
    "## Create flag and drop articles with very many authors (say num_authors>25)\n",
    "# num_authors_flag <- num_authors>25\n",
    "# table(num_authors_flag)"
   ]
  },
  {
   "cell_type": "code",
   "execution_count": 26,
   "id": "5fc2f391",
   "metadata": {},
   "outputs": [],
   "source": [
    "# eid_split <- eid_split[!num_authors_flag]\n",
    "# length(eid_split)"
   ]
  },
  {
   "cell_type": "code",
   "execution_count": null,
   "id": "0167bb9e",
   "metadata": {},
   "outputs": [],
   "source": []
  },
  {
   "cell_type": "code",
   "execution_count": null,
   "id": "f50f07e5",
   "metadata": {},
   "outputs": [],
   "source": []
  },
  {
   "cell_type": "code",
   "execution_count": null,
   "id": "5b9c2249",
   "metadata": {},
   "outputs": [],
   "source": []
  },
  {
   "cell_type": "code",
   "execution_count": 27,
   "id": "5e77d266",
   "metadata": {},
   "outputs": [
    {
     "data": {
      "text/plain": [
       "Time difference of 1.335881 mins"
      ]
     },
     "metadata": {},
     "output_type": "display_data"
    }
   ],
   "source": [
    "##\n",
    "## Get Author Pairs DF --- Note: this is based on unique Scopus ID (an assumption; noting we could use given name)\n",
    "##\n",
    "t0 <- Sys.time()\n",
    "\n",
    "author_pairs_list <- lapply(eid_split, function(x) subset(expand.grid(x$ids, x$ids),Var1!=Var2))\n",
    "el_auth <- do.call(\"rbind\", author_pairs_list)\n",
    "names(el_auth) <- c(\"Auth1\",\"Auth2\")\n",
    "el_auth$Auth1 <- as.character(el_auth$Auth1)\n",
    "el_auth$Auth2 <- as.character(el_auth$Auth2)\n",
    "\n",
    "t1 <- Sys.time()\n",
    "t1-t0"
   ]
  },
  {
   "cell_type": "code",
   "execution_count": 28,
   "id": "267c3ce9",
   "metadata": {},
   "outputs": [
    {
     "data": {
      "text/html": [
       "<ol>\n",
       "\t<li><style>\n",
       ".list-inline {list-style: none; margin:0; padding: 0}\n",
       ".list-inline>li {display: inline-block}\n",
       ".list-inline>li:not(:last-child)::after {content: \"\\00b7\"; padding: 0 .5ex}\n",
       "</style>\n",
       "<ol class=list-inline><li>41617772</li><li>2</li></ol>\n",
       "</li>\n",
       "\t<li>66684</li>\n",
       "</ol>\n"
      ],
      "text/latex": [
       "\\begin{enumerate}\n",
       "\\item \\begin{enumerate*}\n",
       "\\item 41617772\n",
       "\\item 2\n",
       "\\end{enumerate*}\n",
       "\n",
       "\\item 66684\n",
       "\\end{enumerate}\n"
      ],
      "text/markdown": [
       "1. 1. 41617772\n",
       "2. 2\n",
       "\n",
       "\n",
       "\n",
       "2. 66684\n",
       "\n",
       "\n"
      ],
      "text/plain": [
       "[[1]]\n",
       "[1] 41617772        2\n",
       "\n",
       "[[2]]\n",
       "[1] 66684\n"
      ]
     },
     "metadata": {},
     "output_type": "display_data"
    }
   ],
   "source": [
    "list(\n",
    "    #str(el_auth),\n",
    "    dim(el_auth),\n",
    "    length(unique(c(el_auth$Auth1, el_auth$Auth2)))\n",
    ")"
   ]
  },
  {
   "cell_type": "code",
   "execution_count": 29,
   "id": "16fa898c",
   "metadata": {},
   "outputs": [],
   "source": [
    "## \n",
    "## Note: the dimension above are essentially the number of vertex-to-vertex ties/edges\n",
    "## Note: we DOUBLE COUNT above; since we include both a->b and b->a type ties\n",
    "## Note: we have EXCLUDED the a->a type ties/edges\n",
    "## \n",
    "## Hence...the total number of ties is nrow(el_auth)/2\n",
    "##"
   ]
  },
  {
   "cell_type": "code",
   "execution_count": 30,
   "id": "154dbf72",
   "metadata": {},
   "outputs": [
    {
     "data": {
      "text/html": [
       "20808886"
      ],
      "text/latex": [
       "20808886"
      ],
      "text/markdown": [
       "20808886"
      ],
      "text/plain": [
       "[1] 20808886"
      ]
     },
     "metadata": {},
     "output_type": "display_data"
    }
   ],
   "source": [
    "## Total number of unique ties/edges\n",
    "nrow(el_auth)/2"
   ]
  },
  {
   "cell_type": "code",
   "execution_count": 31,
   "id": "fde872d8",
   "metadata": {},
   "outputs": [],
   "source": [
    "##\n",
    "## Note: this number/estimate is IMO greatly inflated because of some outlying LARGE studies\n",
    "##\n",
    "## For example, our largest study contains 3300ish authors --- this study alone creates choose(3300,2) ties ~ 5M\n",
    "##"
   ]
  },
  {
   "cell_type": "code",
   "execution_count": 32,
   "id": "68160cc4",
   "metadata": {},
   "outputs": [
    {
     "data": {
      "text/html": [
       "<table class=\"dataframe\">\n",
       "<caption>A data.frame: 6 × 2</caption>\n",
       "<thead>\n",
       "\t<tr><th></th><th scope=col>Auth1</th><th scope=col>Auth2</th></tr>\n",
       "\t<tr><th></th><th scope=col>&lt;chr&gt;</th><th scope=col>&lt;chr&gt;</th></tr>\n",
       "</thead>\n",
       "<tbody>\n",
       "\t<tr><th scope=row>2-s2.0-79960678065.2</th><td>6603627308 </td><td>23498419200</td></tr>\n",
       "\t<tr><th scope=row>2-s2.0-79960678065.3</th><td>7201918014 </td><td>23498419200</td></tr>\n",
       "\t<tr><th scope=row>2-s2.0-79960678065.4</th><td>7003757445 </td><td>23498419200</td></tr>\n",
       "\t<tr><th scope=row>2-s2.0-79960678065.5</th><td>8240813400 </td><td>23498419200</td></tr>\n",
       "\t<tr><th scope=row>2-s2.0-79960678065.6</th><td>23498419200</td><td>6603627308 </td></tr>\n",
       "\t<tr><th scope=row>2-s2.0-79960678065.8</th><td>7201918014 </td><td>6603627308 </td></tr>\n",
       "</tbody>\n",
       "</table>\n"
      ],
      "text/latex": [
       "A data.frame: 6 × 2\n",
       "\\begin{tabular}{r|ll}\n",
       "  & Auth1 & Auth2\\\\\n",
       "  & <chr> & <chr>\\\\\n",
       "\\hline\n",
       "\t2-s2.0-79960678065.2 & 6603627308  & 23498419200\\\\\n",
       "\t2-s2.0-79960678065.3 & 7201918014  & 23498419200\\\\\n",
       "\t2-s2.0-79960678065.4 & 7003757445  & 23498419200\\\\\n",
       "\t2-s2.0-79960678065.5 & 8240813400  & 23498419200\\\\\n",
       "\t2-s2.0-79960678065.6 & 23498419200 & 6603627308 \\\\\n",
       "\t2-s2.0-79960678065.8 & 7201918014  & 6603627308 \\\\\n",
       "\\end{tabular}\n"
      ],
      "text/markdown": [
       "\n",
       "A data.frame: 6 × 2\n",
       "\n",
       "| <!--/--> | Auth1 &lt;chr&gt; | Auth2 &lt;chr&gt; |\n",
       "|---|---|---|\n",
       "| 2-s2.0-79960678065.2 | 6603627308  | 23498419200 |\n",
       "| 2-s2.0-79960678065.3 | 7201918014  | 23498419200 |\n",
       "| 2-s2.0-79960678065.4 | 7003757445  | 23498419200 |\n",
       "| 2-s2.0-79960678065.5 | 8240813400  | 23498419200 |\n",
       "| 2-s2.0-79960678065.6 | 23498419200 | 6603627308  |\n",
       "| 2-s2.0-79960678065.8 | 7201918014  | 6603627308  |\n",
       "\n"
      ],
      "text/plain": [
       "                     Auth1       Auth2      \n",
       "2-s2.0-79960678065.2 6603627308  23498419200\n",
       "2-s2.0-79960678065.3 7201918014  23498419200\n",
       "2-s2.0-79960678065.4 7003757445  23498419200\n",
       "2-s2.0-79960678065.5 8240813400  23498419200\n",
       "2-s2.0-79960678065.6 23498419200 6603627308 \n",
       "2-s2.0-79960678065.8 7201918014  6603627308 "
      ]
     },
     "metadata": {},
     "output_type": "display_data"
    }
   ],
   "source": [
    "head(el_auth)"
   ]
  },
  {
   "cell_type": "code",
   "execution_count": null,
   "id": "896634be",
   "metadata": {},
   "outputs": [],
   "source": []
  },
  {
   "cell_type": "code",
   "execution_count": 33,
   "id": "9c21cd78",
   "metadata": {},
   "outputs": [
    {
     "data": {
      "text/html": [
       "<style>\n",
       ".list-inline {list-style: none; margin:0; padding: 0}\n",
       ".list-inline>li {display: inline-block}\n",
       ".list-inline>li:not(:last-child)::after {content: \"\\00b7\"; padding: 0 .5ex}\n",
       "</style>\n",
       "<ol class=list-inline><li>41617772</li><li>2</li></ol>\n"
      ],
      "text/latex": [
       "\\begin{enumerate*}\n",
       "\\item 41617772\n",
       "\\item 2\n",
       "\\end{enumerate*}\n"
      ],
      "text/markdown": [
       "1. 41617772\n",
       "2. 2\n",
       "\n",
       "\n"
      ],
      "text/plain": [
       "[1] 41617772        2"
      ]
     },
     "metadata": {},
     "output_type": "display_data"
    }
   ],
   "source": [
    "###############################\n",
    "##\n",
    "## Grab all co-author pairs - for coauthorship network analysis\n",
    "##\n",
    "###############################\n",
    "\n",
    "##\n",
    "## Create network graph from directed citation edge-list\n",
    "##\n",
    "\n",
    "el_auth <- el_auth[!is.na(el_auth$Auth1), ]\n",
    "el_auth <- el_auth[!is.na(el_auth$Auth2), ]\n",
    "el_auth <- el_auth[el_auth$Auth1 != \"\", ]\n",
    "el_auth <- el_auth[el_auth$Auth2 != \"\", ]\n",
    "dim(el_auth)"
   ]
  },
  {
   "cell_type": "code",
   "execution_count": 34,
   "id": "aeedffad",
   "metadata": {},
   "outputs": [
    {
     "data": {
      "text/plain": [
       "Time difference of 2.426253 mins"
      ]
     },
     "metadata": {},
     "output_type": "display_data"
    }
   ],
   "source": [
    "## Co-Authorship Network Graph\n",
    "t0 <- Sys.time()\n",
    "g_auth <- graph_from_edgelist(el=as.matrix(el_auth), directed=FALSE)\n",
    "t1 <- Sys.time()\n",
    "t1-t0\n",
    "\n",
    "saveRDS(g_auth, file=paste0(wd_path, \"\\\\Author_Network.RDS\"))\n",
    "# g_auth <- readRDS(file=paste0(wd_path, \"\\\\Author_Network.RDS\"))"
   ]
  },
  {
   "cell_type": "code",
   "execution_count": null,
   "id": "5130ef4b",
   "metadata": {},
   "outputs": [],
   "source": []
  },
  {
   "cell_type": "code",
   "execution_count": null,
   "id": "40dda87d",
   "metadata": {},
   "outputs": [],
   "source": []
  },
  {
   "cell_type": "code",
   "execution_count": null,
   "id": "15e9567d",
   "metadata": {},
   "outputs": [],
   "source": []
  },
  {
   "cell_type": "code",
   "execution_count": 35,
   "id": "24404a50",
   "metadata": {},
   "outputs": [],
   "source": [
    "###################################\n",
    "##\n",
    "## Summary statistics about graph, and vertices (i.e. centrality measures, hub-scores, etc.)\n",
    "##\n",
    "###################################"
   ]
  },
  {
   "cell_type": "code",
   "execution_count": 36,
   "id": "6d0d0190",
   "metadata": {},
   "outputs": [
    {
     "data": {
      "text/html": [
       "10"
      ],
      "text/latex": [
       "10"
      ],
      "text/markdown": [
       "10"
      ],
      "text/plain": [
       "[1] 10"
      ]
     },
     "metadata": {},
     "output_type": "display_data"
    }
   ],
   "source": [
    "##\n",
    "## Graph diameter\n",
    "##\n",
    "t0 <- Sys.time()\n",
    "diam <- diameter(g_auth, directed=FALSE, unconnected=TRUE)\n",
    "t1 <- Sys.time()\n",
    "time_diam <- t1-t0\n",
    "#time_diam\n",
    "\n",
    "diam "
   ]
  },
  {
   "cell_type": "code",
   "execution_count": null,
   "id": "c4570751",
   "metadata": {},
   "outputs": [],
   "source": []
  },
  {
   "cell_type": "code",
   "execution_count": 37,
   "id": "76057978",
   "metadata": {},
   "outputs": [],
   "source": [
    "##\n",
    "## Centrality measures\n",
    "## See: https://en.wikipedia.org/wiki/Centrality\n",
    "##"
   ]
  },
  {
   "cell_type": "code",
   "execution_count": 38,
   "id": "08b4e51c",
   "metadata": {},
   "outputs": [
    {
     "name": "stdout",
     "output_type": "stream",
     "text": [
      "List of 3\n",
      " $ res            : num [1:66684] 1332 8 8 8 8 ...\n",
      " $ centralization : num 0.269\n",
      " $ theoretical_max: num 4.45e+09\n"
     ]
    }
   ],
   "source": [
    "##\n",
    "## Degreee centrality\n",
    "##\n",
    "t0 <- Sys.time()\n",
    "cent_deg <- centr_degree(g_auth)\n",
    "t1 <- Sys.time()\n",
    "time_deg <- t1-t0\n",
    "#time_deg\n",
    "\n",
    "str(cent_deg)"
   ]
  },
  {
   "cell_type": "code",
   "execution_count": 39,
   "id": "cb858413",
   "metadata": {},
   "outputs": [
    {
     "data": {
      "text/html": [
       "<table class=\"dataframe\">\n",
       "<caption>A data.frame: 10 × 2</caption>\n",
       "<thead>\n",
       "\t<tr><th></th><th scope=col>auth</th><th scope=col>deg</th></tr>\n",
       "\t<tr><th></th><th scope=col>&lt;chr&gt;</th><th scope=col>&lt;dbl&gt;</th></tr>\n",
       "</thead>\n",
       "<tbody>\n",
       "\t<tr><th scope=row>name4921</th><td>7102313705 </td><td>19172</td></tr>\n",
       "\t<tr><th scope=row>name5128</th><td>7006198464 </td><td>19172</td></tr>\n",
       "\t<tr><th scope=row>name5731</th><td>57198631836</td><td>19172</td></tr>\n",
       "\t<tr><th scope=row>name12780</th><td>57200676779</td><td>16846</td></tr>\n",
       "\t<tr><th scope=row>name5217</th><td>57204249661</td><td>16662</td></tr>\n",
       "\t<tr><th scope=row>name10809</th><td>36341865600</td><td>16620</td></tr>\n",
       "\t<tr><th scope=row>name11396</th><td>6602465281 </td><td>16620</td></tr>\n",
       "\t<tr><th scope=row>name11519</th><td>57215474538</td><td>16620</td></tr>\n",
       "\t<tr><th scope=row>name4918</th><td>12798925900</td><td>16616</td></tr>\n",
       "\t<tr><th scope=row>name4927</th><td>57203071203</td><td>16558</td></tr>\n",
       "</tbody>\n",
       "</table>\n"
      ],
      "text/latex": [
       "A data.frame: 10 × 2\n",
       "\\begin{tabular}{r|ll}\n",
       "  & auth & deg\\\\\n",
       "  & <chr> & <dbl>\\\\\n",
       "\\hline\n",
       "\tname4921 & 7102313705  & 19172\\\\\n",
       "\tname5128 & 7006198464  & 19172\\\\\n",
       "\tname5731 & 57198631836 & 19172\\\\\n",
       "\tname12780 & 57200676779 & 16846\\\\\n",
       "\tname5217 & 57204249661 & 16662\\\\\n",
       "\tname10809 & 36341865600 & 16620\\\\\n",
       "\tname11396 & 6602465281  & 16620\\\\\n",
       "\tname11519 & 57215474538 & 16620\\\\\n",
       "\tname4918 & 12798925900 & 16616\\\\\n",
       "\tname4927 & 57203071203 & 16558\\\\\n",
       "\\end{tabular}\n"
      ],
      "text/markdown": [
       "\n",
       "A data.frame: 10 × 2\n",
       "\n",
       "| <!--/--> | auth &lt;chr&gt; | deg &lt;dbl&gt; |\n",
       "|---|---|---|\n",
       "| name4921 | 7102313705  | 19172 |\n",
       "| name5128 | 7006198464  | 19172 |\n",
       "| name5731 | 57198631836 | 19172 |\n",
       "| name12780 | 57200676779 | 16846 |\n",
       "| name5217 | 57204249661 | 16662 |\n",
       "| name10809 | 36341865600 | 16620 |\n",
       "| name11396 | 6602465281  | 16620 |\n",
       "| name11519 | 57215474538 | 16620 |\n",
       "| name4918 | 12798925900 | 16616 |\n",
       "| name4927 | 57203071203 | 16558 |\n",
       "\n"
      ],
      "text/plain": [
       "          auth        deg  \n",
       "name4921  7102313705  19172\n",
       "name5128  7006198464  19172\n",
       "name5731  57198631836 19172\n",
       "name12780 57200676779 16846\n",
       "name5217  57204249661 16662\n",
       "name10809 36341865600 16620\n",
       "name11396 6602465281  16620\n",
       "name11519 57215474538 16620\n",
       "name4918  12798925900 16616\n",
       "name4927  57203071203 16558"
      ]
     },
     "metadata": {},
     "output_type": "display_data"
    }
   ],
   "source": [
    "deg_vec <- cent_deg$res\n",
    "deg_vec_names <- unlist(vertex_attr(g_auth))\n",
    "deg_df <- data.frame(auth=deg_vec_names, deg=deg_vec)\n",
    "# str(deg_df)\n",
    "deg_df <- with(deg_df, deg_df[order(-deg),])\n",
    "head(deg_df, 10)"
   ]
  },
  {
   "cell_type": "code",
   "execution_count": null,
   "id": "87c69e73",
   "metadata": {},
   "outputs": [],
   "source": []
  },
  {
   "cell_type": "code",
   "execution_count": 40,
   "id": "ed17e3cc",
   "metadata": {},
   "outputs": [
    {
     "name": "stdout",
     "output_type": "stream",
     "text": [
      "List of 3\n",
      " $ res            : num [1:66684] 0.312 0.238 0.238 0.238 0.238 ...\n",
      " $ centralization : num 1.46\n",
      " $ theoretical_max: num 33341\n"
     ]
    }
   ],
   "source": [
    "##\n",
    "## Closeness centrality\n",
    "##\n",
    "t0 <- Sys.time()\n",
    "cent_clo <- centr_clo(g_auth, mode=\"all\")\n",
    "t1 <- Sys.time()\n",
    "time_clo <- t1-t0\n",
    "#time_clo\n",
    "\n",
    "str(cent_clo)"
   ]
  },
  {
   "cell_type": "code",
   "execution_count": 41,
   "id": "07ea1f7c",
   "metadata": {},
   "outputs": [
    {
     "data": {
      "text/html": [
       "<table class=\"dataframe\">\n",
       "<caption>A data.frame: 10 × 2</caption>\n",
       "<thead>\n",
       "\t<tr><th></th><th scope=col>author</th><th scope=col>clo</th></tr>\n",
       "\t<tr><th></th><th scope=col>&lt;chr&gt;</th><th scope=col>&lt;dbl&gt;</th></tr>\n",
       "</thead>\n",
       "<tbody>\n",
       "\t<tr><th scope=row>name127</th><td>55477039500</td><td>1</td></tr>\n",
       "\t<tr><th scope=row>name23079</th><td>57201188264</td><td>1</td></tr>\n",
       "\t<tr><th scope=row>name23148</th><td>57194028657</td><td>1</td></tr>\n",
       "\t<tr><th scope=row>name23149</th><td>56037826900</td><td>1</td></tr>\n",
       "\t<tr><th scope=row>name23150</th><td>55180583700</td><td>1</td></tr>\n",
       "\t<tr><th scope=row>name23151</th><td>35729034100</td><td>1</td></tr>\n",
       "\t<tr><th scope=row>name34304</th><td>18042857600</td><td>1</td></tr>\n",
       "\t<tr><th scope=row>name35708</th><td>36440099800</td><td>1</td></tr>\n",
       "\t<tr><th scope=row>name35709</th><td>7102327915 </td><td>1</td></tr>\n",
       "\t<tr><th scope=row>name40229</th><td>7102539808 </td><td>1</td></tr>\n",
       "</tbody>\n",
       "</table>\n"
      ],
      "text/latex": [
       "A data.frame: 10 × 2\n",
       "\\begin{tabular}{r|ll}\n",
       "  & author & clo\\\\\n",
       "  & <chr> & <dbl>\\\\\n",
       "\\hline\n",
       "\tname127 & 55477039500 & 1\\\\\n",
       "\tname23079 & 57201188264 & 1\\\\\n",
       "\tname23148 & 57194028657 & 1\\\\\n",
       "\tname23149 & 56037826900 & 1\\\\\n",
       "\tname23150 & 55180583700 & 1\\\\\n",
       "\tname23151 & 35729034100 & 1\\\\\n",
       "\tname34304 & 18042857600 & 1\\\\\n",
       "\tname35708 & 36440099800 & 1\\\\\n",
       "\tname35709 & 7102327915  & 1\\\\\n",
       "\tname40229 & 7102539808  & 1\\\\\n",
       "\\end{tabular}\n"
      ],
      "text/markdown": [
       "\n",
       "A data.frame: 10 × 2\n",
       "\n",
       "| <!--/--> | author &lt;chr&gt; | clo &lt;dbl&gt; |\n",
       "|---|---|---|\n",
       "| name127 | 55477039500 | 1 |\n",
       "| name23079 | 57201188264 | 1 |\n",
       "| name23148 | 57194028657 | 1 |\n",
       "| name23149 | 56037826900 | 1 |\n",
       "| name23150 | 55180583700 | 1 |\n",
       "| name23151 | 35729034100 | 1 |\n",
       "| name34304 | 18042857600 | 1 |\n",
       "| name35708 | 36440099800 | 1 |\n",
       "| name35709 | 7102327915  | 1 |\n",
       "| name40229 | 7102539808  | 1 |\n",
       "\n"
      ],
      "text/plain": [
       "          author      clo\n",
       "name127   55477039500 1  \n",
       "name23079 57201188264 1  \n",
       "name23148 57194028657 1  \n",
       "name23149 56037826900 1  \n",
       "name23150 55180583700 1  \n",
       "name23151 35729034100 1  \n",
       "name34304 18042857600 1  \n",
       "name35708 36440099800 1  \n",
       "name35709 7102327915  1  \n",
       "name40229 7102539808  1  "
      ]
     },
     "metadata": {},
     "output_type": "display_data"
    }
   ],
   "source": [
    "clo_vec <- cent_clo$res\n",
    "clo_vec_names <- unlist(vertex_attr(g_auth))\n",
    "clo_df <- data.frame(author=clo_vec_names, clo=clo_vec)\n",
    "# str(clo_df)\n",
    "clo_df <- with(clo_df, clo_df[order(-clo),])\n",
    "head(clo_df, 10)"
   ]
  },
  {
   "cell_type": "code",
   "execution_count": null,
   "id": "501b8d92",
   "metadata": {},
   "outputs": [],
   "source": []
  },
  {
   "cell_type": "code",
   "execution_count": 42,
   "id": "51760499",
   "metadata": {},
   "outputs": [
    {
     "name": "stdout",
     "output_type": "stream",
     "text": [
      "List of 3\n",
      " $ res            : num [1:66684] 8701662 0 0 0 0 ...\n",
      " $ centralization : num 0.0254\n",
      " $ theoretical_max: num 1.48e+14\n"
     ]
    }
   ],
   "source": [
    "##\n",
    "## Between-ness centrality\n",
    "##\n",
    "t0 <- Sys.time()\n",
    "cent_betw <- centr_betw(g_auth, directed=FALSE)\n",
    "t1 <- Sys.time()\n",
    "time_betw <- t1-t0\n",
    "#time_betw\n",
    "str(cent_betw)"
   ]
  },
  {
   "cell_type": "code",
   "execution_count": 43,
   "id": "be2835d4",
   "metadata": {},
   "outputs": [
    {
     "data": {
      "text/html": [
       "<table class=\"dataframe\">\n",
       "<caption>A data.frame: 10 × 2</caption>\n",
       "<thead>\n",
       "\t<tr><th></th><th scope=col>author</th><th scope=col>betw</th></tr>\n",
       "\t<tr><th></th><th scope=col>&lt;chr&gt;</th><th scope=col>&lt;dbl&gt;</th></tr>\n",
       "</thead>\n",
       "<tbody>\n",
       "\t<tr><th scope=row>name690</th><td>57213046672</td><td>56559251</td></tr>\n",
       "\t<tr><th scope=row>name85</th><td>7003334937 </td><td>53772948</td></tr>\n",
       "\t<tr><th scope=row>name893</th><td>57202103259</td><td>48894370</td></tr>\n",
       "\t<tr><th scope=row>name4584</th><td>55484828600</td><td>42899718</td></tr>\n",
       "\t<tr><th scope=row>name1011</th><td>8577632600 </td><td>42707615</td></tr>\n",
       "\t<tr><th scope=row>name2636</th><td>7005778918 </td><td>42128333</td></tr>\n",
       "\t<tr><th scope=row>name207</th><td>6603577135 </td><td>38644940</td></tr>\n",
       "\t<tr><th scope=row>name1849</th><td>7003779589 </td><td>37889453</td></tr>\n",
       "\t<tr><th scope=row>name2305</th><td>26643433800</td><td>37384179</td></tr>\n",
       "\t<tr><th scope=row>name187</th><td>55666477900</td><td>35992378</td></tr>\n",
       "</tbody>\n",
       "</table>\n"
      ],
      "text/latex": [
       "A data.frame: 10 × 2\n",
       "\\begin{tabular}{r|ll}\n",
       "  & author & betw\\\\\n",
       "  & <chr> & <dbl>\\\\\n",
       "\\hline\n",
       "\tname690 & 57213046672 & 56559251\\\\\n",
       "\tname85 & 7003334937  & 53772948\\\\\n",
       "\tname893 & 57202103259 & 48894370\\\\\n",
       "\tname4584 & 55484828600 & 42899718\\\\\n",
       "\tname1011 & 8577632600  & 42707615\\\\\n",
       "\tname2636 & 7005778918  & 42128333\\\\\n",
       "\tname207 & 6603577135  & 38644940\\\\\n",
       "\tname1849 & 7003779589  & 37889453\\\\\n",
       "\tname2305 & 26643433800 & 37384179\\\\\n",
       "\tname187 & 55666477900 & 35992378\\\\\n",
       "\\end{tabular}\n"
      ],
      "text/markdown": [
       "\n",
       "A data.frame: 10 × 2\n",
       "\n",
       "| <!--/--> | author &lt;chr&gt; | betw &lt;dbl&gt; |\n",
       "|---|---|---|\n",
       "| name690 | 57213046672 | 56559251 |\n",
       "| name85 | 7003334937  | 53772948 |\n",
       "| name893 | 57202103259 | 48894370 |\n",
       "| name4584 | 55484828600 | 42899718 |\n",
       "| name1011 | 8577632600  | 42707615 |\n",
       "| name2636 | 7005778918  | 42128333 |\n",
       "| name207 | 6603577135  | 38644940 |\n",
       "| name1849 | 7003779589  | 37889453 |\n",
       "| name2305 | 26643433800 | 37384179 |\n",
       "| name187 | 55666477900 | 35992378 |\n",
       "\n"
      ],
      "text/plain": [
       "         author      betw    \n",
       "name690  57213046672 56559251\n",
       "name85   7003334937  53772948\n",
       "name893  57202103259 48894370\n",
       "name4584 55484828600 42899718\n",
       "name1011 8577632600  42707615\n",
       "name2636 7005778918  42128333\n",
       "name207  6603577135  38644940\n",
       "name1849 7003779589  37889453\n",
       "name2305 26643433800 37384179\n",
       "name187  55666477900 35992378"
      ]
     },
     "metadata": {},
     "output_type": "display_data"
    }
   ],
   "source": [
    "betw_vec <- cent_betw$res\n",
    "betw_vec_names <- unlist(vertex_attr(g_auth))\n",
    "betw_df <- data.frame(author=betw_vec_names, betw=betw_vec)\n",
    "# str(betw_df)\n",
    "betw_df <- with(betw_df, betw_df[order(-betw),])\n",
    "head(betw_df, 10)"
   ]
  },
  {
   "cell_type": "code",
   "execution_count": null,
   "id": "e33735a1",
   "metadata": {},
   "outputs": [],
   "source": []
  },
  {
   "cell_type": "code",
   "execution_count": 44,
   "id": "b3b9dde1",
   "metadata": {},
   "outputs": [],
   "source": [
    "##\n",
    "## Page Rank\n",
    "##\n",
    "t0 <- Sys.time()\n",
    "pr <- page_rank(g_auth)\n",
    "t1 <- Sys.time()\n",
    "time_pr <- t1-t0\n",
    "# time_pr"
   ]
  },
  {
   "cell_type": "code",
   "execution_count": 45,
   "id": "701a8c35",
   "metadata": {},
   "outputs": [
    {
     "data": {
      "text/html": [
       "<table class=\"dataframe\">\n",
       "<caption>A data.frame: 10 × 2</caption>\n",
       "<thead>\n",
       "\t<tr><th></th><th scope=col>author</th><th scope=col>pr</th></tr>\n",
       "\t<tr><th></th><th scope=col>&lt;chr&gt;</th><th scope=col>&lt;dbl&gt;</th></tr>\n",
       "</thead>\n",
       "<tbody>\n",
       "\t<tr><th scope=row>7003334937</th><td>7003334937 </td><td>0.0005850749</td></tr>\n",
       "\t<tr><th scope=row>7003779589</th><td>7003779589 </td><td>0.0005314990</td></tr>\n",
       "\t<tr><th scope=row>26643433800</th><td>26643433800</td><td>0.0005063092</td></tr>\n",
       "\t<tr><th scope=row>57202103259</th><td>57202103259</td><td>0.0004633103</td></tr>\n",
       "\t<tr><th scope=row>6603577135</th><td>6603577135 </td><td>0.0004411518</td></tr>\n",
       "\t<tr><th scope=row>18437196800</th><td>18437196800</td><td>0.0004325239</td></tr>\n",
       "\t<tr><th scope=row>6506713049</th><td>6506713049 </td><td>0.0003930140</td></tr>\n",
       "\t<tr><th scope=row>7004019124</th><td>7004019124 </td><td>0.0003904088</td></tr>\n",
       "\t<tr><th scope=row>7006242730</th><td>7006242730 </td><td>0.0003900237</td></tr>\n",
       "\t<tr><th scope=row>7103067740</th><td>7103067740 </td><td>0.0003754400</td></tr>\n",
       "</tbody>\n",
       "</table>\n"
      ],
      "text/latex": [
       "A data.frame: 10 × 2\n",
       "\\begin{tabular}{r|ll}\n",
       "  & author & pr\\\\\n",
       "  & <chr> & <dbl>\\\\\n",
       "\\hline\n",
       "\t7003334937 & 7003334937  & 0.0005850749\\\\\n",
       "\t7003779589 & 7003779589  & 0.0005314990\\\\\n",
       "\t26643433800 & 26643433800 & 0.0005063092\\\\\n",
       "\t57202103259 & 57202103259 & 0.0004633103\\\\\n",
       "\t6603577135 & 6603577135  & 0.0004411518\\\\\n",
       "\t18437196800 & 18437196800 & 0.0004325239\\\\\n",
       "\t6506713049 & 6506713049  & 0.0003930140\\\\\n",
       "\t7004019124 & 7004019124  & 0.0003904088\\\\\n",
       "\t7006242730 & 7006242730  & 0.0003900237\\\\\n",
       "\t7103067740 & 7103067740  & 0.0003754400\\\\\n",
       "\\end{tabular}\n"
      ],
      "text/markdown": [
       "\n",
       "A data.frame: 10 × 2\n",
       "\n",
       "| <!--/--> | author &lt;chr&gt; | pr &lt;dbl&gt; |\n",
       "|---|---|---|\n",
       "| 7003334937 | 7003334937  | 0.0005850749 |\n",
       "| 7003779589 | 7003779589  | 0.0005314990 |\n",
       "| 26643433800 | 26643433800 | 0.0005063092 |\n",
       "| 57202103259 | 57202103259 | 0.0004633103 |\n",
       "| 6603577135 | 6603577135  | 0.0004411518 |\n",
       "| 18437196800 | 18437196800 | 0.0004325239 |\n",
       "| 6506713049 | 6506713049  | 0.0003930140 |\n",
       "| 7004019124 | 7004019124  | 0.0003904088 |\n",
       "| 7006242730 | 7006242730  | 0.0003900237 |\n",
       "| 7103067740 | 7103067740  | 0.0003754400 |\n",
       "\n"
      ],
      "text/plain": [
       "            author      pr          \n",
       "7003334937  7003334937  0.0005850749\n",
       "7003779589  7003779589  0.0005314990\n",
       "26643433800 26643433800 0.0005063092\n",
       "57202103259 57202103259 0.0004633103\n",
       "6603577135  6603577135  0.0004411518\n",
       "18437196800 18437196800 0.0004325239\n",
       "6506713049  6506713049  0.0003930140\n",
       "7004019124  7004019124  0.0003904088\n",
       "7006242730  7006242730  0.0003900237\n",
       "7103067740  7103067740  0.0003754400"
      ]
     },
     "metadata": {},
     "output_type": "display_data"
    }
   ],
   "source": [
    "pr_vec <- pr$vector\n",
    "pr_vec_names <- names(pr_vec)\n",
    "pr_df <- data.frame(author=pr_vec_names, pr=pr_vec)\n",
    "# str(pr_df)\n",
    "pr_df <- with(pr_df, pr_df[order(-pr),])\n",
    "head(pr_df, 10)"
   ]
  },
  {
   "cell_type": "code",
   "execution_count": null,
   "id": "04088f10",
   "metadata": {},
   "outputs": [],
   "source": []
  },
  {
   "cell_type": "code",
   "execution_count": 46,
   "id": "d8763f9e",
   "metadata": {},
   "outputs": [],
   "source": [
    "##\n",
    "## Put centrality measures into single data frame\n",
    "##\n",
    "deg_vec <- head(paste0(deg_df$auth, \" (\", round(deg_df$deg, 0), \")\"), 25)\n",
    "betw_vec <- head(paste0(betw_df$author, \" (\", round(betw_df$betw, 0), \")\"), 25)\n",
    "clo_vec <- head(paste0(clo_df$author, \" (\", round(clo_df$clo, 3), \")\"), 25)\n",
    "pr_vec <- head(paste0(pr_df$author, \" (\", round(pr_df$pr, 4), \")\"), 25)\n",
    "\n",
    "cent_df <- data.frame(rank=1:25,\n",
    "                      deg=deg_vec,\n",
    "                      betw=betw_vec,\n",
    "                      clo=clo_vec,\n",
    "                      pr=pr_vec)\n",
    "\n",
    "# cent_df"
   ]
  },
  {
   "cell_type": "code",
   "execution_count": 47,
   "id": "7d589c9a",
   "metadata": {},
   "outputs": [],
   "source": [
    "##########################################\n",
    "##\n",
    "##\n",
    "## Write to DISK\n",
    "##\n",
    "##\n",
    "##########################################\n",
    "\n",
    "## Author Network Stats\n",
    "write.csv(deg_df, file=paste0(wd_path, \"//centrality_degree.csv\"), row.names=FALSE)\n",
    "write.csv(clo_df, file=paste0(wd_path, \"//centrality_closeness.csv\"), row.names=FALSE)\n",
    "write.csv(betw_df, file=paste0(wd_path, \"//centrality_betweenness.csv\"), row.names=FALSE)\n",
    "write.csv(pr_df, file=paste0(wd_path, \"//centrality_pagerank.csv\"), row.names=FALSE)\n"
   ]
  },
  {
   "cell_type": "code",
   "execution_count": null,
   "id": "489213a1",
   "metadata": {},
   "outputs": [],
   "source": []
  },
  {
   "cell_type": "code",
   "execution_count": null,
   "id": "4b2a318a",
   "metadata": {},
   "outputs": [],
   "source": []
  },
  {
   "cell_type": "code",
   "execution_count": null,
   "id": "6b14b7d5",
   "metadata": {},
   "outputs": [],
   "source": []
  },
  {
   "cell_type": "code",
   "execution_count": 48,
   "id": "4c9c54fc",
   "metadata": {},
   "outputs": [
    {
     "data": {
      "text/html": [
       "<ol>\n",
       "\t<li><style>\n",
       ".list-inline {list-style: none; margin:0; padding: 0}\n",
       ".list-inline>li {display: inline-block}\n",
       ".list-inline>li:not(:last-child)::after {content: \"\\00b7\"; padding: 0 .5ex}\n",
       "</style>\n",
       "<ol class=list-inline><li>41617772</li><li>2</li></ol>\n",
       "</li>\n",
       "\t<li>66684</li>\n",
       "\t<li>66684</li>\n",
       "\t<li>66684</li>\n",
       "</ol>\n"
      ],
      "text/latex": [
       "\\begin{enumerate}\n",
       "\\item \\begin{enumerate*}\n",
       "\\item 41617772\n",
       "\\item 2\n",
       "\\end{enumerate*}\n",
       "\n",
       "\\item 66684\n",
       "\\item 66684\n",
       "\\item 66684\n",
       "\\end{enumerate}\n"
      ],
      "text/markdown": [
       "1. 1. 41617772\n",
       "2. 2\n",
       "\n",
       "\n",
       "\n",
       "2. 66684\n",
       "3. 66684\n",
       "4. 66684\n",
       "\n",
       "\n"
      ],
      "text/plain": [
       "[[1]]\n",
       "[1] 41617772        2\n",
       "\n",
       "[[2]]\n",
       "[1] 66684\n",
       "\n",
       "[[3]]\n",
       "[1] 66684\n",
       "\n",
       "[[4]]\n",
       "[1] 66684\n"
      ]
     },
     "metadata": {},
     "output_type": "display_data"
    }
   ],
   "source": [
    "#############################################\n",
    "##\n",
    "## Try to plot the co-author graph\n",
    "## https://kateto.net/wp-content/uploads/2016/01/NetSciX_2016_Workshop.pdf\n",
    "##\n",
    "#############################################\n",
    "\n",
    "## Number of authors\n",
    "\n",
    "list(\n",
    "dim(el_auth),\n",
    "length(unique(el_auth$Auth1)),\n",
    "length(unique(el_auth$Auth2)),\n",
    "length(unique(c(el_auth$Auth1, el_auth$Auth2)))\n",
    ")"
   ]
  },
  {
   "cell_type": "code",
   "execution_count": 49,
   "id": "a59ae126",
   "metadata": {},
   "outputs": [],
   "source": [
    "## Which names will be plotted on vertex\n",
    "\n",
    "# threshold <- 750\n",
    "# names(V(g_auth))[degree(g_auth)>threshold]\n",
    "\n",
    "#l <- layout.lgl(g_auth,  \n",
    "#       maxiter=150,\n",
    "#       maxdelta=vcount(g_auth),\n",
    "#       area=vcount(g_auth)^2,\n",
    "#       coolexp=1.5\n",
    "#       )"
   ]
  },
  {
   "cell_type": "code",
   "execution_count": 50,
   "id": "79d7f5f5",
   "metadata": {},
   "outputs": [],
   "source": [
    "########\n",
    "## Kamada Kawai Force Direct Graph Layout\n",
    "########\n",
    "\n",
    "# options(repr.plot.width=16, repr.plot.height=16)\n",
    "\n",
    "# set.seed(54321) \n",
    "\n",
    "# t0 <- Sys.time()\n",
    "\n",
    "# l_kk <- layout_with_kk(g_auth)\n",
    "\n",
    "# plot(g_auth, \n",
    "#     layout=l_kk,  \n",
    "#     ## Vertex attributes\n",
    "#     #vertex.label = ifelse(degree(g_auth) > threshold, names(V(g_auth)), NA),\n",
    "#     vertex.label = NA,\n",
    "#     #vertex.label.cex=0.25,\n",
    "#     #vertex.label.color=\"red\", \n",
    "#     #vertex.label.font=2,\n",
    "#     vertex.shape=\"circle\", \n",
    "#     vertex.size=0.1, \n",
    "#     vertex.color=V(g_auth)$color,\n",
    "#     vertex.frame.color='black',\n",
    "#     ## Edge attributes\n",
    "#     edge.mode=0,\n",
    "#     edge.color='grey90',\n",
    "#     edge.arrow.size=0.1, \n",
    "#     edge.width=0.1,\n",
    "#     ## Other attributes\n",
    "#     frame=TRUE\n",
    "#     )\n",
    "\n",
    "# t1 <- Sys.time()\n",
    "# t1-t0"
   ]
  },
  {
   "cell_type": "code",
   "execution_count": 51,
   "id": "29fb8aa9",
   "metadata": {},
   "outputs": [],
   "source": [
    "########\n",
    "## Kamada Kawai Force Direct Graph Layout\n",
    "########\n",
    "# set.seed(54321) \n",
    "\n",
    "# t0 <- Sys.time()\n",
    "\n",
    "# l_kk <- layout_with_kk(g_auth)\n",
    "\n",
    "# plot(g_auth, \n",
    "#     layout=l_kk,  \n",
    "#     ## Vertex attributes\n",
    "#     #vertex.label = ifelse(degree(g_auth) > threshold, names(V(g_auth)), NA),\n",
    "#     vertex.label = NA,\n",
    "#     #vertex.label.cex=0.25,\n",
    "#     #vertex.label.color=\"red\", \n",
    "#     #vertex.label.font=2,\n",
    "#     vertex.shape=\"circle\", \n",
    "#     vertex.size=0.1, \n",
    "#     vertex.color=\"black\",\n",
    "#     vertex.frame.color='black',\n",
    "#     ## Edge attributes\n",
    "#     edge.mode=0,\n",
    "#     edge.color='grey90',\n",
    "#     edge.arrow.size=0.1, \n",
    "#     edge.width=0.1,\n",
    "#     ## Other attributes\n",
    "#     frame=TRUE\n",
    "#     )\n",
    "\n",
    "# t1 <- Sys.time()\n",
    "# t1-t0"
   ]
  },
  {
   "cell_type": "code",
   "execution_count": null,
   "id": "97bcc722",
   "metadata": {},
   "outputs": [],
   "source": []
  },
  {
   "cell_type": "code",
   "execution_count": null,
   "id": "d92ea2ff",
   "metadata": {},
   "outputs": [],
   "source": []
  },
  {
   "cell_type": "code",
   "execution_count": null,
   "id": "8a15e372",
   "metadata": {},
   "outputs": [],
   "source": []
  },
  {
   "cell_type": "code",
   "execution_count": 52,
   "id": "f25c35c2",
   "metadata": {},
   "outputs": [],
   "source": [
    "########################################################\n",
    "##\n",
    "##\n",
    "## Collaborative Networks (Local vs National vs International)\n",
    "##\n",
    "##\n",
    "########################################################"
   ]
  },
  {
   "cell_type": "code",
   "execution_count": 53,
   "id": "1038f49f",
   "metadata": {},
   "outputs": [
    {
     "data": {
      "text/html": [
       "<table class=\"dataframe\">\n",
       "<caption>A data.frame: 6 × 6</caption>\n",
       "<thead>\n",
       "\t<tr><th></th><th scope=col>eid</th><th scope=col>affil_city</th><th scope=col>affil_id</th><th scope=col>affil_name</th><th scope=col>affil_country</th><th scope=col>doc_id</th></tr>\n",
       "\t<tr><th></th><th scope=col>&lt;chr&gt;</th><th scope=col>&lt;chr&gt;</th><th scope=col>&lt;int&gt;</th><th scope=col>&lt;chr&gt;</th><th scope=col>&lt;chr&gt;</th><th scope=col>&lt;int&gt;</th></tr>\n",
       "</thead>\n",
       "<tbody>\n",
       "\t<tr><th scope=row>1</th><td>2-s2.0-85140976962</td><td>Plymouth  </td><td>60024779</td><td>University of Plymouth                                            </td><td>United Kingdom</td><td>1</td></tr>\n",
       "\t<tr><th scope=row>2</th><td>2-s2.0-85140976962</td><td>London    </td><td>60022148</td><td>University College London                                         </td><td>United Kingdom</td><td>1</td></tr>\n",
       "\t<tr><th scope=row>3</th><td>2-s2.0-85140976962</td><td>Oxford    </td><td>60002634</td><td>University of Oxford Medical Sciences Division                    </td><td>United Kingdom</td><td>1</td></tr>\n",
       "\t<tr><th scope=row>4</th><td>2-s2.0-85121747496</td><td>London    </td><td>60022148</td><td>University College London                                         </td><td>United Kingdom</td><td>2</td></tr>\n",
       "\t<tr><th scope=row>5</th><td>2-s2.0-85121747496</td><td>Nottingham</td><td>60015138</td><td>University of Nottingham                                          </td><td>United Kingdom</td><td>2</td></tr>\n",
       "\t<tr><th scope=row>6</th><td>2-s2.0-85121747496</td><td>Norwich   </td><td>60011775</td><td>University of East Anglia, Faculty of Medicine and Health Sciences</td><td>United Kingdom</td><td>2</td></tr>\n",
       "</tbody>\n",
       "</table>\n"
      ],
      "text/latex": [
       "A data.frame: 6 × 6\n",
       "\\begin{tabular}{r|llllll}\n",
       "  & eid & affil\\_city & affil\\_id & affil\\_name & affil\\_country & doc\\_id\\\\\n",
       "  & <chr> & <chr> & <int> & <chr> & <chr> & <int>\\\\\n",
       "\\hline\n",
       "\t1 & 2-s2.0-85140976962 & Plymouth   & 60024779 & University of Plymouth                                             & United Kingdom & 1\\\\\n",
       "\t2 & 2-s2.0-85140976962 & London     & 60022148 & University College London                                          & United Kingdom & 1\\\\\n",
       "\t3 & 2-s2.0-85140976962 & Oxford     & 60002634 & University of Oxford Medical Sciences Division                     & United Kingdom & 1\\\\\n",
       "\t4 & 2-s2.0-85121747496 & London     & 60022148 & University College London                                          & United Kingdom & 2\\\\\n",
       "\t5 & 2-s2.0-85121747496 & Nottingham & 60015138 & University of Nottingham                                           & United Kingdom & 2\\\\\n",
       "\t6 & 2-s2.0-85121747496 & Norwich    & 60011775 & University of East Anglia, Faculty of Medicine and Health Sciences & United Kingdom & 2\\\\\n",
       "\\end{tabular}\n"
      ],
      "text/markdown": [
       "\n",
       "A data.frame: 6 × 6\n",
       "\n",
       "| <!--/--> | eid &lt;chr&gt; | affil_city &lt;chr&gt; | affil_id &lt;int&gt; | affil_name &lt;chr&gt; | affil_country &lt;chr&gt; | doc_id &lt;int&gt; |\n",
       "|---|---|---|---|---|---|---|\n",
       "| 1 | 2-s2.0-85140976962 | Plymouth   | 60024779 | University of Plymouth                                             | United Kingdom | 1 |\n",
       "| 2 | 2-s2.0-85140976962 | London     | 60022148 | University College London                                          | United Kingdom | 1 |\n",
       "| 3 | 2-s2.0-85140976962 | Oxford     | 60002634 | University of Oxford Medical Sciences Division                     | United Kingdom | 1 |\n",
       "| 4 | 2-s2.0-85121747496 | London     | 60022148 | University College London                                          | United Kingdom | 2 |\n",
       "| 5 | 2-s2.0-85121747496 | Nottingham | 60015138 | University of Nottingham                                           | United Kingdom | 2 |\n",
       "| 6 | 2-s2.0-85121747496 | Norwich    | 60011775 | University of East Anglia, Faculty of Medicine and Health Sciences | United Kingdom | 2 |\n",
       "\n"
      ],
      "text/plain": [
       "  eid                affil_city affil_id\n",
       "1 2-s2.0-85140976962 Plymouth   60024779\n",
       "2 2-s2.0-85140976962 London     60022148\n",
       "3 2-s2.0-85140976962 Oxford     60002634\n",
       "4 2-s2.0-85121747496 London     60022148\n",
       "5 2-s2.0-85121747496 Nottingham 60015138\n",
       "6 2-s2.0-85121747496 Norwich    60011775\n",
       "  affil_name                                                        \n",
       "1 University of Plymouth                                            \n",
       "2 University College London                                         \n",
       "3 University of Oxford Medical Sciences Division                    \n",
       "4 University College London                                         \n",
       "5 University of Nottingham                                          \n",
       "6 University of East Anglia, Faculty of Medicine and Health Sciences\n",
       "  affil_country  doc_id\n",
       "1 United Kingdom 1     \n",
       "2 United Kingdom 1     \n",
       "3 United Kingdom 1     \n",
       "4 United Kingdom 2     \n",
       "5 United Kingdom 2     \n",
       "6 United Kingdom 2     "
      ]
     },
     "metadata": {},
     "output_type": "display_data"
    }
   ],
   "source": [
    "##\n",
    "## Import author affiliation location/country data\n",
    "##\n",
    "affils_eid_df1 <- read.csv(file=affils_eid_fpath1, header=TRUE, sep=\",\", stringsAsFactors=FALSE)\n",
    "affils_eid_df2 <- read.csv(file=affils_eid_fpath2, header=TRUE, sep=\",\", stringsAsFactors=FALSE)\n",
    "\n",
    "affils_eid_df <- rbind(affils_eid_df1, affils_eid_df2)\n",
    "\n",
    "head(affils_eid_df)"
   ]
  },
  {
   "cell_type": "code",
   "execution_count": 54,
   "id": "d8f6a6e7",
   "metadata": {},
   "outputs": [
    {
     "data": {
      "text/html": [
       "<ol>\n",
       "\t<li><style>\n",
       ".list-inline {list-style: none; margin:0; padding: 0}\n",
       ".list-inline>li {display: inline-block}\n",
       ".list-inline>li:not(:last-child)::after {content: \"\\00b7\"; padding: 0 .5ex}\n",
       "</style>\n",
       "<ol class=list-inline><li>65867</li><li>6</li></ol>\n",
       "</li>\n",
       "\t<li>13098</li>\n",
       "</ol>\n"
      ],
      "text/latex": [
       "\\begin{enumerate}\n",
       "\\item \\begin{enumerate*}\n",
       "\\item 65867\n",
       "\\item 6\n",
       "\\end{enumerate*}\n",
       "\n",
       "\\item 13098\n",
       "\\end{enumerate}\n"
      ],
      "text/markdown": [
       "1. 1. 65867\n",
       "2. 6\n",
       "\n",
       "\n",
       "\n",
       "2. 13098\n",
       "\n",
       "\n"
      ],
      "text/plain": [
       "[[1]]\n",
       "[1] 65867     6\n",
       "\n",
       "[[2]]\n",
       "[1] 13098\n"
      ]
     },
     "metadata": {},
     "output_type": "display_data"
    }
   ],
   "source": [
    "##\n",
    "## Only keep subset of collaborations in the \"dfcm_eid\" vector\n",
    "##\n",
    "list(\n",
    "    dim(affils_eid_df),\n",
    "    length(unique(affils_eid_df$eid))\n",
    "    )"
   ]
  },
  {
   "cell_type": "code",
   "execution_count": 55,
   "id": "38c2f581",
   "metadata": {},
   "outputs": [
    {
     "data": {
      "text/html": [
       "<ol>\n",
       "\t<li><style>\n",
       ".list-inline {list-style: none; margin:0; padding: 0}\n",
       ".list-inline>li {display: inline-block}\n",
       ".list-inline>li:not(:last-child)::after {content: \"\\00b7\"; padding: 0 .5ex}\n",
       "</style>\n",
       "<ol class=list-inline><li>65867</li><li>6</li></ol>\n",
       "</li>\n",
       "\t<li><style>\n",
       ".list-inline {list-style: none; margin:0; padding: 0}\n",
       ".list-inline>li {display: inline-block}\n",
       ".list-inline>li:not(:last-child)::after {content: \"\\00b7\"; padding: 0 .5ex}\n",
       "</style>\n",
       "<ol class=list-inline><li>64850</li><li>6</li></ol>\n",
       "</li>\n",
       "</ol>\n"
      ],
      "text/latex": [
       "\\begin{enumerate}\n",
       "\\item \\begin{enumerate*}\n",
       "\\item 65867\n",
       "\\item 6\n",
       "\\end{enumerate*}\n",
       "\n",
       "\\item \\begin{enumerate*}\n",
       "\\item 64850\n",
       "\\item 6\n",
       "\\end{enumerate*}\n",
       "\n",
       "\\end{enumerate}\n"
      ],
      "text/markdown": [
       "1. 1. 65867\n",
       "2. 6\n",
       "\n",
       "\n",
       "\n",
       "2. 1. 64850\n",
       "2. 6\n",
       "\n",
       "\n",
       "\n",
       "\n",
       "\n"
      ],
      "text/plain": [
       "[[1]]\n",
       "[1] 65867     6\n",
       "\n",
       "[[2]]\n",
       "[1] 64850     6\n"
      ]
     },
     "metadata": {},
     "output_type": "display_data"
    }
   ],
   "source": [
    "##\n",
    "## Handle missing affiliation data --- this often presents as a nrow=1 dataFrame with all NAs for affiliation data\n",
    "##\n",
    "affils_eid_df_sm <- affils_eid_df[!(is.na(affils_eid_df$affil_city) | is.na(affils_eid_df$affil_country)), ]\n",
    "\n",
    "list(\n",
    "    dim(affils_eid_df),\n",
    "    dim(affils_eid_df_sm)\n",
    ")"
   ]
  },
  {
   "cell_type": "code",
   "execution_count": 56,
   "id": "843197b6",
   "metadata": {},
   "outputs": [
    {
     "data": {
      "text/html": [
       "12081"
      ],
      "text/latex": [
       "12081"
      ],
      "text/markdown": [
       "12081"
      ],
      "text/plain": [
       "[1] 12081"
      ]
     },
     "metadata": {},
     "output_type": "display_data"
    }
   ],
   "source": [
    "## Split affiliations by EID/\n",
    "affil_split <- split(affils_eid_df_sm, f=as.factor(affils_eid_df_sm$eid))\n",
    "length(affil_split)"
   ]
  },
  {
   "cell_type": "code",
   "execution_count": 57,
   "id": "ee884488",
   "metadata": {},
   "outputs": [
    {
     "data": {
      "text/plain": [
       "affil_size\n",
       "   1    2    3    4    5    6    7    8    9   10   11   12   13   14   15   16 \n",
       "1220 1835 1997 1752 1274 1038  739  533  381  263  225  144  118   93   67   65 \n",
       "  17   18   19   20   21   22   23   24   25   26   27   28   29   30   31   32 \n",
       "  45   42   33   34   21   11   14   16   11    9    7    7    7    8    7    2 \n",
       "  33   34   35   36   37   38   39   40   41   42   43   44   45   47   50   52 \n",
       "   2    1    2    4    3    4    1    2    2    2    1    1    1    1    1    1 \n",
       "  54   56   61   62   63   66   69   70   71   72   73   74   77   78   79   83 \n",
       "   1    2    3    2    1    1    1    1    1    1    1    1    3    2    1    3 \n",
       "  84   87   89   96  104  107  127  281 \n",
       "   2    1    1    1    1    1    1    1 "
      ]
     },
     "metadata": {},
     "output_type": "display_data"
    }
   ],
   "source": [
    "## Affil size\n",
    "affil_size <- sapply(affil_split, nrow)\n",
    "table(affil_size)"
   ]
  },
  {
   "cell_type": "code",
   "execution_count": 58,
   "id": "54781256",
   "metadata": {},
   "outputs": [
    {
     "data": {
      "text/plain": [
       "national_collab_flag\n",
       "FALSE  TRUE \n",
       " 4088  7993 "
      ]
     },
     "metadata": {},
     "output_type": "display_data"
    }
   ],
   "source": [
    "## International vs National\n",
    "national_collab_flag <- sapply(affil_split, function(x) length(unique(x[[\"affil_country\"]]))==1)\n",
    "table(national_collab_flag)"
   ]
  },
  {
   "cell_type": "code",
   "execution_count": 59,
   "id": "4e137c83",
   "metadata": {},
   "outputs": [
    {
     "data": {
      "text/html": [
       "4088"
      ],
      "text/latex": [
       "4088"
      ],
      "text/markdown": [
       "4088"
      ],
      "text/plain": [
       "[1] 4088"
      ]
     },
     "metadata": {},
     "output_type": "display_data"
    }
   ],
   "source": [
    "## Get the international collaboartions\n",
    "int_affil_split <- affil_split[!national_collab_flag]\n",
    "length(int_affil_split)"
   ]
  },
  {
   "cell_type": "code",
   "execution_count": 60,
   "id": "82f3caa0",
   "metadata": {},
   "outputs": [
    {
     "data": {
      "text/html": [
       "7993"
      ],
      "text/latex": [
       "7993"
      ],
      "text/markdown": [
       "7993"
      ],
      "text/plain": [
       "[1] 7993"
      ]
     },
     "metadata": {},
     "output_type": "display_data"
    }
   ],
   "source": [
    "## Get the national collaborations\n",
    "nat_affil_split <- affil_split[national_collab_flag]\n",
    "length(nat_affil_split)"
   ]
  },
  {
   "cell_type": "code",
   "execution_count": 61,
   "id": "42d06fcf",
   "metadata": {},
   "outputs": [
    {
     "data": {
      "text/plain": [
       "local_collab_flag\n",
       "FALSE  TRUE \n",
       " 5211  2782 "
      ]
     },
     "metadata": {},
     "output_type": "display_data"
    }
   ],
   "source": [
    "## Are national collaborations only local --- based on affiliation city\n",
    "local_collab_flag <- sapply(nat_affil_split, function(x) length(unique(x[[\"affil_city\"]]))==1)\n",
    "table(local_collab_flag)"
   ]
  },
  {
   "cell_type": "code",
   "execution_count": 62,
   "id": "ac75d7e0",
   "metadata": {},
   "outputs": [
    {
     "data": {
      "text/html": [
       "2782"
      ],
      "text/latex": [
       "2782"
      ],
      "text/markdown": [
       "2782"
      ],
      "text/plain": [
       "[1] 2782"
      ]
     },
     "metadata": {},
     "output_type": "display_data"
    }
   ],
   "source": [
    "## Get local collaborations\n",
    "local_affil_split <- nat_affil_split[local_collab_flag]\n",
    "length(local_affil_split)"
   ]
  },
  {
   "cell_type": "code",
   "execution_count": 63,
   "id": "6462305b",
   "metadata": {},
   "outputs": [
    {
     "data": {
      "text/html": [
       "5211"
      ],
      "text/latex": [
       "5211"
      ],
      "text/markdown": [
       "5211"
      ],
      "text/plain": [
       "[1] 5211"
      ]
     },
     "metadata": {},
     "output_type": "display_data"
    }
   ],
   "source": [
    "## Get national collaborations\n",
    "nat_affil_split <- nat_affil_split[!local_collab_flag]\n",
    "length(nat_affil_split)"
   ]
  },
  {
   "cell_type": "code",
   "execution_count": 64,
   "id": "5493950d",
   "metadata": {},
   "outputs": [
    {
     "data": {
      "text/html": [
       "<style>\n",
       ".dl-inline {width: auto; margin:0; padding: 0}\n",
       ".dl-inline>dt, .dl-inline>dd {float: none; width: auto; display: inline-block}\n",
       ".dl-inline>dt::after {content: \":\\0020\"; padding-right: .5ex}\n",
       ".dl-inline>dt:not(:first-of-type) {padding-left: .5ex}\n",
       "</style><dl class=dl-inline><dt>local</dt><dd>2782</dd><dt>national</dt><dd>5211</dd><dt>international</dt><dd>4088</dd></dl>\n"
      ],
      "text/latex": [
       "\\begin{description*}\n",
       "\\item[local] 2782\n",
       "\\item[national] 5211\n",
       "\\item[international] 4088\n",
       "\\end{description*}\n"
      ],
      "text/markdown": [
       "local\n",
       ":   2782national\n",
       ":   5211international\n",
       ":   4088\n",
       "\n"
      ],
      "text/plain": [
       "        local      national international \n",
       "         2782          5211          4088 "
      ]
     },
     "metadata": {},
     "output_type": "display_data"
    }
   ],
   "source": [
    "## Vector of collab types\n",
    "collab_types <- c(local=length(local_affil_split), \n",
    "                 national=length(nat_affil_split),\n",
    "                 international=length(int_affil_split)\n",
    "                 )\n",
    "\n",
    "collab_types"
   ]
  },
  {
   "cell_type": "code",
   "execution_count": 65,
   "id": "9a324bee",
   "metadata": {},
   "outputs": [
    {
     "data": {
      "text/html": [
       "12081"
      ],
      "text/latex": [
       "12081"
      ],
      "text/markdown": [
       "12081"
      ],
      "text/plain": [
       "[1] 12081"
      ]
     },
     "metadata": {},
     "output_type": "display_data"
    }
   ],
   "source": [
    "sum(collab_types)"
   ]
  },
  {
   "cell_type": "code",
   "execution_count": 66,
   "id": "234c8daf",
   "metadata": {},
   "outputs": [
    {
     "data": {
      "text/html": [
       "<style>\n",
       ".dl-inline {width: auto; margin:0; padding: 0}\n",
       ".dl-inline>dt, .dl-inline>dd {float: none; width: auto; display: inline-block}\n",
       ".dl-inline>dt::after {content: \":\\0020\"; padding-right: .5ex}\n",
       ".dl-inline>dt:not(:first-of-type) {padding-left: .5ex}\n",
       "</style><dl class=dl-inline><dt>local</dt><dd>23.03</dd><dt>national</dt><dd>43.13</dd><dt>international</dt><dd>33.84</dd></dl>\n"
      ],
      "text/latex": [
       "\\begin{description*}\n",
       "\\item[local] 23.03\n",
       "\\item[national] 43.13\n",
       "\\item[international] 33.84\n",
       "\\end{description*}\n"
      ],
      "text/markdown": [
       "local\n",
       ":   23.03national\n",
       ":   43.13international\n",
       ":   33.84\n",
       "\n"
      ],
      "text/plain": [
       "        local      national international \n",
       "        23.03         43.13         33.84 "
      ]
     },
     "metadata": {},
     "output_type": "display_data"
    }
   ],
   "source": [
    "##\n",
    "## Proportion of research publications which are local vs. national vs. international in scope\n",
    "##\n",
    "round(collab_types/sum(collab_types)*100, 2)"
   ]
  },
  {
   "cell_type": "code",
   "execution_count": null,
   "id": "63c9615d",
   "metadata": {},
   "outputs": [],
   "source": []
  },
  {
   "cell_type": "code",
   "execution_count": null,
   "id": "6ce1f28e",
   "metadata": {},
   "outputs": [],
   "source": []
  },
  {
   "cell_type": "code",
   "execution_count": 67,
   "id": "6c16d750",
   "metadata": {},
   "outputs": [],
   "source": [
    "##\n",
    "## What countries involves in production of most primary care research\n",
    "##"
   ]
  },
  {
   "cell_type": "code",
   "execution_count": 68,
   "id": "be58c62b",
   "metadata": {},
   "outputs": [
    {
     "data": {
      "text/html": [
       "<table class=\"dataframe\">\n",
       "<caption>A data.frame: 25 × 2</caption>\n",
       "<thead>\n",
       "\t<tr><th></th><th scope=col>country</th><th scope=col>freq</th></tr>\n",
       "\t<tr><th></th><th scope=col>&lt;fct&gt;</th><th scope=col>&lt;int&gt;</th></tr>\n",
       "</thead>\n",
       "<tbody>\n",
       "\t<tr><th scope=row>26</th><td>Canada        </td><td>20238</td></tr>\n",
       "\t<tr><th scope=row>143</th><td>United States </td><td>16074</td></tr>\n",
       "\t<tr><th scope=row>142</th><td>United Kingdom</td><td>15612</td></tr>\n",
       "\t<tr><th scope=row>7</th><td>Australia     </td><td> 3682</td></tr>\n",
       "\t<tr><th scope=row>94</th><td>Netherlands   </td><td>  796</td></tr>\n",
       "\t<tr><th scope=row>127</th><td>Spain         </td><td>  647</td></tr>\n",
       "\t<tr><th scope=row>51</th><td>Germany       </td><td>  616</td></tr>\n",
       "\t<tr><th scope=row>66</th><td>Italy         </td><td>  545</td></tr>\n",
       "\t<tr><th scope=row>13</th><td>Belgium       </td><td>  441</td></tr>\n",
       "\t<tr><th scope=row>48</th><td>France        </td><td>  432</td></tr>\n",
       "\t<tr><th scope=row>130</th><td>Sweden        </td><td>  431</td></tr>\n",
       "\t<tr><th scope=row>30</th><td>China         </td><td>  398</td></tr>\n",
       "\t<tr><th scope=row>40</th><td>Denmark       </td><td>  396</td></tr>\n",
       "\t<tr><th scope=row>131</th><td>Switzerland   </td><td>  326</td></tr>\n",
       "\t<tr><th scope=row>99</th><td>Norway        </td><td>  314</td></tr>\n",
       "\t<tr><th scope=row>58</th><td>Hong Kong     </td><td>  280</td></tr>\n",
       "\t<tr><th scope=row>125</th><td>South Africa  </td><td>  225</td></tr>\n",
       "\t<tr><th scope=row>95</th><td>New Zealand   </td><td>  224</td></tr>\n",
       "\t<tr><th scope=row>68</th><td>Japan         </td><td>  190</td></tr>\n",
       "\t<tr><th scope=row>61</th><td>India         </td><td>  188</td></tr>\n",
       "\t<tr><th scope=row>64</th><td>Ireland       </td><td>  186</td></tr>\n",
       "\t<tr><th scope=row>120</th><td>Singapore     </td><td>  174</td></tr>\n",
       "\t<tr><th scope=row>20</th><td>Brazil        </td><td>  153</td></tr>\n",
       "\t<tr><th scope=row>47</th><td>Finland       </td><td>  112</td></tr>\n",
       "\t<tr><th scope=row>53</th><td>Greece        </td><td>  108</td></tr>\n",
       "</tbody>\n",
       "</table>\n"
      ],
      "text/latex": [
       "A data.frame: 25 × 2\n",
       "\\begin{tabular}{r|ll}\n",
       "  & country & freq\\\\\n",
       "  & <fct> & <int>\\\\\n",
       "\\hline\n",
       "\t26 & Canada         & 20238\\\\\n",
       "\t143 & United States  & 16074\\\\\n",
       "\t142 & United Kingdom & 15612\\\\\n",
       "\t7 & Australia      &  3682\\\\\n",
       "\t94 & Netherlands    &   796\\\\\n",
       "\t127 & Spain          &   647\\\\\n",
       "\t51 & Germany        &   616\\\\\n",
       "\t66 & Italy          &   545\\\\\n",
       "\t13 & Belgium        &   441\\\\\n",
       "\t48 & France         &   432\\\\\n",
       "\t130 & Sweden         &   431\\\\\n",
       "\t30 & China          &   398\\\\\n",
       "\t40 & Denmark        &   396\\\\\n",
       "\t131 & Switzerland    &   326\\\\\n",
       "\t99 & Norway         &   314\\\\\n",
       "\t58 & Hong Kong      &   280\\\\\n",
       "\t125 & South Africa   &   225\\\\\n",
       "\t95 & New Zealand    &   224\\\\\n",
       "\t68 & Japan          &   190\\\\\n",
       "\t61 & India          &   188\\\\\n",
       "\t64 & Ireland        &   186\\\\\n",
       "\t120 & Singapore      &   174\\\\\n",
       "\t20 & Brazil         &   153\\\\\n",
       "\t47 & Finland        &   112\\\\\n",
       "\t53 & Greece         &   108\\\\\n",
       "\\end{tabular}\n"
      ],
      "text/markdown": [
       "\n",
       "A data.frame: 25 × 2\n",
       "\n",
       "| <!--/--> | country &lt;fct&gt; | freq &lt;int&gt; |\n",
       "|---|---|---|\n",
       "| 26 | Canada         | 20238 |\n",
       "| 143 | United States  | 16074 |\n",
       "| 142 | United Kingdom | 15612 |\n",
       "| 7 | Australia      |  3682 |\n",
       "| 94 | Netherlands    |   796 |\n",
       "| 127 | Spain          |   647 |\n",
       "| 51 | Germany        |   616 |\n",
       "| 66 | Italy          |   545 |\n",
       "| 13 | Belgium        |   441 |\n",
       "| 48 | France         |   432 |\n",
       "| 130 | Sweden         |   431 |\n",
       "| 30 | China          |   398 |\n",
       "| 40 | Denmark        |   396 |\n",
       "| 131 | Switzerland    |   326 |\n",
       "| 99 | Norway         |   314 |\n",
       "| 58 | Hong Kong      |   280 |\n",
       "| 125 | South Africa   |   225 |\n",
       "| 95 | New Zealand    |   224 |\n",
       "| 68 | Japan          |   190 |\n",
       "| 61 | India          |   188 |\n",
       "| 64 | Ireland        |   186 |\n",
       "| 120 | Singapore      |   174 |\n",
       "| 20 | Brazil         |   153 |\n",
       "| 47 | Finland        |   112 |\n",
       "| 53 | Greece         |   108 |\n",
       "\n"
      ],
      "text/plain": [
       "    country        freq \n",
       "26  Canada         20238\n",
       "143 United States  16074\n",
       "142 United Kingdom 15612\n",
       "7   Australia       3682\n",
       "94  Netherlands      796\n",
       "127 Spain            647\n",
       "51  Germany          616\n",
       "66  Italy            545\n",
       "13  Belgium          441\n",
       "48  France           432\n",
       "130 Sweden           431\n",
       "30  China            398\n",
       "40  Denmark          396\n",
       "131 Switzerland      326\n",
       "99  Norway           314\n",
       "58  Hong Kong        280\n",
       "125 South Africa     225\n",
       "95  New Zealand      224\n",
       "68  Japan            190\n",
       "61  India            188\n",
       "64  Ireland          186\n",
       "120 Singapore        174\n",
       "20  Brazil           153\n",
       "47  Finland          112\n",
       "53  Greece           108"
      ]
     },
     "metadata": {},
     "output_type": "display_data"
    }
   ],
   "source": [
    "affil_country <- data.frame(table(affils_eid_df_sm$affil_country))\n",
    "names(affil_country) <- c(\"country\", \"freq\")\n",
    "affil_country <- with(affil_country, affil_country[order(-freq), ])\n",
    "head(affil_country, 25)"
   ]
  },
  {
   "cell_type": "code",
   "execution_count": 69,
   "id": "23636c44",
   "metadata": {},
   "outputs": [],
   "source": [
    "##\n",
    "## What institutions are producing most primary care research\n",
    "##"
   ]
  },
  {
   "cell_type": "code",
   "execution_count": 70,
   "id": "f76eb435",
   "metadata": {},
   "outputs": [
    {
     "data": {
      "text/html": [
       "<table class=\"dataframe\">\n",
       "<caption>A data.frame: 25 × 2</caption>\n",
       "<thead>\n",
       "\t<tr><th></th><th scope=col>institution</th><th scope=col>freq</th></tr>\n",
       "\t<tr><th></th><th scope=col>&lt;fct&gt;</th><th scope=col>&lt;int&gt;</th></tr>\n",
       "</thead>\n",
       "<tbody>\n",
       "\t<tr><th scope=row>7553</th><td>University of Oxford Medical Sciences Division                 </td><td>2182</td></tr>\n",
       "\t<tr><th scope=row>7654</th><td>University of Toronto                                          </td><td>1799</td></tr>\n",
       "\t<tr><th scope=row>7251</th><td>University College London                                      </td><td>1096</td></tr>\n",
       "\t<tr><th scope=row>6579</th><td>The University of British Columbia                             </td><td> 936</td></tr>\n",
       "\t<tr><th scope=row>7551</th><td>University of Ottawa                                           </td><td> 740</td></tr>\n",
       "\t<tr><th scope=row>2447</th><td>Geisel School of Medicine at Dartmouth                         </td><td> 666</td></tr>\n",
       "\t<tr><th scope=row>7655</th><td>University of Toronto Faculty of Medicine                      </td><td> 599</td></tr>\n",
       "\t<tr><th scope=row>7206</th><td>Université McGill                                              </td><td> 568</td></tr>\n",
       "\t<tr><th scope=row>4976</th><td>Ottawa Hospital Research Institute                             </td><td> 567</td></tr>\n",
       "\t<tr><th scope=row>3209</th><td>Institute for Clinical Evaluative Sciences                     </td><td> 543</td></tr>\n",
       "\t<tr><th scope=row>7552</th><td>University of Oxford                                           </td><td> 507</td></tr>\n",
       "\t<tr><th scope=row>3248</th><td>Institute of Health Policy, Management and Evaluation          </td><td> 479</td></tr>\n",
       "\t<tr><th scope=row>7202</th><td>Université Laval                                               </td><td> 474</td></tr>\n",
       "\t<tr><th scope=row>7353</th><td>University of California, San Francisco                        </td><td> 459</td></tr>\n",
       "\t<tr><th scope=row>3998</th><td>McMaster University                                            </td><td> 432</td></tr>\n",
       "\t<tr><th scope=row>7500</th><td>University of Michigan, Ann Arbor                              </td><td> 415</td></tr>\n",
       "\t<tr><th scope=row>2682</th><td>Harvard Medical School                                         </td><td> 414</td></tr>\n",
       "\t<tr><th scope=row>5729</th><td>Saint Michael's Hospital University of Toronto                 </td><td> 413</td></tr>\n",
       "\t<tr><th scope=row>7356</th><td>University of Cambridge                                        </td><td> 398</td></tr>\n",
       "\t<tr><th scope=row>3590</th><td>King's College London                                          </td><td> 391</td></tr>\n",
       "\t<tr><th scope=row>3761</th><td>Li Ka Shing Knowledge Institute                                </td><td> 387</td></tr>\n",
       "\t<tr><th scope=row>3163</th><td>Institut de Recherche Bruyère                                  </td><td> 375</td></tr>\n",
       "\t<tr><th scope=row>4932</th><td><span style=white-space:pre-wrap>Oregon Health &amp;amp; Science University                         </span></td><td> 351</td></tr>\n",
       "\t<tr><th scope=row>6451</th><td>The Dartmouth Institute for Health Policy and Clinical Practice</td><td> 349</td></tr>\n",
       "\t<tr><th scope=row>3825</th><td><span style=white-space:pre-wrap>London School of Hygiene &amp;amp; Tropical Medicine               </span></td><td> 344</td></tr>\n",
       "</tbody>\n",
       "</table>\n"
      ],
      "text/latex": [
       "A data.frame: 25 × 2\n",
       "\\begin{tabular}{r|ll}\n",
       "  & institution & freq\\\\\n",
       "  & <fct> & <int>\\\\\n",
       "\\hline\n",
       "\t7553 & University of Oxford Medical Sciences Division                  & 2182\\\\\n",
       "\t7654 & University of Toronto                                           & 1799\\\\\n",
       "\t7251 & University College London                                       & 1096\\\\\n",
       "\t6579 & The University of British Columbia                              &  936\\\\\n",
       "\t7551 & University of Ottawa                                            &  740\\\\\n",
       "\t2447 & Geisel School of Medicine at Dartmouth                          &  666\\\\\n",
       "\t7655 & University of Toronto Faculty of Medicine                       &  599\\\\\n",
       "\t7206 & Université McGill                                               &  568\\\\\n",
       "\t4976 & Ottawa Hospital Research Institute                              &  567\\\\\n",
       "\t3209 & Institute for Clinical Evaluative Sciences                      &  543\\\\\n",
       "\t7552 & University of Oxford                                            &  507\\\\\n",
       "\t3248 & Institute of Health Policy, Management and Evaluation           &  479\\\\\n",
       "\t7202 & Université Laval                                                &  474\\\\\n",
       "\t7353 & University of California, San Francisco                         &  459\\\\\n",
       "\t3998 & McMaster University                                             &  432\\\\\n",
       "\t7500 & University of Michigan, Ann Arbor                               &  415\\\\\n",
       "\t2682 & Harvard Medical School                                          &  414\\\\\n",
       "\t5729 & Saint Michael's Hospital University of Toronto                  &  413\\\\\n",
       "\t7356 & University of Cambridge                                         &  398\\\\\n",
       "\t3590 & King's College London                                           &  391\\\\\n",
       "\t3761 & Li Ka Shing Knowledge Institute                                 &  387\\\\\n",
       "\t3163 & Institut de Recherche Bruyère                                   &  375\\\\\n",
       "\t4932 & Oregon Health \\&amp; Science University                          &  351\\\\\n",
       "\t6451 & The Dartmouth Institute for Health Policy and Clinical Practice &  349\\\\\n",
       "\t3825 & London School of Hygiene \\&amp; Tropical Medicine                &  344\\\\\n",
       "\\end{tabular}\n"
      ],
      "text/markdown": [
       "\n",
       "A data.frame: 25 × 2\n",
       "\n",
       "| <!--/--> | institution &lt;fct&gt; | freq &lt;int&gt; |\n",
       "|---|---|---|\n",
       "| 7553 | University of Oxford Medical Sciences Division                  | 2182 |\n",
       "| 7654 | University of Toronto                                           | 1799 |\n",
       "| 7251 | University College London                                       | 1096 |\n",
       "| 6579 | The University of British Columbia                              |  936 |\n",
       "| 7551 | University of Ottawa                                            |  740 |\n",
       "| 2447 | Geisel School of Medicine at Dartmouth                          |  666 |\n",
       "| 7655 | University of Toronto Faculty of Medicine                       |  599 |\n",
       "| 7206 | Université McGill                                               |  568 |\n",
       "| 4976 | Ottawa Hospital Research Institute                              |  567 |\n",
       "| 3209 | Institute for Clinical Evaluative Sciences                      |  543 |\n",
       "| 7552 | University of Oxford                                            |  507 |\n",
       "| 3248 | Institute of Health Policy, Management and Evaluation           |  479 |\n",
       "| 7202 | Université Laval                                                |  474 |\n",
       "| 7353 | University of California, San Francisco                         |  459 |\n",
       "| 3998 | McMaster University                                             |  432 |\n",
       "| 7500 | University of Michigan, Ann Arbor                               |  415 |\n",
       "| 2682 | Harvard Medical School                                          |  414 |\n",
       "| 5729 | Saint Michael's Hospital University of Toronto                  |  413 |\n",
       "| 7356 | University of Cambridge                                         |  398 |\n",
       "| 3590 | King's College London                                           |  391 |\n",
       "| 3761 | Li Ka Shing Knowledge Institute                                 |  387 |\n",
       "| 3163 | Institut de Recherche Bruyère                                   |  375 |\n",
       "| 4932 | Oregon Health &amp;amp; Science University                          |  351 |\n",
       "| 6451 | The Dartmouth Institute for Health Policy and Clinical Practice |  349 |\n",
       "| 3825 | London School of Hygiene &amp;amp; Tropical Medicine                |  344 |\n",
       "\n"
      ],
      "text/plain": [
       "     institution                                                     freq\n",
       "7553 University of Oxford Medical Sciences Division                  2182\n",
       "7654 University of Toronto                                           1799\n",
       "7251 University College London                                       1096\n",
       "6579 The University of British Columbia                               936\n",
       "7551 University of Ottawa                                             740\n",
       "2447 Geisel School of Medicine at Dartmouth                           666\n",
       "7655 University of Toronto Faculty of Medicine                        599\n",
       "7206 Université McGill                                                568\n",
       "4976 Ottawa Hospital Research Institute                               567\n",
       "3209 Institute for Clinical Evaluative Sciences                       543\n",
       "7552 University of Oxford                                             507\n",
       "3248 Institute of Health Policy, Management and Evaluation            479\n",
       "7202 Université Laval                                                 474\n",
       "7353 University of California, San Francisco                          459\n",
       "3998 McMaster University                                              432\n",
       "7500 University of Michigan, Ann Arbor                                415\n",
       "2682 Harvard Medical School                                           414\n",
       "5729 Saint Michael's Hospital University of Toronto                   413\n",
       "7356 University of Cambridge                                          398\n",
       "3590 King's College London                                            391\n",
       "3761 Li Ka Shing Knowledge Institute                                  387\n",
       "3163 Institut de Recherche Bruyère                                    375\n",
       "4932 Oregon Health &amp; Science University                           351\n",
       "6451 The Dartmouth Institute for Health Policy and Clinical Practice  349\n",
       "3825 London School of Hygiene &amp; Tropical Medicine                 344"
      ]
     },
     "metadata": {},
     "output_type": "display_data"
    }
   ],
   "source": [
    "affil_inst <- data.frame(table(affils_eid_df_sm$affil_name))\n",
    "names(affil_inst) <- c(\"institution\", \"freq\")\n",
    "affil_inst <- with(affil_inst, affil_inst[order(-freq), ])\n",
    "head(affil_inst, 25)"
   ]
  },
  {
   "cell_type": "code",
   "execution_count": null,
   "id": "b386eaf2",
   "metadata": {},
   "outputs": [],
   "source": []
  },
  {
   "cell_type": "code",
   "execution_count": null,
   "id": "b576c538",
   "metadata": {},
   "outputs": [],
   "source": []
  },
  {
   "cell_type": "code",
   "execution_count": null,
   "id": "00b58f23",
   "metadata": {},
   "outputs": [],
   "source": []
  },
  {
   "cell_type": "code",
   "execution_count": null,
   "id": "87135251",
   "metadata": {},
   "outputs": [],
   "source": []
  },
  {
   "cell_type": "code",
   "execution_count": 71,
   "id": "2905d47a",
   "metadata": {},
   "outputs": [],
   "source": [
    "###########################\n",
    "## Session Information\n",
    "###########################"
   ]
  },
  {
   "cell_type": "code",
   "execution_count": 72,
   "id": "f107ef38",
   "metadata": {},
   "outputs": [
    {
     "data": {
      "text/html": [
       "<time datetime=\"2023-02-03\">2023-02-03</time>"
      ],
      "text/latex": [
       "2023-02-03"
      ],
      "text/markdown": [
       "2023-02-03"
      ],
      "text/plain": [
       "[1] \"2023-02-03\""
      ]
     },
     "metadata": {},
     "output_type": "display_data"
    }
   ],
   "source": [
    "Sys.Date()"
   ]
  },
  {
   "cell_type": "code",
   "execution_count": 73,
   "id": "10533b13",
   "metadata": {},
   "outputs": [
    {
     "data": {
      "text/plain": [
       "R version 4.1.3 (2022-03-10)\n",
       "Platform: x86_64-w64-mingw32/x64 (64-bit)\n",
       "Running under: Windows 10 x64 (build 17763)\n",
       "\n",
       "Matrix products: default\n",
       "\n",
       "locale:\n",
       "[1] LC_COLLATE=English_United States.1252 \n",
       "[2] LC_CTYPE=English_United States.1252   \n",
       "[3] LC_MONETARY=English_United States.1252\n",
       "[4] LC_NUMERIC=C                          \n",
       "[5] LC_TIME=English_United States.1252    \n",
       "\n",
       "attached base packages:\n",
       "[1] stats     graphics  grDevices utils     datasets  methods   base     \n",
       "\n",
       "other attached packages:\n",
       "[1] igraph_1.3.1\n",
       "\n",
       "loaded via a namespace (and not attached):\n",
       " [1] fansi_1.0.3     utf8_1.2.2      digest_0.6.29   crayon_1.5.1   \n",
       " [5] IRdisplay_1.1   repr_1.1.4      lifecycle_1.0.1 jsonlite_1.8.0 \n",
       " [9] magrittr_2.0.3  evaluate_0.15   pillar_1.7.0    rlang_1.0.2    \n",
       "[13] cli_3.3.0       uuid_1.1-0      vctrs_0.4.1     ellipsis_0.3.2 \n",
       "[17] IRkernel_1.3    tools_4.1.3     glue_1.6.2      fastmap_1.1.0  \n",
       "[21] compiler_4.1.3  pkgconfig_2.0.3 base64enc_0.1-3 pbdZMQ_0.3-7   \n",
       "[25] htmltools_0.5.2"
      ]
     },
     "metadata": {},
     "output_type": "display_data"
    }
   ],
   "source": [
    "sessionInfo()"
   ]
  },
  {
   "cell_type": "code",
   "execution_count": 74,
   "id": "27bf0c63",
   "metadata": {},
   "outputs": [
    {
     "data": {
      "text/plain": [
       "               _                           \n",
       "platform       x86_64-w64-mingw32          \n",
       "arch           x86_64                      \n",
       "os             mingw32                     \n",
       "system         x86_64, mingw32             \n",
       "status                                     \n",
       "major          4                           \n",
       "minor          1.3                         \n",
       "year           2022                        \n",
       "month          03                          \n",
       "day            10                          \n",
       "svn rev        81868                       \n",
       "language       R                           \n",
       "version.string R version 4.1.3 (2022-03-10)\n",
       "nickname       One Push-Up                 "
      ]
     },
     "metadata": {},
     "output_type": "display_data"
    }
   ],
   "source": [
    "version"
   ]
  },
  {
   "cell_type": "code",
   "execution_count": null,
   "id": "05c5c5eb",
   "metadata": {},
   "outputs": [],
   "source": []
  },
  {
   "cell_type": "code",
   "execution_count": null,
   "id": "6b071445",
   "metadata": {},
   "outputs": [],
   "source": []
  }
 ],
 "metadata": {
  "kernelspec": {
   "display_name": "R",
   "language": "R",
   "name": "ir"
  },
  "language_info": {
   "codemirror_mode": "r",
   "file_extension": ".r",
   "mimetype": "text/x-r-source",
   "name": "R",
   "pygments_lexer": "r",
   "version": "4.1.3"
  }
 },
 "nbformat": 4,
 "nbformat_minor": 5
}
