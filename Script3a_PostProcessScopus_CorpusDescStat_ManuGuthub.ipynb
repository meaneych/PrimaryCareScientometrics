{
 "cells": [
  {
   "cell_type": "code",
   "execution_count": 1,
   "id": "8ec10c32",
   "metadata": {},
   "outputs": [],
   "source": [
    "###############################################\n",
    "## Additional Descriptive Statistics Generated on Bibliometrics/Altmetrics Indicators for Primary Care Research Institutions\n",
    "##\n",
    "## Author: Christopher Meaney\n",
    "## Date: January 2023\n",
    "##############################################"
   ]
  },
  {
   "cell_type": "code",
   "execution_count": 2,
   "id": "e7fe5d55",
   "metadata": {},
   "outputs": [],
   "source": [
    "####################\n",
    "## Filepaths to import data\n",
    "####################\n",
    "\n",
    "## Set working directory path\n",
    "wd_path <- \"Enter_a_Path_to_a_Working_Directory_For_This_Project\"\n",
    "\n",
    "## Import the core scopus dataframe\n",
    "scopus_fpath <- paste0(wd_path, \"//Core_Scopus_Dataset_Sm.csv\")\n",
    "\n",
    "## Import the Altmetrics dataframe (social impact indicators)\n",
    "altmetrics_fpath <- scopus_fpath <- paste0(wd_path, \"//Altmetrics_AuthImpact_Data.csv\")"
   ]
  },
  {
   "cell_type": "code",
   "execution_count": null,
   "id": "64ed5972",
   "metadata": {},
   "outputs": [],
   "source": []
  },
  {
   "cell_type": "code",
   "execution_count": null,
   "id": "b55ca942",
   "metadata": {},
   "outputs": [],
   "source": []
  },
  {
   "cell_type": "code",
   "execution_count": 3,
   "id": "3c3836ed",
   "metadata": {},
   "outputs": [
    {
     "name": "stdout",
     "output_type": "stream",
     "text": [
      "'data.frame':\t18874 obs. of  25 variables:\n",
      " $ au_id         : num  1e+10 1e+10 1e+10 1e+10 1e+10 ...\n",
      " $ prism_url     : chr  \"https://api.elsevier.com/content/abstract/scopus_id/85140976962\" \"https://api.elsevier.com/content/abstract/scopus_id/85121747496\" \"https://api.elsevier.com/content/abstract/scopus_id/85112107056\" \"https://api.elsevier.com/content/abstract/scopus_id/85118672412\" ...\n",
      " $ eid           : chr  \"2-s2.0-85140976962\" \"2-s2.0-85121747496\" \"2-s2.0-85112107056\" \"2-s2.0-85118672412\" ...\n",
      " $ doi           : chr  \"10.1016/j.socscimed.2022.115463\" \"10.1111/add.15760\" \"10.1016/j.socscimed.2021.114262\" \"10.3399/BJGP.2021.0195\" ...\n",
      " $ issn          : chr  \"02779536\" \"09652140\" \"02779536\" \"09601643\" ...\n",
      " $ eissn         : chr  \"18735347\" \"13600443\" \"18735347\" \"14785242\" ...\n",
      " $ pub_title     : chr  \"Brief opportunistic interventions by general practitioners to promote smoking cessation: A conversation analytic study\" \"The old and familiar meets the new and unknown: patient and clinician perceptions on e-cigarettes for smoking r\"| __truncated__ \"Patients’ use of the internet to negotiate about treatment\" \"Factors affecting the documentation of spoken safety-netting advice in routine GP consultations: A cross-sectional study\" ...\n",
      " $ pub_author    : chr  \"Wheat H.\" \"Albury C.\" \"Stevenson F.A.\" \"Edwards P.J.\" ...\n",
      " $ pub_journal   : chr  \"Social Science and Medicine\" \"Addiction\" \"Social Science and Medicine\" \"British Journal of General Practice\" ...\n",
      " $ pub_date      : chr  \"2022-12-01\" \"2022-05-01\" \"2021-12-01\" \"2021-11-01\" ...\n",
      " $ pub_abstract  : chr  \"Very brief opportunistic interventions for smoking cessation are effective, cost-saving for health systems, and\"| __truncated__ \"Background and Aims: Clinicians could promote e-cigarettes for harm reduction to people who smoke but cannot st\"| __truncated__ \"The internet provides access to a huge variety of information, including health information. There is, however,\"| __truncated__ \"Background Previous studies have reported how often safetynetting is documented in medical records, but it is n\"| __truncated__ ...\n",
      " $ pub_keywords  : chr  \"Conversation analysis | Primary care | Smoking | Very brief advice (VBA) intervention\" \"e-cigarettes | family practice | harm reduction | Primary care | qualitative interviews | smoking reduction\" \"Conversation analysis | Doctor-patient interaction | Internet | Primary care | UK | Video-recorded consultations\" \"Health communication | Medical records | Medicolegal | Patient safety | Primary care | Safetynetting\" ...\n",
      " $ pub_type      : chr  \"Journal\" \"Journal\" \"Journal\" \"Journal\" ...\n",
      " $ pub_subtype   : chr  \"Article\" \"Article\" \"Article\" \"Article\" ...\n",
      " $ open_access   : logi  TRUE TRUE FALSE TRUE TRUE TRUE ...\n",
      " $ fund_acr      : chr  \"OxBRC\" \"NIHR\" \"NIHR\" \"NIHR\" ...\n",
      " $ fund_num      : chr  \"C56718/A23874\" \"333\" \"undefined\" \"RCF 19/20-64E\" ...\n",
      " $ fund_sponsor  : chr  \"NIHR Oxford Biomedical Research Centre\" \"National Institute for Health and Care Research\" \"National Institute for Health Research\" \"National Institute for Health Research\" ...\n",
      " $ cited_count   : int  0 1 3 7 2 1 2 0 1 2 ...\n",
      " $ nam           : chr  \"RebeccaBarnes\" \"RebeccaBarnes\" \"RebeccaBarnes\" \"RebeccaBarnes\" ...\n",
      " $ id            : num  1e+10 1e+10 1e+10 1e+10 1e+10 ...\n",
      " $ pub_year      : int  2022 2022 2021 2021 2021 2021 2021 2021 2020 2020 ...\n",
      " $ au_country    : chr  \"UK\" \"UK\" \"UK\" \"UK\" ...\n",
      " $ au_institution: chr  \"Oxford\" \"Oxford\" \"Oxford\" \"Oxford\" ...\n",
      " $ au_name       : chr  \"RebeccaBarnes\" \"RebeccaBarnes\" \"RebeccaBarnes\" \"RebeccaBarnes\" ...\n"
     ]
    }
   ],
   "source": [
    "#####################\n",
    "## Import core Scopus Dataset\n",
    "#####################\n",
    "scopus_df <- read.csv(scopus_fpath, header=TRUE, sep=\",\", stringsAsFactors=FALSE)\n",
    "str(scopus_df)"
   ]
  },
  {
   "cell_type": "code",
   "execution_count": 4,
   "id": "c68426ff",
   "metadata": {},
   "outputs": [
    {
     "data": {
      "text/html": [
       "<style>\n",
       ".list-inline {list-style: none; margin:0; padding: 0}\n",
       ".list-inline>li {display: inline-block}\n",
       ".list-inline>li:not(:last-child)::after {content: \"\\00b7\"; padding: 0 .5ex}\n",
       "</style>\n",
       "<ol class=list-inline><li>18874</li><li>25</li></ol>\n"
      ],
      "text/latex": [
       "\\begin{enumerate*}\n",
       "\\item 18874\n",
       "\\item 25\n",
       "\\end{enumerate*}\n"
      ],
      "text/markdown": [
       "1. 18874\n",
       "2. 25\n",
       "\n",
       "\n"
      ],
      "text/plain": [
       "[1] 18874    25"
      ]
     },
     "metadata": {},
     "output_type": "display_data"
    }
   ],
   "source": [
    "## Only keep publications from certain years --- 2017:2022\n",
    "scopus_df <- scopus_df[scopus_df$pub_year %in% 2017:2022, ]\n",
    "dim(scopus_df)"
   ]
  },
  {
   "cell_type": "code",
   "execution_count": 5,
   "id": "6f83ff37",
   "metadata": {},
   "outputs": [
    {
     "data": {
      "text/plain": [
       "\n",
       "2017 2018 2019 2020 2021 2022 \n",
       "2591 2811 2823 3075 3617 3957 "
      ]
     },
     "metadata": {},
     "output_type": "display_data"
    }
   ],
   "source": [
    "## Publications by year\n",
    "table(scopus_df$pub_year)"
   ]
  },
  {
   "cell_type": "code",
   "execution_count": 6,
   "id": "002b5222",
   "metadata": {},
   "outputs": [
    {
     "data": {
      "text/html": [
       "591"
      ],
      "text/latex": [
       "591"
      ],
      "text/markdown": [
       "591"
      ],
      "text/plain": [
       "[1] 591"
      ]
     },
     "metadata": {},
     "output_type": "display_data"
    }
   ],
   "source": [
    "## How many unique authors\n",
    "length(unique(scopus_df$au_id))"
   ]
  },
  {
   "cell_type": "code",
   "execution_count": null,
   "id": "368d5dbc",
   "metadata": {},
   "outputs": [],
   "source": []
  },
  {
   "cell_type": "code",
   "execution_count": null,
   "id": "8b8bca6b",
   "metadata": {},
   "outputs": [],
   "source": []
  },
  {
   "cell_type": "code",
   "execution_count": 8,
   "id": "582324bd",
   "metadata": {},
   "outputs": [
    {
     "data": {
      "text/html": [
       "<ol>\n",
       "\t<li><style>\n",
       ".list-inline {list-style: none; margin:0; padding: 0}\n",
       ".list-inline>li {display: inline-block}\n",
       ".list-inline>li:not(:last-child)::after {content: \"\\00b7\"; padding: 0 .5ex}\n",
       "</style>\n",
       "<ol class=list-inline><li>13047</li><li>26</li></ol>\n",
       "</li>\n",
       "\t<li><style>\n",
       ".list-inline {list-style: none; margin:0; padding: 0}\n",
       ".list-inline>li {display: inline-block}\n",
       ".list-inline>li:not(:last-child)::after {content: \"\\00b7\"; padding: 0 .5ex}\n",
       "</style>\n",
       "<ol class=list-inline><li>18874</li><li>26</li></ol>\n",
       "</li>\n",
       "</ol>\n"
      ],
      "text/latex": [
       "\\begin{enumerate}\n",
       "\\item \\begin{enumerate*}\n",
       "\\item 13047\n",
       "\\item 26\n",
       "\\end{enumerate*}\n",
       "\n",
       "\\item \\begin{enumerate*}\n",
       "\\item 18874\n",
       "\\item 26\n",
       "\\end{enumerate*}\n",
       "\n",
       "\\end{enumerate}\n"
      ],
      "text/markdown": [
       "1. 1. 13047\n",
       "2. 26\n",
       "\n",
       "\n",
       "\n",
       "2. 1. 18874\n",
       "2. 26\n",
       "\n",
       "\n",
       "\n",
       "\n",
       "\n"
      ],
      "text/plain": [
       "[[1]]\n",
       "[1] 13047    26\n",
       "\n",
       "[[2]]\n",
       "[1] 18874    26\n"
      ]
     },
     "metadata": {},
     "output_type": "display_data"
    }
   ],
   "source": [
    "####################\n",
    "## Create small data.frame that only considers unique publications\n",
    "####################\n",
    "scopus_df_uniq <- scopus_df[is.na(scopus_df$pub_title)==FALSE, ]\n",
    "scopus_df_uniq <- scopus_df_uniq[!duplicated(scopus_df_uniq$pub_title), ]\n",
    "\n",
    "list(\n",
    "    dim(scopus_df_uniq),\n",
    "    dim(scopus_df)\n",
    "    )"
   ]
  },
  {
   "cell_type": "code",
   "execution_count": 9,
   "id": "b0cad7b3",
   "metadata": {},
   "outputs": [
    {
     "data": {
      "text/html": [
       "<ol>\n",
       "\t<li>17</li>\n",
       "\t<li>591</li>\n",
       "\t<li>591</li>\n",
       "</ol>\n"
      ],
      "text/latex": [
       "\\begin{enumerate}\n",
       "\\item 17\n",
       "\\item 591\n",
       "\\item 591\n",
       "\\end{enumerate}\n"
      ],
      "text/markdown": [
       "1. 17\n",
       "2. 591\n",
       "3. 591\n",
       "\n",
       "\n"
      ],
      "text/plain": [
       "[[1]]\n",
       "[1] 17\n",
       "\n",
       "[[2]]\n",
       "[1] 591\n",
       "\n",
       "[[3]]\n",
       "[1] 591\n"
      ]
     },
     "metadata": {},
     "output_type": "display_data"
    }
   ],
   "source": [
    "## This should be the count of AUTHORS/RESEARCHERS publishing an article...\n",
    "list(\n",
    "    length(unique(scopus_df$au_institution)),\n",
    "    length(unique(scopus_df$au_name)),\n",
    "    length(unique(scopus_df$au_id))\n",
    ")"
   ]
  },
  {
   "cell_type": "code",
   "execution_count": 10,
   "id": "40e544db",
   "metadata": {},
   "outputs": [
    {
     "data": {
      "text/html": [
       "<ol>\n",
       "\t<li>17</li>\n",
       "\t<li>571</li>\n",
       "\t<li>571</li>\n",
       "</ol>\n"
      ],
      "text/latex": [
       "\\begin{enumerate}\n",
       "\\item 17\n",
       "\\item 571\n",
       "\\item 571\n",
       "\\end{enumerate}\n"
      ],
      "text/markdown": [
       "1. 17\n",
       "2. 571\n",
       "3. 571\n",
       "\n",
       "\n"
      ],
      "text/plain": [
       "[[1]]\n",
       "[1] 17\n",
       "\n",
       "[[2]]\n",
       "[1] 571\n",
       "\n",
       "[[3]]\n",
       "[1] 571\n"
      ]
     },
     "metadata": {},
     "output_type": "display_data"
    }
   ],
   "source": [
    "## This should not be count of unique authors/researchers, since it decreases when you remove duplicates\n",
    "## In other words, some people who co-authors articles with others in cohort, are excluded unnecessarily\n",
    "list(\n",
    "    length(unique(scopus_df_uniq$au_institution)),\n",
    "    length(unique(scopus_df_uniq$au_name)),\n",
    "    length(unique(scopus_df_uniq$au_id))\n",
    ")"
   ]
  },
  {
   "cell_type": "code",
   "execution_count": null,
   "id": "15188574",
   "metadata": {},
   "outputs": [],
   "source": []
  },
  {
   "cell_type": "code",
   "execution_count": null,
   "id": "7fc09767",
   "metadata": {},
   "outputs": [],
   "source": []
  },
  {
   "cell_type": "code",
   "execution_count": null,
   "id": "d648d3a1",
   "metadata": {},
   "outputs": [],
   "source": []
  },
  {
   "cell_type": "code",
   "execution_count": 11,
   "id": "49e5b5bc",
   "metadata": {},
   "outputs": [
    {
     "name": "stdout",
     "output_type": "stream",
     "text": [
      "'data.frame':\t13093 obs. of  17 variables:\n",
      " $ doi     : chr  \"10.1016/j.socscimed.2022.115463\" \"10.1111/add.15760\" \"10.1016/j.socscimed.2021.114262\" \"10.3399/BJGP.2021.0195\" ...\n",
      " $ title   : chr  \"Brief opportunistic interventions by general practitioners to promote smoking cessation: A conversation analytic study\" \"The old and familiar meets the new and unknown: patient and clinician perceptions on e-cigarettes for smoking r\"| __truncated__ \"Patients’ use of the internet to negotiate about treatment\" \"Factors affecting the documentation of spoken safety-netting advice in routine GP consultations: a cross-sectional study\" ...\n",
      " $ authors : chr  \"H. Wheat; R.K. Barnes; P. Aveyard; F. Stevenson; R. Begh\" \"Charlotte Albury; Rebecca Barnes; Anne Ferrey; Tim Coleman; Hazel Gilbert; Felix Naughton; Paul Aveyard; Rachna Begh\" \"Fiona A. Stevenson; Geraldine Leydon-Hudson; Elizabeth Murray; Maureen Seguin; Rebecca Barnes\" \"Peter J Edwards; Ian Bennett-Britton; Matthew J Ridd; Matthew Booker; Rebecca K Barnes\" ...\n",
      " $ posts   : int  9 45 18 55 15 16 46 57 19 2 ...\n",
      " $ tweets  : int  8 33 18 31 14 15 41 41 11 NA ...\n",
      " $ msm     : int  NA 1 NA NA NA NA NA NA NA NA ...\n",
      " $ fbwalls : int  NA NA NA 1 NA NA NA 1 NA 1 ...\n",
      " $ feeds   : int  NA NA NA 1 NA NA NA 1 NA 1 ...\n",
      " $ wiki    : int  NA NA NA NA NA NA NA NA NA NA ...\n",
      " $ linkedin: logi  NA NA NA NA NA NA ...\n",
      " $ peer    : int  NA NA NA NA NA NA NA NA NA NA ...\n",
      " $ policy  : int  NA NA NA NA NA NA NA NA NA NA ...\n",
      " $ rh      : int  NA NA NA NA NA NA NA NA NA NA ...\n",
      " $ gplus   : int  NA NA NA NA NA NA NA NA NA NA ...\n",
      " $ accounts: int  8 34 18 34 14 15 41 43 11 2 ...\n",
      " $ mendeley: int  5 15 24 11 22 19 45 18 20 39 ...\n",
      " $ score   : num  5.55 25.2 10.75 25.68 9.5 ...\n"
     ]
    }
   ],
   "source": [
    "#####################\n",
    "##\n",
    "## Import Altmetrics data\n",
    "##\n",
    "#####################\n",
    "altmetrics_df <- read.csv(altmetrics_fpath, header=TRUE, sep=\",\", stringsAsFactors=FALSE)\n",
    "str(altmetrics_df)"
   ]
  },
  {
   "cell_type": "code",
   "execution_count": 12,
   "id": "f4b6ce22",
   "metadata": {},
   "outputs": [],
   "source": [
    "## Only keep subset of variables for altmetrics\n",
    "keep_vars <- c(\"doi\",\"posts\",\"tweets\",\"msm\",\"fbwalls\",\"feeds\",\"wiki\",\"linkedin\",\"peer\",\"policy\",\"rh\",\"gplus\",\"accounts\",\"mendeley\",\"score\")\n",
    "altmetrics_df_sm <- altmetrics_df[,keep_vars]"
   ]
  },
  {
   "cell_type": "code",
   "execution_count": 13,
   "id": "e95d152c",
   "metadata": {},
   "outputs": [
    {
     "data": {
      "text/html": [
       "<style>\n",
       ".list-inline {list-style: none; margin:0; padding: 0}\n",
       ".list-inline>li {display: inline-block}\n",
       ".list-inline>li:not(:last-child)::after {content: \"\\00b7\"; padding: 0 .5ex}\n",
       "</style>\n",
       "<ol class=list-inline><li>13047</li><li>26</li></ol>\n"
      ],
      "text/latex": [
       "\\begin{enumerate*}\n",
       "\\item 13047\n",
       "\\item 26\n",
       "\\end{enumerate*}\n"
      ],
      "text/markdown": [
       "1. 13047\n",
       "2. 26\n",
       "\n",
       "\n"
      ],
      "text/plain": [
       "[1] 13047    26"
      ]
     },
     "metadata": {},
     "output_type": "display_data"
    }
   ],
   "source": [
    "dim(scopus_df_uniq)"
   ]
  },
  {
   "cell_type": "code",
   "execution_count": 14,
   "id": "457f2749",
   "metadata": {},
   "outputs": [
    {
     "data": {
      "text/html": [
       "<ol>\n",
       "\t<li><style>\n",
       ".list-inline {list-style: none; margin:0; padding: 0}\n",
       ".list-inline>li {display: inline-block}\n",
       ".list-inline>li:not(:last-child)::after {content: \"\\00b7\"; padding: 0 .5ex}\n",
       "</style>\n",
       "<ol class=list-inline><li>13093</li><li>17</li></ol>\n",
       "</li>\n",
       "\t<li><style>\n",
       ".list-inline {list-style: none; margin:0; padding: 0}\n",
       ".list-inline>li {display: inline-block}\n",
       ".list-inline>li:not(:last-child)::after {content: \"\\00b7\"; padding: 0 .5ex}\n",
       "</style>\n",
       "<ol class=list-inline><li>13047</li><li>40</li></ol>\n",
       "</li>\n",
       "</ol>\n"
      ],
      "text/latex": [
       "\\begin{enumerate}\n",
       "\\item \\begin{enumerate*}\n",
       "\\item 13093\n",
       "\\item 17\n",
       "\\end{enumerate*}\n",
       "\n",
       "\\item \\begin{enumerate*}\n",
       "\\item 13047\n",
       "\\item 40\n",
       "\\end{enumerate*}\n",
       "\n",
       "\\end{enumerate}\n"
      ],
      "text/markdown": [
       "1. 1. 13093\n",
       "2. 17\n",
       "\n",
       "\n",
       "\n",
       "2. 1. 13047\n",
       "2. 40\n",
       "\n",
       "\n",
       "\n",
       "\n",
       "\n"
      ],
      "text/plain": [
       "[[1]]\n",
       "[1] 13093    17\n",
       "\n",
       "[[2]]\n",
       "[1] 13047    40\n"
      ]
     },
     "metadata": {},
     "output_type": "display_data"
    }
   ],
   "source": [
    "####################################\n",
    "## Merge scopus data with altmetrics data\n",
    "#################################\n",
    "scopus_df_uniq <- merge(x=scopus_df_uniq, y=altmetrics_df_sm, by=\"doi\", all.x=TRUE)\n",
    "\n",
    "list(\n",
    "    dim(altmetrics_df),\n",
    "    dim(scopus_df_uniq)\n",
    ")"
   ]
  },
  {
   "cell_type": "code",
   "execution_count": 15,
   "id": "6a75d77c",
   "metadata": {},
   "outputs": [
    {
     "data": {
      "text/html": [
       "<ol>\n",
       "\t<li><style>\n",
       ".list-inline {list-style: none; margin:0; padding: 0}\n",
       ".list-inline>li {display: inline-block}\n",
       ".list-inline>li:not(:last-child)::after {content: \"\\00b7\"; padding: 0 .5ex}\n",
       "</style>\n",
       "<ol class=list-inline><li>13047</li><li>40</li></ol>\n",
       "</li>\n",
       "\t<li>13044</li>\n",
       "\t<li>13044</li>\n",
       "</ol>\n"
      ],
      "text/latex": [
       "\\begin{enumerate}\n",
       "\\item \\begin{enumerate*}\n",
       "\\item 13047\n",
       "\\item 40\n",
       "\\end{enumerate*}\n",
       "\n",
       "\\item 13044\n",
       "\\item 13044\n",
       "\\end{enumerate}\n"
      ],
      "text/markdown": [
       "1. 1. 13047\n",
       "2. 40\n",
       "\n",
       "\n",
       "\n",
       "2. 13044\n",
       "3. 13044\n",
       "\n",
       "\n"
      ],
      "text/plain": [
       "[[1]]\n",
       "[1] 13047    40\n",
       "\n",
       "[[2]]\n",
       "[1] 13044\n",
       "\n",
       "[[3]]\n",
       "[1] 13044\n"
      ]
     },
     "metadata": {},
     "output_type": "display_data"
    }
   ],
   "source": [
    "## How many DOIs in common between scopus and altmetrics data.frame\n",
    "\n",
    "list(\n",
    "    dim(scopus_df_uniq),\n",
    "    length(unique(scopus_df_uniq$doi)),\n",
    "    length(intersect(scopus_df_uniq$doi, altmetrics_df$doi))\n",
    ")"
   ]
  },
  {
   "cell_type": "code",
   "execution_count": 30,
   "id": "92175806",
   "metadata": {},
   "outputs": [
    {
     "data": {
      "text/html": [
       "<table class=\"dataframe\">\n",
       "<caption>A data.frame: 40 × 1</caption>\n",
       "<thead>\n",
       "\t<tr><th></th><th scope=col>missing_counts</th></tr>\n",
       "\t<tr><th></th><th scope=col>&lt;int&gt;</th></tr>\n",
       "</thead>\n",
       "<tbody>\n",
       "\t<tr><th scope=row>doi</th><td>   0</td></tr>\n",
       "\t<tr><th scope=row>au_id</th><td>   0</td></tr>\n",
       "\t<tr><th scope=row>prism_url</th><td>   0</td></tr>\n",
       "\t<tr><th scope=row>eid</th><td>   0</td></tr>\n",
       "\t<tr><th scope=row>issn</th><td>4434</td></tr>\n",
       "\t<tr><th scope=row>eissn</th><td> 806</td></tr>\n",
       "\t<tr><th scope=row>pub_title</th><td>   0</td></tr>\n",
       "\t<tr><th scope=row>pub_author</th><td>   0</td></tr>\n",
       "\t<tr><th scope=row>pub_journal</th><td>   0</td></tr>\n",
       "\t<tr><th scope=row>pub_date</th><td>   0</td></tr>\n",
       "\t<tr><th scope=row>pub_abstract</th><td> 524</td></tr>\n",
       "\t<tr><th scope=row>pub_keywords</th><td>3668</td></tr>\n",
       "\t<tr><th scope=row>pub_type</th><td>   0</td></tr>\n",
       "\t<tr><th scope=row>pub_subtype</th><td>   0</td></tr>\n",
       "\t<tr><th scope=row>open_access</th><td>   0</td></tr>\n",
       "\t<tr><th scope=row>fund_acr</th><td>4804</td></tr>\n",
       "\t<tr><th scope=row>fund_num</th><td>   1</td></tr>\n",
       "\t<tr><th scope=row>fund_sponsor</th><td>4209</td></tr>\n",
       "\t<tr><th scope=row>cited_count</th><td>   0</td></tr>\n",
       "\t<tr><th scope=row>nam</th><td>   0</td></tr>\n",
       "\t<tr><th scope=row>id</th><td>   0</td></tr>\n",
       "\t<tr><th scope=row>pub_year</th><td>   0</td></tr>\n",
       "\t<tr><th scope=row>au_country</th><td>   0</td></tr>\n",
       "\t<tr><th scope=row>au_institution</th><td>   0</td></tr>\n",
       "\t<tr><th scope=row>au_name</th><td>   0</td></tr>\n",
       "\t<tr><th scope=row>au_institution_country</th><td>   0</td></tr>\n",
       "\t<tr><th scope=row>posts</th><td>   0</td></tr>\n",
       "\t<tr><th scope=row>tweets</th><td>   0</td></tr>\n",
       "\t<tr><th scope=row>msm</th><td>   0</td></tr>\n",
       "\t<tr><th scope=row>fbwalls</th><td>   0</td></tr>\n",
       "\t<tr><th scope=row>feeds</th><td>   0</td></tr>\n",
       "\t<tr><th scope=row>wiki</th><td>   0</td></tr>\n",
       "\t<tr><th scope=row>linkedin</th><td>   0</td></tr>\n",
       "\t<tr><th scope=row>peer</th><td>   0</td></tr>\n",
       "\t<tr><th scope=row>policy</th><td>   0</td></tr>\n",
       "\t<tr><th scope=row>rh</th><td>   0</td></tr>\n",
       "\t<tr><th scope=row>gplus</th><td>   0</td></tr>\n",
       "\t<tr><th scope=row>accounts</th><td>   0</td></tr>\n",
       "\t<tr><th scope=row>mendeley</th><td>   0</td></tr>\n",
       "\t<tr><th scope=row>score</th><td>   0</td></tr>\n",
       "</tbody>\n",
       "</table>\n"
      ],
      "text/latex": [
       "A data.frame: 40 × 1\n",
       "\\begin{tabular}{r|l}\n",
       "  & missing\\_counts\\\\\n",
       "  & <int>\\\\\n",
       "\\hline\n",
       "\tdoi &    0\\\\\n",
       "\tau\\_id &    0\\\\\n",
       "\tprism\\_url &    0\\\\\n",
       "\teid &    0\\\\\n",
       "\tissn & 4434\\\\\n",
       "\teissn &  806\\\\\n",
       "\tpub\\_title &    0\\\\\n",
       "\tpub\\_author &    0\\\\\n",
       "\tpub\\_journal &    0\\\\\n",
       "\tpub\\_date &    0\\\\\n",
       "\tpub\\_abstract &  524\\\\\n",
       "\tpub\\_keywords & 3668\\\\\n",
       "\tpub\\_type &    0\\\\\n",
       "\tpub\\_subtype &    0\\\\\n",
       "\topen\\_access &    0\\\\\n",
       "\tfund\\_acr & 4804\\\\\n",
       "\tfund\\_num &    1\\\\\n",
       "\tfund\\_sponsor & 4209\\\\\n",
       "\tcited\\_count &    0\\\\\n",
       "\tnam &    0\\\\\n",
       "\tid &    0\\\\\n",
       "\tpub\\_year &    0\\\\\n",
       "\tau\\_country &    0\\\\\n",
       "\tau\\_institution &    0\\\\\n",
       "\tau\\_name &    0\\\\\n",
       "\tau\\_institution\\_country &    0\\\\\n",
       "\tposts &    0\\\\\n",
       "\ttweets &    0\\\\\n",
       "\tmsm &    0\\\\\n",
       "\tfbwalls &    0\\\\\n",
       "\tfeeds &    0\\\\\n",
       "\twiki &    0\\\\\n",
       "\tlinkedin &    0\\\\\n",
       "\tpeer &    0\\\\\n",
       "\tpolicy &    0\\\\\n",
       "\trh &    0\\\\\n",
       "\tgplus &    0\\\\\n",
       "\taccounts &    0\\\\\n",
       "\tmendeley &    0\\\\\n",
       "\tscore &    0\\\\\n",
       "\\end{tabular}\n"
      ],
      "text/markdown": [
       "\n",
       "A data.frame: 40 × 1\n",
       "\n",
       "| <!--/--> | missing_counts &lt;int&gt; |\n",
       "|---|---|\n",
       "| doi |    0 |\n",
       "| au_id |    0 |\n",
       "| prism_url |    0 |\n",
       "| eid |    0 |\n",
       "| issn | 4434 |\n",
       "| eissn |  806 |\n",
       "| pub_title |    0 |\n",
       "| pub_author |    0 |\n",
       "| pub_journal |    0 |\n",
       "| pub_date |    0 |\n",
       "| pub_abstract |  524 |\n",
       "| pub_keywords | 3668 |\n",
       "| pub_type |    0 |\n",
       "| pub_subtype |    0 |\n",
       "| open_access |    0 |\n",
       "| fund_acr | 4804 |\n",
       "| fund_num |    1 |\n",
       "| fund_sponsor | 4209 |\n",
       "| cited_count |    0 |\n",
       "| nam |    0 |\n",
       "| id |    0 |\n",
       "| pub_year |    0 |\n",
       "| au_country |    0 |\n",
       "| au_institution |    0 |\n",
       "| au_name |    0 |\n",
       "| au_institution_country |    0 |\n",
       "| posts |    0 |\n",
       "| tweets |    0 |\n",
       "| msm |    0 |\n",
       "| fbwalls |    0 |\n",
       "| feeds |    0 |\n",
       "| wiki |    0 |\n",
       "| linkedin |    0 |\n",
       "| peer |    0 |\n",
       "| policy |    0 |\n",
       "| rh |    0 |\n",
       "| gplus |    0 |\n",
       "| accounts |    0 |\n",
       "| mendeley |    0 |\n",
       "| score |    0 |\n",
       "\n"
      ],
      "text/plain": [
       "                       missing_counts\n",
       "doi                       0          \n",
       "au_id                     0          \n",
       "prism_url                 0          \n",
       "eid                       0          \n",
       "issn                   4434          \n",
       "eissn                   806          \n",
       "pub_title                 0          \n",
       "pub_author                0          \n",
       "pub_journal               0          \n",
       "pub_date                  0          \n",
       "pub_abstract            524          \n",
       "pub_keywords           3668          \n",
       "pub_type                  0          \n",
       "pub_subtype               0          \n",
       "open_access               0          \n",
       "fund_acr               4804          \n",
       "fund_num                  1          \n",
       "fund_sponsor           4209          \n",
       "cited_count               0          \n",
       "nam                       0          \n",
       "id                        0          \n",
       "pub_year                  0          \n",
       "au_country                0          \n",
       "au_institution            0          \n",
       "au_name                   0          \n",
       "au_institution_country    0          \n",
       "posts                     0          \n",
       "tweets                    0          \n",
       "msm                       0          \n",
       "fbwalls                   0          \n",
       "feeds                     0          \n",
       "wiki                      0          \n",
       "linkedin                  0          \n",
       "peer                      0          \n",
       "policy                    0          \n",
       "rh                        0          \n",
       "gplus                     0          \n",
       "accounts                  0          \n",
       "mendeley                  0          \n",
       "score                     0          "
      ]
     },
     "metadata": {},
     "output_type": "display_data"
    }
   ],
   "source": [
    "##############################\n",
    "## Clean the Scopus DataFrame; imputing zeroes for missing altmetric data\n",
    "##############################\n",
    "\n",
    "##\n",
    "## Sumarize missing data\n",
    "##\n",
    "data.frame(missing_counts=apply(scopus_df_uniq, 2, function(x) sum(is.na(x))))\n",
    "\n",
    "##\n",
    "## Impute zero for missing data\n",
    "##\n",
    "scopus_df_uniq$posts <- ifelse(is.na(scopus_df_uniq$posts)==TRUE, 0, scopus_df_uniq$posts)\n",
    "scopus_df_uniq$tweets <- ifelse(is.na(scopus_df_uniq$tweets)==TRUE, 0, scopus_df_uniq$tweets)\n",
    "scopus_df_uniq$msm <- ifelse(is.na(scopus_df_uniq$msm)==TRUE, 0, scopus_df_uniq$msm)\n",
    "scopus_df_uniq$fbwalls <- ifelse(is.na(scopus_df_uniq$fbwalls)==TRUE, 0, scopus_df_uniq$fbwalls)\n",
    "scopus_df_uniq$feeds <- ifelse(is.na(scopus_df_uniq$feeds)==TRUE, 0, scopus_df_uniq$feeds)\n",
    "scopus_df_uniq$wiki <- ifelse(is.na(scopus_df_uniq$wiki)==TRUE, 0, scopus_df_uniq$wiki)\n",
    "scopus_df_uniq$linkedin <- ifelse(is.na(scopus_df_uniq$linkedin)==TRUE, 0, scopus_df_uniq$linkedin)\n",
    "scopus_df_uniq$peer <- ifelse(is.na(scopus_df_uniq$peer)==TRUE, 0, scopus_df_uniq$peer)\n",
    "scopus_df_uniq$policy <- ifelse(is.na(scopus_df_uniq$policy)==TRUE, 0, scopus_df_uniq$policy)\n",
    "scopus_df_uniq$rh <- ifelse(is.na(scopus_df_uniq$rh)==TRUE, 0, scopus_df_uniq$rh)\n",
    "scopus_df_uniq$gplus <- ifelse(is.na(scopus_df_uniq$gplus)==TRUE, 0, scopus_df_uniq$gplus)\n",
    "scopus_df_uniq$accounts <- ifelse(is.na(scopus_df_uniq$accounts)==TRUE, 0, scopus_df_uniq$accounts)\n",
    "scopus_df_uniq$mendeley <- ifelse(is.na(scopus_df_uniq$mendeley)==TRUE, 0, scopus_df_uniq$mendeley)\n",
    "scopus_df_uniq$score <- ifelse(is.na(scopus_df_uniq$score)==TRUE, 0, scopus_df_uniq$score)\n",
    "scopus_df_uniq$cited_count <- ifelse(is.na(scopus_df_uniq$cited_count)==TRUE, 0, scopus_df_uniq$cited_count)"
   ]
  },
  {
   "cell_type": "code",
   "execution_count": 32,
   "id": "4969f352",
   "metadata": {},
   "outputs": [],
   "source": [
    "##\n",
    "##    posts total number of posts\n",
    "##    delicious number of Delicious users\n",
    "##    fbwalls number of Facebook accounts\n",
    "##    feeds number of blogs\n",
    "##    forum number of internet forums users e.g. Seqanswers\n",
    "##    gplus number of Google+ users\n",
    "##    linkedin number of LinkedIn users\n",
    "##    msm number of news outlets\n",
    "##    peer_review_sites number of peer review sites\n",
    "##    pinners number of Pinterest users\n",
    "##    policies number of policy sources\n",
    "##    qs number of questions, answers or comments on Stack Exchange sites (inc. Biostar)\n",
    "##    rdts number of Reddit users\n",
    "##    rh number of research highlight platforms\n",
    "##    tweeters number of Twitter users\n",
    "##    videos number of YouTube channels\n",
    "##    weibo number of Sina Weibo users\n",
    "##    wikipedia number of pages on Wikipedia\n",
    "##\n",
    "\n",
    "## apply(scopus_df_uniq[,c(\"posts\",\"tweets\",\"msm\",\"fbwalls\",\"feeds\",\"wiki\",\"linkedin\",\"peer\",\"policy\",\"rh\",\"gplus\",\"accounts\",\"mendeley\",\"score\")], 2, function(x) quantile(x, c(0, 0.25, 0.50, 0.75, 0.80, 0.85, 0.90, 0.91, 0.92, 0.93, 0.94, 0.95, 0.96, 0.97, 0.98, 0.99, 1.00)))"
   ]
  },
  {
   "cell_type": "code",
   "execution_count": null,
   "id": "5c0b8c50",
   "metadata": {},
   "outputs": [],
   "source": []
  },
  {
   "cell_type": "code",
   "execution_count": null,
   "id": "ab6dfb81",
   "metadata": {},
   "outputs": [],
   "source": []
  },
  {
   "cell_type": "code",
   "execution_count": null,
   "id": "180945be",
   "metadata": {},
   "outputs": [],
   "source": []
  },
  {
   "cell_type": "code",
   "execution_count": 18,
   "id": "a68a9c50",
   "metadata": {},
   "outputs": [],
   "source": [
    "#############################\n",
    "##\n",
    "##\n",
    "## Overall, basic descriptive stats\n",
    "##\n",
    "##\n",
    "##############################"
   ]
  },
  {
   "cell_type": "code",
   "execution_count": 33,
   "id": "e8ee6cd7",
   "metadata": {},
   "outputs": [
    {
     "data": {
      "text/html": [
       "591"
      ],
      "text/latex": [
       "591"
      ],
      "text/markdown": [
       "591"
      ],
      "text/plain": [
       "[1] 591"
      ]
     },
     "metadata": {},
     "output_type": "display_data"
    }
   ],
   "source": [
    "## Number authors publishing at least one article --- note this is from overall dataset, not unique dataset\n",
    "length(unique(scopus_df$au_id))"
   ]
  },
  {
   "cell_type": "code",
   "execution_count": 34,
   "id": "ffefb6c6",
   "metadata": {},
   "outputs": [
    {
     "data": {
      "text/html": [
       "17"
      ],
      "text/latex": [
       "17"
      ],
      "text/markdown": [
       "17"
      ],
      "text/plain": [
       "[1] 17"
      ]
     },
     "metadata": {},
     "output_type": "display_data"
    }
   ],
   "source": [
    "## How many institutions involved\n",
    "length(unique(scopus_df$au_institution))"
   ]
  },
  {
   "cell_type": "code",
   "execution_count": 19,
   "id": "4972f796",
   "metadata": {},
   "outputs": [
    {
     "data": {
      "text/html": [
       "<style>\n",
       ".list-inline {list-style: none; margin:0; padding: 0}\n",
       ".list-inline>li {display: inline-block}\n",
       ".list-inline>li:not(:last-child)::after {content: \"\\00b7\"; padding: 0 .5ex}\n",
       "</style>\n",
       "<ol class=list-inline><li>13047</li><li>40</li></ol>\n"
      ],
      "text/latex": [
       "\\begin{enumerate*}\n",
       "\\item 13047\n",
       "\\item 40\n",
       "\\end{enumerate*}\n"
      ],
      "text/markdown": [
       "1. 13047\n",
       "2. 40\n",
       "\n",
       "\n"
      ],
      "text/plain": [
       "[1] 13047    40"
      ]
     },
     "metadata": {},
     "output_type": "display_data"
    }
   ],
   "source": [
    "## Number publications (overall)\n",
    "dim(scopus_df_uniq)"
   ]
  },
  {
   "cell_type": "code",
   "execution_count": 22,
   "id": "39d87816",
   "metadata": {},
   "outputs": [
    {
     "data": {
      "text/plain": [
       "\n",
       "2017 2018 2019 2020 2021 2022 \n",
       "1872 2002 2012 2141 2404 2616 "
      ]
     },
     "metadata": {},
     "output_type": "display_data"
    }
   ],
   "source": [
    "## Publications by year\n",
    "table(scopus_df_uniq$pub_year)"
   ]
  },
  {
   "cell_type": "code",
   "execution_count": 31,
   "id": "0975f728",
   "metadata": {},
   "outputs": [
    {
     "data": {
      "text/html": [
       "231121"
      ],
      "text/latex": [
       "231121"
      ],
      "text/markdown": [
       "231121"
      ],
      "text/plain": [
       "[1] 231121"
      ]
     },
     "metadata": {},
     "output_type": "display_data"
    }
   ],
   "source": [
    "## Number of citations\n",
    "sum(scopus_df_uniq$cited_count)"
   ]
  },
  {
   "cell_type": "code",
   "execution_count": 35,
   "id": "4caea8cb",
   "metadata": {},
   "outputs": [
    {
     "data": {
      "text/html": [
       "<ol>\n",
       "\t<li>36982</li>\n",
       "\t<li>605349</li>\n",
       "\t<li>884</li>\n",
       "\t<li>1127</li>\n",
       "</ol>\n"
      ],
      "text/latex": [
       "\\begin{enumerate}\n",
       "\\item 36982\n",
       "\\item 605349\n",
       "\\item 884\n",
       "\\item 1127\n",
       "\\end{enumerate}\n"
      ],
      "text/markdown": [
       "1. 36982\n",
       "2. 605349\n",
       "3. 884\n",
       "4. 1127\n",
       "\n",
       "\n"
      ],
      "text/plain": [
       "[[1]]\n",
       "[1] 36982\n",
       "\n",
       "[[2]]\n",
       "[1] 605349\n",
       "\n",
       "[[3]]\n",
       "[1] 884\n",
       "\n",
       "[[4]]\n",
       "[1] 1127\n"
      ]
     },
     "metadata": {},
     "output_type": "display_data"
    }
   ],
   "source": [
    "## Number of altmetrics (media, tweets, wiki, policy)\n",
    "list(\n",
    "sum(scopus_df_uniq$msm),\n",
    "sum(scopus_df_uniq$tweets),\n",
    "sum(scopus_df_uniq$wiki),\n",
    "sum(scopus_df_uniq$policy)\n",
    ")"
   ]
  },
  {
   "cell_type": "code",
   "execution_count": 24,
   "id": "94119e46",
   "metadata": {},
   "outputs": [
    {
     "data": {
      "text/plain": [
       "\n",
       "                                                         BMJ Open \n",
       "                                                              655 \n",
       "                                                         PLoS ONE \n",
       "                                                              321 \n",
       "                              British Journal of General Practice \n",
       "                                                              165 \n",
       "                                                BMC Public Health \n",
       "                                                              142 \n",
       "                                     BMC Health Services Research \n",
       "                                                              126 \n",
       "                             Journal of Medical Internet Research \n",
       "                                                              113 \n",
       "                          Cochrane Database of Systematic Reviews \n",
       "                                                              111 \n",
       "                                                        CMAJ open \n",
       "                                                              107 \n",
       "International Journal of Environmental Research and Public Health \n",
       "                                                              106 \n",
       "                                          JMIR Research Protocols \n",
       "                                                              101 "
      ]
     },
     "metadata": {},
     "output_type": "display_data"
    }
   ],
   "source": [
    "## Publications by journal\n",
    "head(sort(table(scopus_df_uniq$pub_journal), decreasing=TRUE), 10)"
   ]
  },
  {
   "cell_type": "code",
   "execution_count": 36,
   "id": "dc03b127",
   "metadata": {},
   "outputs": [
    {
     "data": {
      "text/html": [
       "2237"
      ],
      "text/latex": [
       "2237"
      ],
      "text/markdown": [
       "2237"
      ],
      "text/plain": [
       "[1] 2237"
      ]
     },
     "metadata": {},
     "output_type": "display_data"
    }
   ],
   "source": [
    "## Number unique journals\n",
    "length(unique(scopus_df_uniq$pub_journal))"
   ]
  },
  {
   "cell_type": "code",
   "execution_count": null,
   "id": "b60f94a6",
   "metadata": {},
   "outputs": [],
   "source": []
  },
  {
   "cell_type": "code",
   "execution_count": null,
   "id": "3223b7f7",
   "metadata": {},
   "outputs": [],
   "source": []
  },
  {
   "cell_type": "code",
   "execution_count": null,
   "id": "5f31f56a",
   "metadata": {},
   "outputs": [],
   "source": []
  },
  {
   "cell_type": "code",
   "execution_count": 25,
   "id": "f4d75bae",
   "metadata": {},
   "outputs": [],
   "source": [
    "#####################################################\n",
    "##\n",
    "## Investigate Metrics and other descriptive-stats by Institution\n",
    "##\n",
    "#####################################################"
   ]
  },
  {
   "cell_type": "code",
   "execution_count": 26,
   "id": "1c58aa5f",
   "metadata": {},
   "outputs": [
    {
     "data": {
      "text/html": [
       "<table class=\"dataframe\">\n",
       "<caption>A data.frame: 6 × 17</caption>\n",
       "<thead>\n",
       "\t<tr><th></th><th scope=col>Oxford</th><th scope=col>Toronto</th><th scope=col>Dartmouth</th><th scope=col>UCL</th><th scope=col>UBC</th><th scope=col>McGill</th><th scope=col>Michigan</th><th scope=col>Ottawa</th><th scope=col>Laval</th><th scope=col>Cambridge</th><th scope=col>Harvard</th><th scope=col>OHSU</th><th scope=col>Duke</th><th scope=col>UCSF</th><th scope=col>HKU</th><th scope=col>Monash</th><th scope=col>UNSW</th></tr>\n",
       "\t<tr><th></th><th scope=col>&lt;int&gt;</th><th scope=col>&lt;int&gt;</th><th scope=col>&lt;int&gt;</th><th scope=col>&lt;int&gt;</th><th scope=col>&lt;int&gt;</th><th scope=col>&lt;int&gt;</th><th scope=col>&lt;int&gt;</th><th scope=col>&lt;int&gt;</th><th scope=col>&lt;int&gt;</th><th scope=col>&lt;int&gt;</th><th scope=col>&lt;int&gt;</th><th scope=col>&lt;int&gt;</th><th scope=col>&lt;int&gt;</th><th scope=col>&lt;int&gt;</th><th scope=col>&lt;int&gt;</th><th scope=col>&lt;int&gt;</th><th scope=col>&lt;int&gt;</th></tr>\n",
       "</thead>\n",
       "<tbody>\n",
       "\t<tr><th scope=row>2017</th><td>391</td><td>282</td><td>174</td><td>141</td><td>110</td><td>112</td><td> 94</td><td> 74</td><td> 61</td><td>60</td><td>85</td><td>68</td><td>57</td><td>40</td><td>56</td><td>39</td><td>28</td></tr>\n",
       "\t<tr><th scope=row>2018</th><td>484</td><td>258</td><td>166</td><td>142</td><td>131</td><td>120</td><td> 88</td><td> 89</td><td> 82</td><td>80</td><td>83</td><td>75</td><td>60</td><td>43</td><td>35</td><td>36</td><td>30</td></tr>\n",
       "\t<tr><th scope=row>2019</th><td>458</td><td>282</td><td>133</td><td>154</td><td>121</td><td>122</td><td>110</td><td> 86</td><td> 80</td><td>66</td><td>72</td><td>73</td><td>62</td><td>67</td><td>43</td><td>49</td><td>34</td></tr>\n",
       "\t<tr><th scope=row>2020</th><td>527</td><td>296</td><td>145</td><td>147</td><td>116</td><td>131</td><td> 97</td><td> 85</td><td> 91</td><td>80</td><td>63</td><td>78</td><td>64</td><td>60</td><td>66</td><td>54</td><td>41</td></tr>\n",
       "\t<tr><th scope=row>2021</th><td>574</td><td>386</td><td>174</td><td>171</td><td>146</td><td>125</td><td>110</td><td> 84</td><td>117</td><td>96</td><td>63</td><td>61</td><td>64</td><td>64</td><td>54</td><td>73</td><td>42</td></tr>\n",
       "\t<tr><th scope=row>2022</th><td>611</td><td>370</td><td>203</td><td>166</td><td>158</td><td>151</td><td>124</td><td>127</td><td>102</td><td>91</td><td>82</td><td>89</td><td>64</td><td>77</td><td>92</td><td>67</td><td>42</td></tr>\n",
       "</tbody>\n",
       "</table>\n"
      ],
      "text/latex": [
       "A data.frame: 6 × 17\n",
       "\\begin{tabular}{r|lllllllllllllllll}\n",
       "  & Oxford & Toronto & Dartmouth & UCL & UBC & McGill & Michigan & Ottawa & Laval & Cambridge & Harvard & OHSU & Duke & UCSF & HKU & Monash & UNSW\\\\\n",
       "  & <int> & <int> & <int> & <int> & <int> & <int> & <int> & <int> & <int> & <int> & <int> & <int> & <int> & <int> & <int> & <int> & <int>\\\\\n",
       "\\hline\n",
       "\t2017 & 391 & 282 & 174 & 141 & 110 & 112 &  94 &  74 &  61 & 60 & 85 & 68 & 57 & 40 & 56 & 39 & 28\\\\\n",
       "\t2018 & 484 & 258 & 166 & 142 & 131 & 120 &  88 &  89 &  82 & 80 & 83 & 75 & 60 & 43 & 35 & 36 & 30\\\\\n",
       "\t2019 & 458 & 282 & 133 & 154 & 121 & 122 & 110 &  86 &  80 & 66 & 72 & 73 & 62 & 67 & 43 & 49 & 34\\\\\n",
       "\t2020 & 527 & 296 & 145 & 147 & 116 & 131 &  97 &  85 &  91 & 80 & 63 & 78 & 64 & 60 & 66 & 54 & 41\\\\\n",
       "\t2021 & 574 & 386 & 174 & 171 & 146 & 125 & 110 &  84 & 117 & 96 & 63 & 61 & 64 & 64 & 54 & 73 & 42\\\\\n",
       "\t2022 & 611 & 370 & 203 & 166 & 158 & 151 & 124 & 127 & 102 & 91 & 82 & 89 & 64 & 77 & 92 & 67 & 42\\\\\n",
       "\\end{tabular}\n"
      ],
      "text/markdown": [
       "\n",
       "A data.frame: 6 × 17\n",
       "\n",
       "| <!--/--> | Oxford &lt;int&gt; | Toronto &lt;int&gt; | Dartmouth &lt;int&gt; | UCL &lt;int&gt; | UBC &lt;int&gt; | McGill &lt;int&gt; | Michigan &lt;int&gt; | Ottawa &lt;int&gt; | Laval &lt;int&gt; | Cambridge &lt;int&gt; | Harvard &lt;int&gt; | OHSU &lt;int&gt; | Duke &lt;int&gt; | UCSF &lt;int&gt; | HKU &lt;int&gt; | Monash &lt;int&gt; | UNSW &lt;int&gt; |\n",
       "|---|---|---|---|---|---|---|---|---|---|---|---|---|---|---|---|---|---|\n",
       "| 2017 | 391 | 282 | 174 | 141 | 110 | 112 |  94 |  74 |  61 | 60 | 85 | 68 | 57 | 40 | 56 | 39 | 28 |\n",
       "| 2018 | 484 | 258 | 166 | 142 | 131 | 120 |  88 |  89 |  82 | 80 | 83 | 75 | 60 | 43 | 35 | 36 | 30 |\n",
       "| 2019 | 458 | 282 | 133 | 154 | 121 | 122 | 110 |  86 |  80 | 66 | 72 | 73 | 62 | 67 | 43 | 49 | 34 |\n",
       "| 2020 | 527 | 296 | 145 | 147 | 116 | 131 |  97 |  85 |  91 | 80 | 63 | 78 | 64 | 60 | 66 | 54 | 41 |\n",
       "| 2021 | 574 | 386 | 174 | 171 | 146 | 125 | 110 |  84 | 117 | 96 | 63 | 61 | 64 | 64 | 54 | 73 | 42 |\n",
       "| 2022 | 611 | 370 | 203 | 166 | 158 | 151 | 124 | 127 | 102 | 91 | 82 | 89 | 64 | 77 | 92 | 67 | 42 |\n",
       "\n"
      ],
      "text/plain": [
       "     Oxford Toronto Dartmouth UCL UBC McGill Michigan Ottawa Laval Cambridge\n",
       "2017 391    282     174       141 110 112     94       74     61   60       \n",
       "2018 484    258     166       142 131 120     88       89     82   80       \n",
       "2019 458    282     133       154 121 122    110       86     80   66       \n",
       "2020 527    296     145       147 116 131     97       85     91   80       \n",
       "2021 574    386     174       171 146 125    110       84    117   96       \n",
       "2022 611    370     203       166 158 151    124      127    102   91       \n",
       "     Harvard OHSU Duke UCSF HKU Monash UNSW\n",
       "2017 85      68   57   40   56  39     28  \n",
       "2018 83      75   60   43   35  36     30  \n",
       "2019 72      73   62   67   43  49     34  \n",
       "2020 63      78   64   60   66  54     41  \n",
       "2021 63      61   64   64   54  73     42  \n",
       "2022 82      89   64   77   92  67     42  "
      ]
     },
     "metadata": {},
     "output_type": "display_data"
    }
   ],
   "source": [
    "################\n",
    "## Pubs by year/institution\n",
    "################\n",
    "pubs_by_year_inst <- unclass(table(scopus_df_uniq$pub_year, scopus_df_uniq$au_institution))\n",
    "pubs_by_year_inst_df <- data.frame(pubs_by_year_inst)\n",
    "names(pubs_by_year_inst_df) <- colnames(pubs_by_year_inst)\n",
    "pubs_by_year_inst_df <- pubs_by_year_inst_df[,order(colSums(pubs_by_year_inst_df),decreasing=T)]\n",
    "pubs_by_year_inst_df\n",
    "\n",
    "#fpath_num_pubs <- \"D://CopyZ_30Nov2020//DFCM_Docs//DFCM_Researchers//PeterSelby//MineScopus_DFCM_National_International_PrimaryCareResearchPrograms//Output_DescStats//Table1_NumPubs.csv\"\n",
    "#write.csv(x=pubs_by_year_inst_df, file=fpath_num_pubs)"
   ]
  },
  {
   "cell_type": "code",
   "execution_count": null,
   "id": "0b2cdd2f",
   "metadata": {},
   "outputs": [],
   "source": []
  },
  {
   "cell_type": "code",
   "execution_count": null,
   "id": "ca811054",
   "metadata": {},
   "outputs": [],
   "source": []
  },
  {
   "cell_type": "code",
   "execution_count": null,
   "id": "14c0ddc0",
   "metadata": {},
   "outputs": [],
   "source": []
  },
  {
   "cell_type": "code",
   "execution_count": null,
   "id": "407ef9a9",
   "metadata": {},
   "outputs": [],
   "source": []
  },
  {
   "cell_type": "code",
   "execution_count": null,
   "id": "87a604e6",
   "metadata": {},
   "outputs": [],
   "source": []
  },
  {
   "cell_type": "code",
   "execution_count": null,
   "id": "62aa45b7",
   "metadata": {},
   "outputs": [],
   "source": []
  },
  {
   "cell_type": "code",
   "execution_count": null,
   "id": "c5bdb62a",
   "metadata": {},
   "outputs": [],
   "source": [
    "##############################\n",
    "## Session Information\n",
    "##############################"
   ]
  },
  {
   "cell_type": "code",
   "execution_count": null,
   "id": "47f392d3",
   "metadata": {},
   "outputs": [],
   "source": [
    "Sys.Date()"
   ]
  },
  {
   "cell_type": "code",
   "execution_count": null,
   "id": "75f7ea9e",
   "metadata": {},
   "outputs": [],
   "source": [
    "sessionInfo()"
   ]
  },
  {
   "cell_type": "code",
   "execution_count": null,
   "id": "c8cc3fa7",
   "metadata": {},
   "outputs": [],
   "source": [
    "version"
   ]
  },
  {
   "cell_type": "code",
   "execution_count": null,
   "id": "5fa56f56",
   "metadata": {},
   "outputs": [],
   "source": []
  }
 ],
 "metadata": {
  "kernelspec": {
   "display_name": "R",
   "language": "R",
   "name": "ir"
  },
  "language_info": {
   "codemirror_mode": "r",
   "file_extension": ".r",
   "mimetype": "text/x-r-source",
   "name": "R",
   "pygments_lexer": "r",
   "version": "4.1.3"
  }
 },
 "nbformat": 4,
 "nbformat_minor": 5
}
