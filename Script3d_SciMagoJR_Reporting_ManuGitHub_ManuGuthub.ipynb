{
 "cells": [
  {
   "cell_type": "code",
   "execution_count": 1,
   "id": "805bf120",
   "metadata": {},
   "outputs": [],
   "source": [
    "####################################################\n",
    "## Look at overall SJR rankings of where family medicine documents are published (based on XXX year SJR data??)\n",
    "##\n",
    "##         - SciImago (Journal-level Data)\n",
    "##\n",
    "## Author: Chris Meaney\n",
    "## Date: January 2023\n",
    "####################################################"
   ]
  },
  {
   "cell_type": "code",
   "execution_count": 2,
   "id": "8266b25d",
   "metadata": {},
   "outputs": [],
   "source": [
    "## Options for how many rows/cols displayed when printing matrices/dataframes/etc. in Jupyter\n",
    "options(repr.matrix.max.rows=100) \n",
    "options(repr.matrix.max.cols=50) "
   ]
  },
  {
   "cell_type": "code",
   "execution_count": 3,
   "id": "f11ca444",
   "metadata": {},
   "outputs": [],
   "source": [
    "################\n",
    "## Package dependencies (for APIs) and URLs to other data sources\n",
    "################\n",
    "\n",
    "## Bibliometric/scientometric metrics from Scopus/Elsevier\n",
    "library(rscopus)\n",
    "\n",
    "## URL to obtain SciImago SJR Journal Impact Factor information\n",
    "sjr_url <- \"https://www.scimagojr.com/journalrank.php?out=xls\""
   ]
  },
  {
   "cell_type": "code",
   "execution_count": 4,
   "id": "5787f55f",
   "metadata": {},
   "outputs": [
    {
     "data": {
      "text/plain": [
       "NULL"
      ]
     },
     "metadata": {},
     "output_type": "display_data"
    }
   ],
   "source": [
    "################\n",
    "## Set rScopus API key\n",
    "##\n",
    "## Note: you can obtain a Scopus API key at the following URL: https://dev.elsevier.com/\n",
    "################\n",
    "api_key <- set_api_key(\"Enter_Your_API_Key_Here\")\n",
    "api_key"
   ]
  },
  {
   "cell_type": "code",
   "execution_count": null,
   "id": "99e5aef6",
   "metadata": {},
   "outputs": [],
   "source": []
  },
  {
   "cell_type": "code",
   "execution_count": null,
   "id": "367fcc63",
   "metadata": {},
   "outputs": [],
   "source": []
  },
  {
   "cell_type": "code",
   "execution_count": null,
   "id": "8b9b5113",
   "metadata": {},
   "outputs": [],
   "source": []
  },
  {
   "cell_type": "code",
   "execution_count": null,
   "id": "708e879f",
   "metadata": {},
   "outputs": [],
   "source": []
  },
  {
   "cell_type": "code",
   "execution_count": 5,
   "id": "a43b3b09",
   "metadata": {},
   "outputs": [],
   "source": [
    "######################################################\n",
    "## \n",
    "## Import Scopus Data\n",
    "##\n",
    "######################################################"
   ]
  },
  {
   "cell_type": "code",
   "execution_count": 6,
   "id": "153d6a4d",
   "metadata": {},
   "outputs": [],
   "source": [
    "####################\n",
    "## Filepaths to import data\n",
    "####################\n",
    "\n",
    "## Set working directory path\n",
    "wd_path <- \"Enter_a_Path_to_a_Working_Directory_For_This_Project\"\n",
    "\n",
    "## Import the core scopus dataframe\n",
    "scopus_fpath <- paste0(wd_path, \"//Core_Scopus_Dataset_Sm.csv\")\n"
   ]
  },
  {
   "cell_type": "code",
   "execution_count": null,
   "id": "f56e630f",
   "metadata": {},
   "outputs": [],
   "source": []
  },
  {
   "cell_type": "code",
   "execution_count": 7,
   "id": "668417c2",
   "metadata": {},
   "outputs": [
    {
     "name": "stdout",
     "output_type": "stream",
     "text": [
      "'data.frame':\t18874 obs. of  25 variables:\n",
      " $ au_id         : num  1e+10 1e+10 1e+10 1e+10 1e+10 ...\n",
      " $ prism_url     : chr  \"https://api.elsevier.com/content/abstract/scopus_id/85140976962\" \"https://api.elsevier.com/content/abstract/scopus_id/85121747496\" \"https://api.elsevier.com/content/abstract/scopus_id/85112107056\" \"https://api.elsevier.com/content/abstract/scopus_id/85118672412\" ...\n",
      " $ eid           : chr  \"2-s2.0-85140976962\" \"2-s2.0-85121747496\" \"2-s2.0-85112107056\" \"2-s2.0-85118672412\" ...\n",
      " $ doi           : chr  \"10.1016/j.socscimed.2022.115463\" \"10.1111/add.15760\" \"10.1016/j.socscimed.2021.114262\" \"10.3399/BJGP.2021.0195\" ...\n",
      " $ issn          : chr  \"02779536\" \"09652140\" \"02779536\" \"09601643\" ...\n",
      " $ eissn         : chr  \"18735347\" \"13600443\" \"18735347\" \"14785242\" ...\n",
      " $ pub_title     : chr  \"Brief opportunistic interventions by general practitioners to promote smoking cessation: A conversation analytic study\" \"The old and familiar meets the new and unknown: patient and clinician perceptions on e-cigarettes for smoking r\"| __truncated__ \"Patients’ use of the internet to negotiate about treatment\" \"Factors affecting the documentation of spoken safety-netting advice in routine GP consultations: A cross-sectional study\" ...\n",
      " $ pub_author    : chr  \"Wheat H.\" \"Albury C.\" \"Stevenson F.A.\" \"Edwards P.J.\" ...\n",
      " $ pub_journal   : chr  \"Social Science and Medicine\" \"Addiction\" \"Social Science and Medicine\" \"British Journal of General Practice\" ...\n",
      " $ pub_date      : chr  \"2022-12-01\" \"2022-05-01\" \"2021-12-01\" \"2021-11-01\" ...\n",
      " $ pub_abstract  : chr  \"Very brief opportunistic interventions for smoking cessation are effective, cost-saving for health systems, and\"| __truncated__ \"Background and Aims: Clinicians could promote e-cigarettes for harm reduction to people who smoke but cannot st\"| __truncated__ \"The internet provides access to a huge variety of information, including health information. There is, however,\"| __truncated__ \"Background Previous studies have reported how often safetynetting is documented in medical records, but it is n\"| __truncated__ ...\n",
      " $ pub_keywords  : chr  \"Conversation analysis | Primary care | Smoking | Very brief advice (VBA) intervention\" \"e-cigarettes | family practice | harm reduction | Primary care | qualitative interviews | smoking reduction\" \"Conversation analysis | Doctor-patient interaction | Internet | Primary care | UK | Video-recorded consultations\" \"Health communication | Medical records | Medicolegal | Patient safety | Primary care | Safetynetting\" ...\n",
      " $ pub_type      : chr  \"Journal\" \"Journal\" \"Journal\" \"Journal\" ...\n",
      " $ pub_subtype   : chr  \"Article\" \"Article\" \"Article\" \"Article\" ...\n",
      " $ open_access   : logi  TRUE TRUE FALSE TRUE TRUE TRUE ...\n",
      " $ fund_acr      : chr  \"OxBRC\" \"NIHR\" \"NIHR\" \"NIHR\" ...\n",
      " $ fund_num      : chr  \"C56718/A23874\" \"333\" \"undefined\" \"RCF 19/20-64E\" ...\n",
      " $ fund_sponsor  : chr  \"NIHR Oxford Biomedical Research Centre\" \"National Institute for Health and Care Research\" \"National Institute for Health Research\" \"National Institute for Health Research\" ...\n",
      " $ cited_count   : int  0 1 3 7 2 1 2 0 1 2 ...\n",
      " $ nam           : chr  \"RebeccaBarnes\" \"RebeccaBarnes\" \"RebeccaBarnes\" \"RebeccaBarnes\" ...\n",
      " $ id            : num  1e+10 1e+10 1e+10 1e+10 1e+10 ...\n",
      " $ pub_year      : int  2022 2022 2021 2021 2021 2021 2021 2021 2020 2020 ...\n",
      " $ au_country    : chr  \"UK\" \"UK\" \"UK\" \"UK\" ...\n",
      " $ au_institution: chr  \"Oxford\" \"Oxford\" \"Oxford\" \"Oxford\" ...\n",
      " $ au_name       : chr  \"RebeccaBarnes\" \"RebeccaBarnes\" \"RebeccaBarnes\" \"RebeccaBarnes\" ...\n"
     ]
    }
   ],
   "source": [
    "#####################\n",
    "## Import core Scopus Dataset\n",
    "#####################\n",
    "scopus_df <- read.csv(scopus_fpath, header=TRUE, sep=\",\", stringsAsFactors=FALSE)\n",
    "str(scopus_df)"
   ]
  },
  {
   "cell_type": "code",
   "execution_count": 8,
   "id": "fb595908",
   "metadata": {},
   "outputs": [
    {
     "data": {
      "text/plain": [
       "\n",
       "2017 2018 2019 2020 2021 2022 \n",
       "2591 2811 2823 3075 3617 3957 "
      ]
     },
     "metadata": {},
     "output_type": "display_data"
    }
   ],
   "source": [
    "table(scopus_df$pub_year)"
   ]
  },
  {
   "cell_type": "code",
   "execution_count": 9,
   "id": "94ee6a2c",
   "metadata": {},
   "outputs": [
    {
     "data": {
      "text/html": [
       "<ol>\n",
       "\t<li><style>\n",
       ".list-inline {list-style: none; margin:0; padding: 0}\n",
       ".list-inline>li {display: inline-block}\n",
       ".list-inline>li:not(:last-child)::after {content: \"\\00b7\"; padding: 0 .5ex}\n",
       "</style>\n",
       "<ol class=list-inline><li>13093</li><li>25</li></ol>\n",
       "</li>\n",
       "\t<li><style>\n",
       ".list-inline {list-style: none; margin:0; padding: 0}\n",
       ".list-inline>li {display: inline-block}\n",
       ".list-inline>li:not(:last-child)::after {content: \"\\00b7\"; padding: 0 .5ex}\n",
       "</style>\n",
       "<ol class=list-inline><li>18874</li><li>25</li></ol>\n",
       "</li>\n",
       "</ol>\n"
      ],
      "text/latex": [
       "\\begin{enumerate}\n",
       "\\item \\begin{enumerate*}\n",
       "\\item 13093\n",
       "\\item 25\n",
       "\\end{enumerate*}\n",
       "\n",
       "\\item \\begin{enumerate*}\n",
       "\\item 18874\n",
       "\\item 25\n",
       "\\end{enumerate*}\n",
       "\n",
       "\\end{enumerate}\n"
      ],
      "text/markdown": [
       "1. 1. 13093\n",
       "2. 25\n",
       "\n",
       "\n",
       "\n",
       "2. 1. 18874\n",
       "2. 25\n",
       "\n",
       "\n",
       "\n",
       "\n",
       "\n"
      ],
      "text/plain": [
       "[[1]]\n",
       "[1] 13093    25\n",
       "\n",
       "[[2]]\n",
       "[1] 18874    25\n"
      ]
     },
     "metadata": {},
     "output_type": "display_data"
    }
   ],
   "source": [
    "####################\n",
    "## Create small data.frame that only considers unique publications\n",
    "####################\n",
    "scopus_df_uniq <- scopus_df[is.na(scopus_df$pub_title)==FALSE, ]\n",
    "scopus_df_uniq <- scopus_df_uniq[!duplicated(scopus_df_uniq$pub_title), ]\n",
    "\n",
    "scopus_df_uniq <- scopus_df[is.na(scopus_df$eid)==FALSE, ]\n",
    "scopus_df_uniq <- scopus_df_uniq[!duplicated(scopus_df_uniq$eid), ]\n",
    "\n",
    "scopus_df_uniq <- scopus_df[is.na(scopus_df$doi)==FALSE, ]\n",
    "scopus_df_uniq <- scopus_df_uniq[!duplicated(scopus_df_uniq$doi), ]\n",
    "\n",
    "list(\n",
    "    dim(scopus_df_uniq),\n",
    "    dim(scopus_df)\n",
    "    )"
   ]
  },
  {
   "cell_type": "code",
   "execution_count": 10,
   "id": "2d60a036",
   "metadata": {},
   "outputs": [
    {
     "data": {
      "text/html": [
       "<ol>\n",
       "\t<li>17</li>\n",
       "\t<li>571</li>\n",
       "\t<li>571</li>\n",
       "</ol>\n"
      ],
      "text/latex": [
       "\\begin{enumerate}\n",
       "\\item 17\n",
       "\\item 571\n",
       "\\item 571\n",
       "\\end{enumerate}\n"
      ],
      "text/markdown": [
       "1. 17\n",
       "2. 571\n",
       "3. 571\n",
       "\n",
       "\n"
      ],
      "text/plain": [
       "[[1]]\n",
       "[1] 17\n",
       "\n",
       "[[2]]\n",
       "[1] 571\n",
       "\n",
       "[[3]]\n",
       "[1] 571\n"
      ]
     },
     "metadata": {},
     "output_type": "display_data"
    }
   ],
   "source": [
    "## How many included institutions and authors (in dataset of unique titles)\n",
    "list(\n",
    "    length(unique(scopus_df_uniq$au_institution)),\n",
    "    length(unique(scopus_df_uniq$au_name)),\n",
    "    length(unique(scopus_df_uniq$au_id))\n",
    ")"
   ]
  },
  {
   "cell_type": "code",
   "execution_count": 11,
   "id": "c16abc57",
   "metadata": {},
   "outputs": [
    {
     "data": {
      "text/html": [
       "<style>\n",
       ".list-inline {list-style: none; margin:0; padding: 0}\n",
       ".list-inline>li {display: inline-block}\n",
       ".list-inline>li:not(:last-child)::after {content: \"\\00b7\"; padding: 0 .5ex}\n",
       "</style>\n",
       "<ol class=list-inline><li>13093</li><li>25</li></ol>\n"
      ],
      "text/latex": [
       "\\begin{enumerate*}\n",
       "\\item 13093\n",
       "\\item 25\n",
       "\\end{enumerate*}\n"
      ],
      "text/markdown": [
       "1. 13093\n",
       "2. 25\n",
       "\n",
       "\n"
      ],
      "text/plain": [
       "[1] 13093    25"
      ]
     },
     "metadata": {},
     "output_type": "display_data"
    }
   ],
   "source": [
    "##\n",
    "## We will merge with SciMago SJR data below, using ISSN as key\n",
    "##\n",
    "## Note: this too is a bit of a HACK --- SciMago has BOTH 1) issn, and 2) eissn\n",
    "## Note: this too is a bit of a HACK --- A given record/row of SciMago data, may contain multiple concatenated issn/eissn\n",
    "##\n",
    "## To simplify we focus on ONLY issn (a limitation); and further, only consider first issn if multiple are reported per record\n",
    "##\n",
    "dim(scopus_df_uniq)"
   ]
  },
  {
   "cell_type": "code",
   "execution_count": 12,
   "id": "bc32e668",
   "metadata": {},
   "outputs": [
    {
     "data": {
      "text/html": [
       "1690"
      ],
      "text/latex": [
       "1690"
      ],
      "text/markdown": [
       "1690"
      ],
      "text/plain": [
       "[1] 1690"
      ]
     },
     "metadata": {},
     "output_type": "display_data"
    }
   ],
   "source": [
    "length(unique(scopus_df_uniq$issn))"
   ]
  },
  {
   "cell_type": "code",
   "execution_count": null,
   "id": "96347f4c",
   "metadata": {},
   "outputs": [],
   "source": []
  },
  {
   "cell_type": "code",
   "execution_count": null,
   "id": "4d7d8e50",
   "metadata": {},
   "outputs": [],
   "source": []
  },
  {
   "cell_type": "code",
   "execution_count": 13,
   "id": "cbfda7d6",
   "metadata": {},
   "outputs": [],
   "source": [
    "#######################################################\n",
    "##\n",
    "## Journal data from SciImago: \n",
    "## https://www.scimagojr.com/journalrank.php\n",
    "##\n",
    "#######################################################"
   ]
  },
  {
   "cell_type": "code",
   "execution_count": 14,
   "id": "4c11476c",
   "metadata": {},
   "outputs": [
    {
     "data": {
      "text/html": [
       "<style>\n",
       ".list-inline {list-style: none; margin:0; padding: 0}\n",
       ".list-inline>li {display: inline-block}\n",
       ".list-inline>li:not(:last-child)::after {content: \"\\00b7\"; padding: 0 .5ex}\n",
       "</style>\n",
       "<ol class=list-inline><li>27339</li><li>20</li></ol>\n"
      ],
      "text/latex": [
       "\\begin{enumerate*}\n",
       "\\item 27339\n",
       "\\item 20\n",
       "\\end{enumerate*}\n"
      ],
      "text/markdown": [
       "1. 27339\n",
       "2. 20\n",
       "\n",
       "\n"
      ],
      "text/plain": [
       "[1] 27339    20"
      ]
     },
     "metadata": {},
     "output_type": "display_data"
    }
   ],
   "source": [
    "sjr <- read.csv(url(sjr_url), sep=\";\", header=TRUE)\n",
    "dim(sjr)"
   ]
  },
  {
   "cell_type": "code",
   "execution_count": 15,
   "id": "ca0ffcb5",
   "metadata": {},
   "outputs": [
    {
     "data": {
      "text/html": [
       "<table class=\"dataframe\">\n",
       "<caption>A data.frame: 20 × 1</caption>\n",
       "<thead>\n",
       "\t<tr><th scope=col>names.sjr.</th></tr>\n",
       "\t<tr><th scope=col>&lt;chr&gt;</th></tr>\n",
       "</thead>\n",
       "<tbody>\n",
       "\t<tr><td>Rank                  </td></tr>\n",
       "\t<tr><td>Sourceid              </td></tr>\n",
       "\t<tr><td>Title                 </td></tr>\n",
       "\t<tr><td>Type                  </td></tr>\n",
       "\t<tr><td>Issn                  </td></tr>\n",
       "\t<tr><td>SJR                   </td></tr>\n",
       "\t<tr><td>SJR.Best.Quartile     </td></tr>\n",
       "\t<tr><td>H.index               </td></tr>\n",
       "\t<tr><td>Total.Docs...2021.    </td></tr>\n",
       "\t<tr><td>Total.Docs...3years.  </td></tr>\n",
       "\t<tr><td>Total.Refs.           </td></tr>\n",
       "\t<tr><td>Total.Cites..3years.  </td></tr>\n",
       "\t<tr><td>Citable.Docs...3years.</td></tr>\n",
       "\t<tr><td>Cites...Doc...2years. </td></tr>\n",
       "\t<tr><td>Ref....Doc.           </td></tr>\n",
       "\t<tr><td>Country               </td></tr>\n",
       "\t<tr><td>Region                </td></tr>\n",
       "\t<tr><td>Publisher             </td></tr>\n",
       "\t<tr><td>Coverage              </td></tr>\n",
       "\t<tr><td>Categories            </td></tr>\n",
       "</tbody>\n",
       "</table>\n"
      ],
      "text/latex": [
       "A data.frame: 20 × 1\n",
       "\\begin{tabular}{l}\n",
       " names.sjr.\\\\\n",
       " <chr>\\\\\n",
       "\\hline\n",
       "\t Rank                  \\\\\n",
       "\t Sourceid              \\\\\n",
       "\t Title                 \\\\\n",
       "\t Type                  \\\\\n",
       "\t Issn                  \\\\\n",
       "\t SJR                   \\\\\n",
       "\t SJR.Best.Quartile     \\\\\n",
       "\t H.index               \\\\\n",
       "\t Total.Docs...2021.    \\\\\n",
       "\t Total.Docs...3years.  \\\\\n",
       "\t Total.Refs.           \\\\\n",
       "\t Total.Cites..3years.  \\\\\n",
       "\t Citable.Docs...3years.\\\\\n",
       "\t Cites...Doc...2years. \\\\\n",
       "\t Ref....Doc.           \\\\\n",
       "\t Country               \\\\\n",
       "\t Region                \\\\\n",
       "\t Publisher             \\\\\n",
       "\t Coverage              \\\\\n",
       "\t Categories            \\\\\n",
       "\\end{tabular}\n"
      ],
      "text/markdown": [
       "\n",
       "A data.frame: 20 × 1\n",
       "\n",
       "| names.sjr. &lt;chr&gt; |\n",
       "|---|\n",
       "| Rank                   |\n",
       "| Sourceid               |\n",
       "| Title                  |\n",
       "| Type                   |\n",
       "| Issn                   |\n",
       "| SJR                    |\n",
       "| SJR.Best.Quartile      |\n",
       "| H.index                |\n",
       "| Total.Docs...2021.     |\n",
       "| Total.Docs...3years.   |\n",
       "| Total.Refs.            |\n",
       "| Total.Cites..3years.   |\n",
       "| Citable.Docs...3years. |\n",
       "| Cites...Doc...2years.  |\n",
       "| Ref....Doc.            |\n",
       "| Country                |\n",
       "| Region                 |\n",
       "| Publisher              |\n",
       "| Coverage               |\n",
       "| Categories             |\n",
       "\n"
      ],
      "text/plain": [
       "   names.sjr.            \n",
       "1  Rank                  \n",
       "2  Sourceid              \n",
       "3  Title                 \n",
       "4  Type                  \n",
       "5  Issn                  \n",
       "6  SJR                   \n",
       "7  SJR.Best.Quartile     \n",
       "8  H.index               \n",
       "9  Total.Docs...2021.    \n",
       "10 Total.Docs...3years.  \n",
       "11 Total.Refs.           \n",
       "12 Total.Cites..3years.  \n",
       "13 Citable.Docs...3years.\n",
       "14 Cites...Doc...2years. \n",
       "15 Ref....Doc.           \n",
       "16 Country               \n",
       "17 Region                \n",
       "18 Publisher             \n",
       "19 Coverage              \n",
       "20 Categories            "
      ]
     },
     "metadata": {},
     "output_type": "display_data"
    }
   ],
   "source": [
    "data.frame(names(sjr))"
   ]
  },
  {
   "cell_type": "code",
   "execution_count": 16,
   "id": "77e1e698",
   "metadata": {},
   "outputs": [],
   "source": [
    "##\n",
    "## It's a bit weird because ISSN is stored as \",\" comma-separated string. \n",
    "## Need to parse these string data, represent SciImago dataframe in long format (expanding on ISSN). \n",
    "## Remove duplicate ISSN. \n",
    "## Then join with rScopus data on ISSN.\n",
    "##\n",
    "## note: I **think** the different ISSN in the \",\" comma-separated list is ISSN vs. e-ISSN, etc.\n",
    "##"
   ]
  },
  {
   "cell_type": "code",
   "execution_count": 17,
   "id": "55292963",
   "metadata": {},
   "outputs": [
    {
     "data": {
      "text/html": [
       "<table class=\"dataframe\">\n",
       "<caption>A data.frame: 5 × 21</caption>\n",
       "<thead>\n",
       "\t<tr><th></th><th scope=col>Rank</th><th scope=col>Sourceid</th><th scope=col>Title</th><th scope=col>Type</th><th scope=col>Issn</th><th scope=col>SJR</th><th scope=col>SJR.Best.Quartile</th><th scope=col>H.index</th><th scope=col>Total.Docs...2021.</th><th scope=col>Total.Docs...3years.</th><th scope=col>Total.Refs.</th><th scope=col>Total.Cites..3years.</th><th scope=col>Citable.Docs...3years.</th><th scope=col>Cites...Doc...2years.</th><th scope=col>Ref....Doc.</th><th scope=col>Country</th><th scope=col>Region</th><th scope=col>Publisher</th><th scope=col>Coverage</th><th scope=col>Categories</th><th scope=col>Issn_</th></tr>\n",
       "\t<tr><th></th><th scope=col>&lt;int&gt;</th><th scope=col>&lt;dbl&gt;</th><th scope=col>&lt;chr&gt;</th><th scope=col>&lt;chr&gt;</th><th scope=col>&lt;chr&gt;</th><th scope=col>&lt;chr&gt;</th><th scope=col>&lt;chr&gt;</th><th scope=col>&lt;int&gt;</th><th scope=col>&lt;int&gt;</th><th scope=col>&lt;int&gt;</th><th scope=col>&lt;int&gt;</th><th scope=col>&lt;int&gt;</th><th scope=col>&lt;int&gt;</th><th scope=col>&lt;chr&gt;</th><th scope=col>&lt;chr&gt;</th><th scope=col>&lt;chr&gt;</th><th scope=col>&lt;chr&gt;</th><th scope=col>&lt;chr&gt;</th><th scope=col>&lt;chr&gt;</th><th scope=col>&lt;chr&gt;</th><th scope=col>&lt;chr&gt;</th></tr>\n",
       "</thead>\n",
       "<tbody>\n",
       "\t<tr><th scope=row>1</th><td>1</td><td>28773</td><td>Ca-A Cancer Journal for Clinicians   </td><td>journal</td><td>15424863, 00079235</td><td>56,204</td><td>Q1</td><td>182</td><td> 41</td><td> 121</td><td> 4006</td><td>17959</td><td>  78</td><td>186,75</td><td>97,71</td><td>United States </td><td>Northern America</td><td>Wiley-Blackwell                                 </td><td>1950-2021</td><td>Hematology (Q1); Oncology (Q1)                                                                                                                             </td><td>15424863</td></tr>\n",
       "\t<tr><th scope=row>2</th><td>2</td><td>20315</td><td>Nature Reviews Molecular Cell Biology</td><td>journal</td><td>14710072, 14710080</td><td>33,213</td><td>Q1</td><td>452</td><td>111</td><td> 338</td><td> 9025</td><td>13797</td><td> 161</td><td>38,55 </td><td>81,31</td><td>United Kingdom</td><td>Western Europe  </td><td>Nature Publishing Group                         </td><td>2000-2021</td><td>Cell Biology (Q1); Molecular Biology (Q1)                                                                                                                  </td><td>14710072</td></tr>\n",
       "\t<tr><th scope=row>3</th><td>3</td><td>29431</td><td>Quarterly Journal of Economics       </td><td>journal</td><td>00335533, 15314650</td><td>31,348</td><td>Q1</td><td>272</td><td> 48</td><td> 111</td><td> 3406</td><td> 2241</td><td> 110</td><td>16,30 </td><td>70,96</td><td>United Kingdom</td><td>Western Europe  </td><td>Oxford University Press                         </td><td>1886-2021</td><td>Economics and Econometrics (Q1)                                                                                                                            </td><td>00335533</td></tr>\n",
       "\t<tr><th scope=row>4</th><td>4</td><td>18434</td><td>Cell                                 </td><td>journal</td><td>00928674, 10974172</td><td>25,716</td><td>Q1</td><td>814</td><td>517</td><td>1727</td><td>33658</td><td>73240</td><td>1639</td><td>45,00 </td><td>65,10</td><td>United States </td><td>Northern America</td><td>Cell Press                                      </td><td>1974-2021</td><td>Biochemistry, Genetics and Molecular Biology (miscellaneous) (Q1)                                                                                          </td><td>00928674</td></tr>\n",
       "\t<tr><th scope=row>5</th><td>5</td><td>19434</td><td>MMWR Recommendations and Reports     </td><td>journal</td><td>10575987, 15458601</td><td>25,045</td><td>Q1</td><td>148</td><td>124</td><td>  17</td><td> 2900</td><td>  663</td><td>  17</td><td>33,79 </td><td>23,39</td><td>United States </td><td>Northern America</td><td>Centers for Disease Control and Prevention (CDC)</td><td>1990-2021</td><td>Epidemiology (Q1); Health Information Management (Q1); Health (social science) (Q1); Health, Toxicology and Mutagenesis (Q1); Medicine (miscellaneous) (Q1)</td><td>10575987</td></tr>\n",
       "</tbody>\n",
       "</table>\n"
      ],
      "text/latex": [
       "A data.frame: 5 × 21\n",
       "\\begin{tabular}{r|lllllllllllllllllllll}\n",
       "  & Rank & Sourceid & Title & Type & Issn & SJR & SJR.Best.Quartile & H.index & Total.Docs...2021. & Total.Docs...3years. & Total.Refs. & Total.Cites..3years. & Citable.Docs...3years. & Cites...Doc...2years. & Ref....Doc. & Country & Region & Publisher & Coverage & Categories & Issn\\_\\\\\n",
       "  & <int> & <dbl> & <chr> & <chr> & <chr> & <chr> & <chr> & <int> & <int> & <int> & <int> & <int> & <int> & <chr> & <chr> & <chr> & <chr> & <chr> & <chr> & <chr> & <chr>\\\\\n",
       "\\hline\n",
       "\t1 & 1 & 28773 & Ca-A Cancer Journal for Clinicians    & journal & 15424863, 00079235 & 56,204 & Q1 & 182 &  41 &  121 &  4006 & 17959 &   78 & 186,75 & 97,71 & United States  & Northern America & Wiley-Blackwell                                  & 1950-2021 & Hematology (Q1); Oncology (Q1)                                                                                                                              & 15424863\\\\\n",
       "\t2 & 2 & 20315 & Nature Reviews Molecular Cell Biology & journal & 14710072, 14710080 & 33,213 & Q1 & 452 & 111 &  338 &  9025 & 13797 &  161 & 38,55  & 81,31 & United Kingdom & Western Europe   & Nature Publishing Group                          & 2000-2021 & Cell Biology (Q1); Molecular Biology (Q1)                                                                                                                   & 14710072\\\\\n",
       "\t3 & 3 & 29431 & Quarterly Journal of Economics        & journal & 00335533, 15314650 & 31,348 & Q1 & 272 &  48 &  111 &  3406 &  2241 &  110 & 16,30  & 70,96 & United Kingdom & Western Europe   & Oxford University Press                          & 1886-2021 & Economics and Econometrics (Q1)                                                                                                                             & 00335533\\\\\n",
       "\t4 & 4 & 18434 & Cell                                  & journal & 00928674, 10974172 & 25,716 & Q1 & 814 & 517 & 1727 & 33658 & 73240 & 1639 & 45,00  & 65,10 & United States  & Northern America & Cell Press                                       & 1974-2021 & Biochemistry, Genetics and Molecular Biology (miscellaneous) (Q1)                                                                                           & 00928674\\\\\n",
       "\t5 & 5 & 19434 & MMWR Recommendations and Reports      & journal & 10575987, 15458601 & 25,045 & Q1 & 148 & 124 &   17 &  2900 &   663 &   17 & 33,79  & 23,39 & United States  & Northern America & Centers for Disease Control and Prevention (CDC) & 1990-2021 & Epidemiology (Q1); Health Information Management (Q1); Health (social science) (Q1); Health, Toxicology and Mutagenesis (Q1); Medicine (miscellaneous) (Q1) & 10575987\\\\\n",
       "\\end{tabular}\n"
      ],
      "text/markdown": [
       "\n",
       "A data.frame: 5 × 21\n",
       "\n",
       "| <!--/--> | Rank &lt;int&gt; | Sourceid &lt;dbl&gt; | Title &lt;chr&gt; | Type &lt;chr&gt; | Issn &lt;chr&gt; | SJR &lt;chr&gt; | SJR.Best.Quartile &lt;chr&gt; | H.index &lt;int&gt; | Total.Docs...2021. &lt;int&gt; | Total.Docs...3years. &lt;int&gt; | Total.Refs. &lt;int&gt; | Total.Cites..3years. &lt;int&gt; | Citable.Docs...3years. &lt;int&gt; | Cites...Doc...2years. &lt;chr&gt; | Ref....Doc. &lt;chr&gt; | Country &lt;chr&gt; | Region &lt;chr&gt; | Publisher &lt;chr&gt; | Coverage &lt;chr&gt; | Categories &lt;chr&gt; | Issn_ &lt;chr&gt; |\n",
       "|---|---|---|---|---|---|---|---|---|---|---|---|---|---|---|---|---|---|---|---|---|---|\n",
       "| 1 | 1 | 28773 | Ca-A Cancer Journal for Clinicians    | journal | 15424863, 00079235 | 56,204 | Q1 | 182 |  41 |  121 |  4006 | 17959 |   78 | 186,75 | 97,71 | United States  | Northern America | Wiley-Blackwell                                  | 1950-2021 | Hematology (Q1); Oncology (Q1)                                                                                                                              | 15424863 |\n",
       "| 2 | 2 | 20315 | Nature Reviews Molecular Cell Biology | journal | 14710072, 14710080 | 33,213 | Q1 | 452 | 111 |  338 |  9025 | 13797 |  161 | 38,55  | 81,31 | United Kingdom | Western Europe   | Nature Publishing Group                          | 2000-2021 | Cell Biology (Q1); Molecular Biology (Q1)                                                                                                                   | 14710072 |\n",
       "| 3 | 3 | 29431 | Quarterly Journal of Economics        | journal | 00335533, 15314650 | 31,348 | Q1 | 272 |  48 |  111 |  3406 |  2241 |  110 | 16,30  | 70,96 | United Kingdom | Western Europe   | Oxford University Press                          | 1886-2021 | Economics and Econometrics (Q1)                                                                                                                             | 00335533 |\n",
       "| 4 | 4 | 18434 | Cell                                  | journal | 00928674, 10974172 | 25,716 | Q1 | 814 | 517 | 1727 | 33658 | 73240 | 1639 | 45,00  | 65,10 | United States  | Northern America | Cell Press                                       | 1974-2021 | Biochemistry, Genetics and Molecular Biology (miscellaneous) (Q1)                                                                                           | 00928674 |\n",
       "| 5 | 5 | 19434 | MMWR Recommendations and Reports      | journal | 10575987, 15458601 | 25,045 | Q1 | 148 | 124 |   17 |  2900 |   663 |   17 | 33,79  | 23,39 | United States  | Northern America | Centers for Disease Control and Prevention (CDC) | 1990-2021 | Epidemiology (Q1); Health Information Management (Q1); Health (social science) (Q1); Health, Toxicology and Mutagenesis (Q1); Medicine (miscellaneous) (Q1) | 10575987 |\n",
       "\n"
      ],
      "text/plain": [
       "  Rank Sourceid Title                                 Type   \n",
       "1 1    28773    Ca-A Cancer Journal for Clinicians    journal\n",
       "2 2    20315    Nature Reviews Molecular Cell Biology journal\n",
       "3 3    29431    Quarterly Journal of Economics        journal\n",
       "4 4    18434    Cell                                  journal\n",
       "5 5    19434    MMWR Recommendations and Reports      journal\n",
       "  Issn               SJR    SJR.Best.Quartile H.index Total.Docs...2021.\n",
       "1 15424863, 00079235 56,204 Q1                182      41               \n",
       "2 14710072, 14710080 33,213 Q1                452     111               \n",
       "3 00335533, 15314650 31,348 Q1                272      48               \n",
       "4 00928674, 10974172 25,716 Q1                814     517               \n",
       "5 10575987, 15458601 25,045 Q1                148     124               \n",
       "  Total.Docs...3years. Total.Refs. Total.Cites..3years. Citable.Docs...3years.\n",
       "1  121                  4006       17959                  78                  \n",
       "2  338                  9025       13797                 161                  \n",
       "3  111                  3406        2241                 110                  \n",
       "4 1727                 33658       73240                1639                  \n",
       "5   17                  2900         663                  17                  \n",
       "  Cites...Doc...2years. Ref....Doc. Country        Region          \n",
       "1 186,75                97,71       United States  Northern America\n",
       "2 38,55                 81,31       United Kingdom Western Europe  \n",
       "3 16,30                 70,96       United Kingdom Western Europe  \n",
       "4 45,00                 65,10       United States  Northern America\n",
       "5 33,79                 23,39       United States  Northern America\n",
       "  Publisher                                        Coverage \n",
       "1 Wiley-Blackwell                                  1950-2021\n",
       "2 Nature Publishing Group                          2000-2021\n",
       "3 Oxford University Press                          1886-2021\n",
       "4 Cell Press                                       1974-2021\n",
       "5 Centers for Disease Control and Prevention (CDC) 1990-2021\n",
       "  Categories                                                                                                                                                 \n",
       "1 Hematology (Q1); Oncology (Q1)                                                                                                                             \n",
       "2 Cell Biology (Q1); Molecular Biology (Q1)                                                                                                                  \n",
       "3 Economics and Econometrics (Q1)                                                                                                                            \n",
       "4 Biochemistry, Genetics and Molecular Biology (miscellaneous) (Q1)                                                                                          \n",
       "5 Epidemiology (Q1); Health Information Management (Q1); Health (social science) (Q1); Health, Toxicology and Mutagenesis (Q1); Medicine (miscellaneous) (Q1)\n",
       "  Issn_   \n",
       "1 15424863\n",
       "2 14710072\n",
       "3 00335533\n",
       "4 00928674\n",
       "5 10575987"
      ]
     },
     "metadata": {},
     "output_type": "display_data"
    }
   ],
   "source": [
    "##########################\n",
    "## Hack --- parse and only keep the first ISSN\n",
    "##########################\n",
    "sjr$Issn_ <- sapply(strsplit(sjr$Issn, split=\",\"), function(x) x[[1]])\n",
    "head(sjr, 5)"
   ]
  },
  {
   "cell_type": "code",
   "execution_count": 18,
   "id": "807210f5",
   "metadata": {},
   "outputs": [
    {
     "data": {
      "text/html": [
       "<style>\n",
       ".list-inline {list-style: none; margin:0; padding: 0}\n",
       ".list-inline>li {display: inline-block}\n",
       ".list-inline>li:not(:last-child)::after {content: \"\\00b7\"; padding: 0 .5ex}\n",
       "</style>\n",
       "<ol class=list-inline><li>13093</li><li>45</li></ol>\n"
      ],
      "text/latex": [
       "\\begin{enumerate*}\n",
       "\\item 13093\n",
       "\\item 45\n",
       "\\end{enumerate*}\n"
      ],
      "text/markdown": [
       "1. 13093\n",
       "2. 45\n",
       "\n",
       "\n"
      ],
      "text/plain": [
       "[1] 13093    45"
      ]
     },
     "metadata": {},
     "output_type": "display_data"
    }
   ],
   "source": [
    "###########################\n",
    "## Join the SJR data onto \n",
    "###########################\n",
    "scopus_df_uniq <- merge(x=scopus_df_uniq, y=sjr, by.x=\"issn\", by.y=\"Issn_\", all.x=TRUE)\n",
    "dim(scopus_df_uniq)"
   ]
  },
  {
   "cell_type": "code",
   "execution_count": 19,
   "id": "0a4c5bb6",
   "metadata": {},
   "outputs": [
    {
     "data": {
      "text/plain": [
       "   Min. 1st Qu.  Median    Mean 3rd Qu.    Max.    NA's \n",
       "  0.102   0.730   1.073   1.811   1.792  25.716    8339 "
      ]
     },
     "metadata": {},
     "output_type": "display_data"
    }
   ],
   "source": [
    "#########################\n",
    "## Distribution of journal impact factor where papers published\n",
    "## Note: many of the titles/ISSN are missing SJR (SciImago Journal Reports Imapct Factor)\n",
    "#########################\n",
    "summary(as.numeric(gsub(scopus_df_uniq$SJR, pattern=\",\", replace=\".\")))"
   ]
  },
  {
   "cell_type": "code",
   "execution_count": 20,
   "id": "aed7313b",
   "metadata": {},
   "outputs": [
    {
     "data": {
      "text/html": [
       "<table class=\"dataframe\">\n",
       "<caption>A data.frame: 41 × 1</caption>\n",
       "<thead>\n",
       "\t<tr><th></th><th scope=col>quantile.as.numeric.gsub.scopus_df_uniq.SJR..pattern........replace..........</th></tr>\n",
       "\t<tr><th></th><th scope=col>&lt;dbl&gt;</th></tr>\n",
       "</thead>\n",
       "<tbody>\n",
       "\t<tr><th scope=row>0%</th><td> 0.102000</td></tr>\n",
       "\t<tr><th scope=row>2.5%</th><td> 0.277600</td></tr>\n",
       "\t<tr><th scope=row>5%</th><td> 0.412000</td></tr>\n",
       "\t<tr><th scope=row>7.5%</th><td> 0.438000</td></tr>\n",
       "\t<tr><th scope=row>10%</th><td> 0.470000</td></tr>\n",
       "\t<tr><th scope=row>12.5%</th><td> 0.483000</td></tr>\n",
       "\t<tr><th scope=row>15%</th><td> 0.511000</td></tr>\n",
       "\t<tr><th scope=row>17.5%</th><td> 0.568325</td></tr>\n",
       "\t<tr><th scope=row>20%</th><td> 0.628000</td></tr>\n",
       "\t<tr><th scope=row>22.5%</th><td> 0.681000</td></tr>\n",
       "\t<tr><th scope=row>25%</th><td> 0.730000</td></tr>\n",
       "\t<tr><th scope=row>27.5%</th><td> 0.793000</td></tr>\n",
       "\t<tr><th scope=row>30%</th><td> 0.800000</td></tr>\n",
       "\t<tr><th scope=row>32.5%</th><td> 0.814000</td></tr>\n",
       "\t<tr><th scope=row>35%</th><td> 0.823000</td></tr>\n",
       "\t<tr><th scope=row>37.5%</th><td> 0.873000</td></tr>\n",
       "\t<tr><th scope=row>40%</th><td> 0.891000</td></tr>\n",
       "\t<tr><th scope=row>42.5%</th><td> 0.930000</td></tr>\n",
       "\t<tr><th scope=row>45%</th><td> 0.982000</td></tr>\n",
       "\t<tr><th scope=row>47.5%</th><td> 1.031000</td></tr>\n",
       "\t<tr><th scope=row>50%</th><td> 1.073000</td></tr>\n",
       "\t<tr><th scope=row>52.5%</th><td> 1.111000</td></tr>\n",
       "\t<tr><th scope=row>55%</th><td> 1.216000</td></tr>\n",
       "\t<tr><th scope=row>57.5%</th><td> 1.302000</td></tr>\n",
       "\t<tr><th scope=row>60%</th><td> 1.381000</td></tr>\n",
       "\t<tr><th scope=row>62.5%</th><td> 1.438000</td></tr>\n",
       "\t<tr><th scope=row>65%</th><td> 1.477000</td></tr>\n",
       "\t<tr><th scope=row>67.5%</th><td> 1.495000</td></tr>\n",
       "\t<tr><th scope=row>70%</th><td> 1.661100</td></tr>\n",
       "\t<tr><th scope=row>72.5%</th><td> 1.704000</td></tr>\n",
       "\t<tr><th scope=row>75%</th><td> 1.792000</td></tr>\n",
       "\t<tr><th scope=row>77.5%</th><td> 2.054000</td></tr>\n",
       "\t<tr><th scope=row>80%</th><td> 2.208000</td></tr>\n",
       "\t<tr><th scope=row>82.5%</th><td> 2.291000</td></tr>\n",
       "\t<tr><th scope=row>85%</th><td> 2.291000</td></tr>\n",
       "\t<tr><th scope=row>87.5%</th><td> 2.479000</td></tr>\n",
       "\t<tr><th scope=row>90%</th><td> 2.948000</td></tr>\n",
       "\t<tr><th scope=row>92.5%</th><td> 3.806000</td></tr>\n",
       "\t<tr><th scope=row>95%</th><td> 4.180000</td></tr>\n",
       "\t<tr><th scope=row>97.5%</th><td> 8.324000</td></tr>\n",
       "\t<tr><th scope=row>100%</th><td>25.716000</td></tr>\n",
       "</tbody>\n",
       "</table>\n"
      ],
      "text/latex": [
       "A data.frame: 41 × 1\n",
       "\\begin{tabular}{r|l}\n",
       "  & quantile.as.numeric.gsub.scopus\\_df\\_uniq.SJR..pattern........replace..........\\\\\n",
       "  & <dbl>\\\\\n",
       "\\hline\n",
       "\t0\\% &  0.102000\\\\\n",
       "\t2.5\\% &  0.277600\\\\\n",
       "\t5\\% &  0.412000\\\\\n",
       "\t7.5\\% &  0.438000\\\\\n",
       "\t10\\% &  0.470000\\\\\n",
       "\t12.5\\% &  0.483000\\\\\n",
       "\t15\\% &  0.511000\\\\\n",
       "\t17.5\\% &  0.568325\\\\\n",
       "\t20\\% &  0.628000\\\\\n",
       "\t22.5\\% &  0.681000\\\\\n",
       "\t25\\% &  0.730000\\\\\n",
       "\t27.5\\% &  0.793000\\\\\n",
       "\t30\\% &  0.800000\\\\\n",
       "\t32.5\\% &  0.814000\\\\\n",
       "\t35\\% &  0.823000\\\\\n",
       "\t37.5\\% &  0.873000\\\\\n",
       "\t40\\% &  0.891000\\\\\n",
       "\t42.5\\% &  0.930000\\\\\n",
       "\t45\\% &  0.982000\\\\\n",
       "\t47.5\\% &  1.031000\\\\\n",
       "\t50\\% &  1.073000\\\\\n",
       "\t52.5\\% &  1.111000\\\\\n",
       "\t55\\% &  1.216000\\\\\n",
       "\t57.5\\% &  1.302000\\\\\n",
       "\t60\\% &  1.381000\\\\\n",
       "\t62.5\\% &  1.438000\\\\\n",
       "\t65\\% &  1.477000\\\\\n",
       "\t67.5\\% &  1.495000\\\\\n",
       "\t70\\% &  1.661100\\\\\n",
       "\t72.5\\% &  1.704000\\\\\n",
       "\t75\\% &  1.792000\\\\\n",
       "\t77.5\\% &  2.054000\\\\\n",
       "\t80\\% &  2.208000\\\\\n",
       "\t82.5\\% &  2.291000\\\\\n",
       "\t85\\% &  2.291000\\\\\n",
       "\t87.5\\% &  2.479000\\\\\n",
       "\t90\\% &  2.948000\\\\\n",
       "\t92.5\\% &  3.806000\\\\\n",
       "\t95\\% &  4.180000\\\\\n",
       "\t97.5\\% &  8.324000\\\\\n",
       "\t100\\% & 25.716000\\\\\n",
       "\\end{tabular}\n"
      ],
      "text/markdown": [
       "\n",
       "A data.frame: 41 × 1\n",
       "\n",
       "| <!--/--> | quantile.as.numeric.gsub.scopus_df_uniq.SJR..pattern........replace.......... &lt;dbl&gt; |\n",
       "|---|---|\n",
       "| 0% |  0.102000 |\n",
       "| 2.5% |  0.277600 |\n",
       "| 5% |  0.412000 |\n",
       "| 7.5% |  0.438000 |\n",
       "| 10% |  0.470000 |\n",
       "| 12.5% |  0.483000 |\n",
       "| 15% |  0.511000 |\n",
       "| 17.5% |  0.568325 |\n",
       "| 20% |  0.628000 |\n",
       "| 22.5% |  0.681000 |\n",
       "| 25% |  0.730000 |\n",
       "| 27.5% |  0.793000 |\n",
       "| 30% |  0.800000 |\n",
       "| 32.5% |  0.814000 |\n",
       "| 35% |  0.823000 |\n",
       "| 37.5% |  0.873000 |\n",
       "| 40% |  0.891000 |\n",
       "| 42.5% |  0.930000 |\n",
       "| 45% |  0.982000 |\n",
       "| 47.5% |  1.031000 |\n",
       "| 50% |  1.073000 |\n",
       "| 52.5% |  1.111000 |\n",
       "| 55% |  1.216000 |\n",
       "| 57.5% |  1.302000 |\n",
       "| 60% |  1.381000 |\n",
       "| 62.5% |  1.438000 |\n",
       "| 65% |  1.477000 |\n",
       "| 67.5% |  1.495000 |\n",
       "| 70% |  1.661100 |\n",
       "| 72.5% |  1.704000 |\n",
       "| 75% |  1.792000 |\n",
       "| 77.5% |  2.054000 |\n",
       "| 80% |  2.208000 |\n",
       "| 82.5% |  2.291000 |\n",
       "| 85% |  2.291000 |\n",
       "| 87.5% |  2.479000 |\n",
       "| 90% |  2.948000 |\n",
       "| 92.5% |  3.806000 |\n",
       "| 95% |  4.180000 |\n",
       "| 97.5% |  8.324000 |\n",
       "| 100% | 25.716000 |\n",
       "\n"
      ],
      "text/plain": [
       "      quantile.as.numeric.gsub.scopus_df_uniq.SJR..pattern........replace..........\n",
       "0%     0.102000                                                                    \n",
       "2.5%   0.277600                                                                    \n",
       "5%     0.412000                                                                    \n",
       "7.5%   0.438000                                                                    \n",
       "10%    0.470000                                                                    \n",
       "12.5%  0.483000                                                                    \n",
       "15%    0.511000                                                                    \n",
       "17.5%  0.568325                                                                    \n",
       "20%    0.628000                                                                    \n",
       "22.5%  0.681000                                                                    \n",
       "25%    0.730000                                                                    \n",
       "27.5%  0.793000                                                                    \n",
       "30%    0.800000                                                                    \n",
       "32.5%  0.814000                                                                    \n",
       "35%    0.823000                                                                    \n",
       "37.5%  0.873000                                                                    \n",
       "40%    0.891000                                                                    \n",
       "42.5%  0.930000                                                                    \n",
       "45%    0.982000                                                                    \n",
       "47.5%  1.031000                                                                    \n",
       "50%    1.073000                                                                    \n",
       "52.5%  1.111000                                                                    \n",
       "55%    1.216000                                                                    \n",
       "57.5%  1.302000                                                                    \n",
       "60%    1.381000                                                                    \n",
       "62.5%  1.438000                                                                    \n",
       "65%    1.477000                                                                    \n",
       "67.5%  1.495000                                                                    \n",
       "70%    1.661100                                                                    \n",
       "72.5%  1.704000                                                                    \n",
       "75%    1.792000                                                                    \n",
       "77.5%  2.054000                                                                    \n",
       "80%    2.208000                                                                    \n",
       "82.5%  2.291000                                                                    \n",
       "85%    2.291000                                                                    \n",
       "87.5%  2.479000                                                                    \n",
       "90%    2.948000                                                                    \n",
       "92.5%  3.806000                                                                    \n",
       "95%    4.180000                                                                    \n",
       "97.5%  8.324000                                                                    \n",
       "100%  25.716000                                                                    "
      ]
     },
     "metadata": {},
     "output_type": "display_data"
    }
   ],
   "source": [
    "data.frame(quantile(as.numeric(gsub(scopus_df_uniq$SJR, pattern=\",\", replace=\".\")), seq(0,1,0.025), na.rm=TRUE))"
   ]
  },
  {
   "cell_type": "code",
   "execution_count": 21,
   "id": "cae8fb7f",
   "metadata": {},
   "outputs": [
    {
     "data": {
      "text/plain": [
       "\n",
       "   -   Q1   Q2   Q3   Q4 <NA> \n",
       "   1 3585  902  183   84 8338 "
      ]
     },
     "metadata": {},
     "output_type": "display_data"
    }
   ],
   "source": [
    "#########################\n",
    "## SJR Best Quartile -- great deal missing data\n",
    "#########################\n",
    "table(scopus_df_uniq[[\"SJR.Best.Quartile\"]], useNA=\"always\")"
   ]
  },
  {
   "cell_type": "code",
   "execution_count": 22,
   "id": "d7eca86c",
   "metadata": {},
   "outputs": [
    {
     "data": {
      "text/plain": [
       "   Min. 1st Qu.  Median    Mean 3rd Qu.    Max.    NA's \n",
       "    2.0    66.0   109.0   152.2   191.0  1079.0    8338 "
      ]
     },
     "metadata": {},
     "output_type": "display_data"
    }
   ],
   "source": [
    "##########################\n",
    "## Journal H-Index -- great deal missing data\n",
    "##########################\n",
    "summary(as.numeric(scopus_df_uniq[[\"H.index\"]]))"
   ]
  },
  {
   "cell_type": "code",
   "execution_count": 23,
   "id": "0d3061b2",
   "metadata": {},
   "outputs": [
    {
     "data": {
      "text/plain": [
       "\n",
       "                <NA>        United States       United Kingdom \n",
       "                8338                 1927                 1779 \n",
       "              Canada          Netherlands          Switzerland \n",
       "                 301                  234                  165 \n",
       "           Australia              Germany              Ireland \n",
       "                  90                   83                   71 \n",
       "              France              Austria                China \n",
       "                  17                   16                   12 \n",
       "               Italy                Egypt                India \n",
       "                   9                    7                    5 \n",
       "              Mexico               Poland              Denmark \n",
       "                   4                    4                    3 \n",
       "           Singapore                Spain United Arab Emirates \n",
       "                   3                    3                    3 \n",
       "            Colombia                Japan          New Zealand \n",
       "                   2                    2                    2 \n",
       "         South Korea            Argentina              Belgium \n",
       "                   2                    1                    1 \n",
       "              Brazil             Bulgaria       Czech Republic \n",
       "                   1                    1                    1 \n",
       "           Hong Kong                 Iran             Pakistan \n",
       "                   1                    1                    1 \n",
       "                Peru         South Africa               Taiwan \n",
       "                   1                    1                    1 "
      ]
     },
     "metadata": {},
     "output_type": "display_data"
    }
   ],
   "source": [
    "##########################\n",
    "## Country of journal title\n",
    "##########################\n",
    "sort(table(scopus_df_uniq[[\"Country\"]], useNA=\"always\"), decreasing=TRUE)"
   ]
  },
  {
   "cell_type": "code",
   "execution_count": null,
   "id": "bae76793",
   "metadata": {},
   "outputs": [],
   "source": []
  },
  {
   "cell_type": "code",
   "execution_count": null,
   "id": "2092ffa8",
   "metadata": {},
   "outputs": [],
   "source": []
  },
  {
   "cell_type": "code",
   "execution_count": null,
   "id": "ed4a0c59",
   "metadata": {},
   "outputs": [],
   "source": []
  },
  {
   "cell_type": "code",
   "execution_count": 24,
   "id": "fd92f363",
   "metadata": {},
   "outputs": [],
   "source": [
    "############################\n",
    "## Stratify by institution\n",
    "############################"
   ]
  },
  {
   "cell_type": "code",
   "execution_count": 25,
   "id": "d96fe9f7",
   "metadata": {},
   "outputs": [
    {
     "data": {
      "text/html": [
       "<table class=\"dataframe\">\n",
       "<caption>A matrix: 5 × 17 of type dbl</caption>\n",
       "<thead>\n",
       "\t<tr><th></th><th scope=col>Cambridge</th><th scope=col>Dartmouth</th><th scope=col>Duke</th><th scope=col>Harvard</th><th scope=col>HKU</th><th scope=col>Laval</th><th scope=col>McGill</th><th scope=col>Michigan</th><th scope=col>Monash</th><th scope=col>OHSU</th><th scope=col>Ottawa</th><th scope=col>Oxford</th><th scope=col>Toronto</th><th scope=col>UBC</th><th scope=col>UCL</th><th scope=col>UCSF</th><th scope=col>UNSW</th></tr>\n",
       "</thead>\n",
       "<tbody>\n",
       "\t<tr><th scope=row>min</th><td> 0.105</td><td> 0.181</td><td> 0.18500</td><td> 0.13500</td><td> 0.130</td><td> 0.131</td><td> 0.1090</td><td> 0.1290</td><td>0.238</td><td>0.287</td><td>0.105</td><td> 0.102</td><td> 0.131</td><td> 0.118</td><td> 0.174</td><td> 0.147</td><td>0.304</td></tr>\n",
       "\t<tr><th scope=row>q25</th><td> 0.681</td><td> 0.881</td><td> 0.81300</td><td> 0.70100</td><td> 0.793</td><td> 0.470</td><td> 0.6625</td><td> 0.7235</td><td>0.500</td><td>0.800</td><td>0.635</td><td> 0.875</td><td> 0.624</td><td> 0.537</td><td> 0.748</td><td> 0.800</td><td>0.500</td></tr>\n",
       "\t<tr><th scope=row>q50</th><td> 0.986</td><td> 1.348</td><td> 1.07950</td><td> 1.37100</td><td> 0.981</td><td> 0.789</td><td> 0.8950</td><td> 1.0500</td><td>0.793</td><td>0.914</td><td>0.919</td><td> 1.451</td><td> 1.111</td><td> 0.847</td><td> 1.274</td><td> 1.071</td><td>0.814</td></tr>\n",
       "\t<tr><th scope=row>q75</th><td> 1.472</td><td> 2.023</td><td> 1.85975</td><td> 3.65325</td><td> 1.677</td><td> 1.219</td><td> 1.4755</td><td> 1.6640</td><td>1.225</td><td>1.712</td><td>1.667</td><td> 2.291</td><td> 1.664</td><td> 1.438</td><td> 2.064</td><td> 2.208</td><td>1.155</td></tr>\n",
       "\t<tr><th scope=row>max</th><td>15.652</td><td>24.907</td><td>16.51300</td><td>24.90700</td><td>15.652</td><td>15.652</td><td>15.6520</td><td>24.9070</td><td>4.336</td><td>4.029</td><td>3.395</td><td>25.716</td><td>24.907</td><td>24.907</td><td>24.907</td><td>24.907</td><td>3.670</td></tr>\n",
       "</tbody>\n",
       "</table>\n"
      ],
      "text/latex": [
       "A matrix: 5 × 17 of type dbl\n",
       "\\begin{tabular}{r|lllllllllllllllll}\n",
       "  & Cambridge & Dartmouth & Duke & Harvard & HKU & Laval & McGill & Michigan & Monash & OHSU & Ottawa & Oxford & Toronto & UBC & UCL & UCSF & UNSW\\\\\n",
       "\\hline\n",
       "\tmin &  0.105 &  0.181 &  0.18500 &  0.13500 &  0.130 &  0.131 &  0.1090 &  0.1290 & 0.238 & 0.287 & 0.105 &  0.102 &  0.131 &  0.118 &  0.174 &  0.147 & 0.304\\\\\n",
       "\tq25 &  0.681 &  0.881 &  0.81300 &  0.70100 &  0.793 &  0.470 &  0.6625 &  0.7235 & 0.500 & 0.800 & 0.635 &  0.875 &  0.624 &  0.537 &  0.748 &  0.800 & 0.500\\\\\n",
       "\tq50 &  0.986 &  1.348 &  1.07950 &  1.37100 &  0.981 &  0.789 &  0.8950 &  1.0500 & 0.793 & 0.914 & 0.919 &  1.451 &  1.111 &  0.847 &  1.274 &  1.071 & 0.814\\\\\n",
       "\tq75 &  1.472 &  2.023 &  1.85975 &  3.65325 &  1.677 &  1.219 &  1.4755 &  1.6640 & 1.225 & 1.712 & 1.667 &  2.291 &  1.664 &  1.438 &  2.064 &  2.208 & 1.155\\\\\n",
       "\tmax & 15.652 & 24.907 & 16.51300 & 24.90700 & 15.652 & 15.652 & 15.6520 & 24.9070 & 4.336 & 4.029 & 3.395 & 25.716 & 24.907 & 24.907 & 24.907 & 24.907 & 3.670\\\\\n",
       "\\end{tabular}\n"
      ],
      "text/markdown": [
       "\n",
       "A matrix: 5 × 17 of type dbl\n",
       "\n",
       "| <!--/--> | Cambridge | Dartmouth | Duke | Harvard | HKU | Laval | McGill | Michigan | Monash | OHSU | Ottawa | Oxford | Toronto | UBC | UCL | UCSF | UNSW |\n",
       "|---|---|---|---|---|---|---|---|---|---|---|---|---|---|---|---|---|---|\n",
       "| min |  0.105 |  0.181 |  0.18500 |  0.13500 |  0.130 |  0.131 |  0.1090 |  0.1290 | 0.238 | 0.287 | 0.105 |  0.102 |  0.131 |  0.118 |  0.174 |  0.147 | 0.304 |\n",
       "| q25 |  0.681 |  0.881 |  0.81300 |  0.70100 |  0.793 |  0.470 |  0.6625 |  0.7235 | 0.500 | 0.800 | 0.635 |  0.875 |  0.624 |  0.537 |  0.748 |  0.800 | 0.500 |\n",
       "| q50 |  0.986 |  1.348 |  1.07950 |  1.37100 |  0.981 |  0.789 |  0.8950 |  1.0500 | 0.793 | 0.914 | 0.919 |  1.451 |  1.111 |  0.847 |  1.274 |  1.071 | 0.814 |\n",
       "| q75 |  1.472 |  2.023 |  1.85975 |  3.65325 |  1.677 |  1.219 |  1.4755 |  1.6640 | 1.225 | 1.712 | 1.667 |  2.291 |  1.664 |  1.438 |  2.064 |  2.208 | 1.155 |\n",
       "| max | 15.652 | 24.907 | 16.51300 | 24.90700 | 15.652 | 15.652 | 15.6520 | 24.9070 | 4.336 | 4.029 | 3.395 | 25.716 | 24.907 | 24.907 | 24.907 | 24.907 | 3.670 |\n",
       "\n"
      ],
      "text/plain": [
       "    Cambridge Dartmouth Duke     Harvard  HKU    Laval  McGill  Michigan Monash\n",
       "min  0.105     0.181     0.18500  0.13500  0.130  0.131  0.1090  0.1290  0.238 \n",
       "q25  0.681     0.881     0.81300  0.70100  0.793  0.470  0.6625  0.7235  0.500 \n",
       "q50  0.986     1.348     1.07950  1.37100  0.981  0.789  0.8950  1.0500  0.793 \n",
       "q75  1.472     2.023     1.85975  3.65325  1.677  1.219  1.4755  1.6640  1.225 \n",
       "max 15.652    24.907    16.51300 24.90700 15.652 15.652 15.6520 24.9070  4.336 \n",
       "    OHSU  Ottawa Oxford Toronto UBC    UCL    UCSF   UNSW \n",
       "min 0.287 0.105   0.102  0.131   0.118  0.174  0.147 0.304\n",
       "q25 0.800 0.635   0.875  0.624   0.537  0.748  0.800 0.500\n",
       "q50 0.914 0.919   1.451  1.111   0.847  1.274  1.071 0.814\n",
       "q75 1.712 1.667   2.291  1.664   1.438  2.064  2.208 1.155\n",
       "max 4.029 3.395  25.716 24.907  24.907 24.907 24.907 3.670"
      ]
     },
     "metadata": {},
     "output_type": "display_data"
    }
   ],
   "source": [
    "## SJR Ranking vs. instituion\n",
    "\n",
    "sjr_df_by_inst <- \n",
    "    data.frame(data.frame(aggregate(as.numeric(gsub(scopus_df_uniq$SJR, pattern=\",\", replace=\".\")), \n",
    "   list(scopus_df_uniq$au_institution),\n",
    "   quantile, probs=seq(0,1,0.25), na.rm=TRUE))[,2])\n",
    "\n",
    "names(sjr_df_by_inst) <- c(\"min\", \"q25\", \"q50\", \"q75\", \"max\")\n",
    "\n",
    "rownames(sjr_df_by_inst) <- \n",
    "    unlist(data.frame(aggregate(as.numeric(gsub(scopus_df_uniq$SJR, pattern=\",\", replace=\".\")), \n",
    "    list(scopus_df_uniq$au_institution),\n",
    "    quantile, probs=seq(0,1,0.25), na.rm=TRUE))[,1])\n",
    "\n",
    "t(sjr_df_by_inst)"
   ]
  },
  {
   "cell_type": "code",
   "execution_count": 26,
   "id": "8c57a414",
   "metadata": {},
   "outputs": [
    {
     "data": {
      "text/html": [
       "<table class=\"dataframe\">\n",
       "<caption>A matrix: 4 × 17 of type dbl</caption>\n",
       "<thead>\n",
       "\t<tr><th></th><th scope=col>Oxford</th><th scope=col>Toronto</th><th scope=col>Dartmouth</th><th scope=col>UCL</th><th scope=col>UBC</th><th scope=col>McGill</th><th scope=col>Michigan</th><th scope=col>Ottawa</th><th scope=col>Laval</th><th scope=col>Cambridge</th><th scope=col>Harvard</th><th scope=col>OHSU</th><th scope=col>Duke</th><th scope=col>UCSF</th><th scope=col>HKU</th><th scope=col>Monash</th><th scope=col>UNSW</th></tr>\n",
       "</thead>\n",
       "<tbody>\n",
       "\t<tr><th scope=row>Q1</th><td>83.49</td><td>71.81</td><td>81.84</td><td>74.75</td><td>63.69</td><td>73.76</td><td>74.90</td><td>74.22</td><td>58.15</td><td>81.08</td><td>77.44</td><td>79.59</td><td>77.70</td><td>86.63</td><td>79.2</td><td>53.28</td><td>52.17</td></tr>\n",
       "\t<tr><th scope=row>Q2</th><td>13.50</td><td>22.32</td><td>11.44</td><td>14.81</td><td>31.08</td><td>18.63</td><td>19.22</td><td>20.44</td><td>37.50</td><td>10.14</td><td>15.24</td><td>16.33</td><td>16.89</td><td> 8.14</td><td>12.8</td><td>41.61</td><td>46.38</td></tr>\n",
       "\t<tr><th scope=row>Q3</th><td> 2.18</td><td> 2.64</td><td> 3.48</td><td> 9.43</td><td> 3.38</td><td> 4.56</td><td> 3.14</td><td> 2.22</td><td> 1.63</td><td> 8.78</td><td> 6.71</td><td> 4.08</td><td> 4.73</td><td> 4.65</td><td> 8.0</td><td> 3.65</td><td> 1.45</td></tr>\n",
       "\t<tr><th scope=row>Q4</th><td> 0.83</td><td> 3.23</td><td> 3.23</td><td> 1.01</td><td> 1.85</td><td> 3.04</td><td> 2.75</td><td> 3.11</td><td> 2.72</td><td> 0.00</td><td> 0.61</td><td> 0.00</td><td> 0.68</td><td> 0.58</td><td> 0.0</td><td> 1.46</td><td> 0.00</td></tr>\n",
       "</tbody>\n",
       "</table>\n"
      ],
      "text/latex": [
       "A matrix: 4 × 17 of type dbl\n",
       "\\begin{tabular}{r|lllllllllllllllll}\n",
       "  & Oxford & Toronto & Dartmouth & UCL & UBC & McGill & Michigan & Ottawa & Laval & Cambridge & Harvard & OHSU & Duke & UCSF & HKU & Monash & UNSW\\\\\n",
       "\\hline\n",
       "\tQ1 & 83.49 & 71.81 & 81.84 & 74.75 & 63.69 & 73.76 & 74.90 & 74.22 & 58.15 & 81.08 & 77.44 & 79.59 & 77.70 & 86.63 & 79.2 & 53.28 & 52.17\\\\\n",
       "\tQ2 & 13.50 & 22.32 & 11.44 & 14.81 & 31.08 & 18.63 & 19.22 & 20.44 & 37.50 & 10.14 & 15.24 & 16.33 & 16.89 &  8.14 & 12.8 & 41.61 & 46.38\\\\\n",
       "\tQ3 &  2.18 &  2.64 &  3.48 &  9.43 &  3.38 &  4.56 &  3.14 &  2.22 &  1.63 &  8.78 &  6.71 &  4.08 &  4.73 &  4.65 &  8.0 &  3.65 &  1.45\\\\\n",
       "\tQ4 &  0.83 &  3.23 &  3.23 &  1.01 &  1.85 &  3.04 &  2.75 &  3.11 &  2.72 &  0.00 &  0.61 &  0.00 &  0.68 &  0.58 &  0.0 &  1.46 &  0.00\\\\\n",
       "\\end{tabular}\n"
      ],
      "text/markdown": [
       "\n",
       "A matrix: 4 × 17 of type dbl\n",
       "\n",
       "| <!--/--> | Oxford | Toronto | Dartmouth | UCL | UBC | McGill | Michigan | Ottawa | Laval | Cambridge | Harvard | OHSU | Duke | UCSF | HKU | Monash | UNSW |\n",
       "|---|---|---|---|---|---|---|---|---|---|---|---|---|---|---|---|---|---|\n",
       "| Q1 | 83.49 | 71.81 | 81.84 | 74.75 | 63.69 | 73.76 | 74.90 | 74.22 | 58.15 | 81.08 | 77.44 | 79.59 | 77.70 | 86.63 | 79.2 | 53.28 | 52.17 |\n",
       "| Q2 | 13.50 | 22.32 | 11.44 | 14.81 | 31.08 | 18.63 | 19.22 | 20.44 | 37.50 | 10.14 | 15.24 | 16.33 | 16.89 |  8.14 | 12.8 | 41.61 | 46.38 |\n",
       "| Q3 |  2.18 |  2.64 |  3.48 |  9.43 |  3.38 |  4.56 |  3.14 |  2.22 |  1.63 |  8.78 |  6.71 |  4.08 |  4.73 |  4.65 |  8.0 |  3.65 |  1.45 |\n",
       "| Q4 |  0.83 |  3.23 |  3.23 |  1.01 |  1.85 |  3.04 |  2.75 |  3.11 |  2.72 |  0.00 |  0.61 |  0.00 |  0.68 |  0.58 |  0.0 |  1.46 |  0.00 |\n",
       "\n"
      ],
      "text/plain": [
       "   Oxford Toronto Dartmouth UCL   UBC   McGill Michigan Ottawa Laval Cambridge\n",
       "Q1 83.49  71.81   81.84     74.75 63.69 73.76  74.90    74.22  58.15 81.08    \n",
       "Q2 13.50  22.32   11.44     14.81 31.08 18.63  19.22    20.44  37.50 10.14    \n",
       "Q3  2.18   2.64    3.48      9.43  3.38  4.56   3.14     2.22   1.63  8.78    \n",
       "Q4  0.83   3.23    3.23      1.01  1.85  3.04   2.75     3.11   2.72  0.00    \n",
       "   Harvard OHSU  Duke  UCSF  HKU  Monash UNSW \n",
       "Q1 77.44   79.59 77.70 86.63 79.2 53.28  52.17\n",
       "Q2 15.24   16.33 16.89  8.14 12.8 41.61  46.38\n",
       "Q3  6.71    4.08  4.73  4.65  8.0  3.65   1.45\n",
       "Q4  0.61    0.00  0.68  0.58  0.0  1.46   0.00"
      ]
     },
     "metadata": {},
     "output_type": "display_data"
    }
   ],
   "source": [
    "## Journal quartile by institution\n",
    "inst_by_journal_quartile <- data.frame(unclass(table(scopus_df_uniq$au_institution, scopus_df_uniq[[\"SJR.Best.Quartile\"]], useNA=\"always\")))\n",
    "inst_by_journal_quartile <- inst_by_journal_quartile[order(-rowSums(inst_by_journal_quartile)), -c(1,6)]\n",
    "inst_by_journal_quartile <- round(inst_by_journal_quartile/rowSums(inst_by_journal_quartile)*100, 2)\n",
    "inst_by_journal_quartile <- inst_by_journal_quartile[-nrow(inst_by_journal_quartile),]\n",
    "t(inst_by_journal_quartile)"
   ]
  },
  {
   "cell_type": "code",
   "execution_count": null,
   "id": "3df26048",
   "metadata": {},
   "outputs": [],
   "source": []
  },
  {
   "cell_type": "code",
   "execution_count": null,
   "id": "46040e3a",
   "metadata": {},
   "outputs": [],
   "source": []
  },
  {
   "cell_type": "code",
   "execution_count": null,
   "id": "7580986f",
   "metadata": {},
   "outputs": [],
   "source": []
  },
  {
   "cell_type": "code",
   "execution_count": 27,
   "id": "1797e840",
   "metadata": {},
   "outputs": [],
   "source": [
    "############################\n",
    "## System information\n",
    "############################"
   ]
  },
  {
   "cell_type": "code",
   "execution_count": 28,
   "id": "ac8bc17a",
   "metadata": {},
   "outputs": [
    {
     "data": {
      "text/plain": [
       "[1] \"2023-01-19 00:03:46 EST\""
      ]
     },
     "metadata": {},
     "output_type": "display_data"
    }
   ],
   "source": [
    "Sys.time()"
   ]
  },
  {
   "cell_type": "code",
   "execution_count": 29,
   "id": "6ad2c26e",
   "metadata": {},
   "outputs": [
    {
     "data": {
      "text/html": [
       "<table class=\"dataframe\">\n",
       "<caption>A data.frame: 8 × 1</caption>\n",
       "<thead>\n",
       "\t<tr><th></th><th scope=col>Sys.info..</th></tr>\n",
       "\t<tr><th></th><th scope=col>&lt;chr&gt;</th></tr>\n",
       "</thead>\n",
       "<tbody>\n",
       "\t<tr><th scope=row>sysname</th><td>Windows     </td></tr>\n",
       "\t<tr><th scope=row>release</th><td>10 x64      </td></tr>\n",
       "\t<tr><th scope=row>version</th><td>build 17763 </td></tr>\n",
       "\t<tr><th scope=row>nodename</th><td>DFCM-59NJ8Y1</td></tr>\n",
       "\t<tr><th scope=row>machine</th><td>x86-64      </td></tr>\n",
       "\t<tr><th scope=row>login</th><td>meaneych    </td></tr>\n",
       "\t<tr><th scope=row>user</th><td>meaneych    </td></tr>\n",
       "\t<tr><th scope=row>effective_user</th><td>meaneych    </td></tr>\n",
       "</tbody>\n",
       "</table>\n"
      ],
      "text/latex": [
       "A data.frame: 8 × 1\n",
       "\\begin{tabular}{r|l}\n",
       "  & Sys.info..\\\\\n",
       "  & <chr>\\\\\n",
       "\\hline\n",
       "\tsysname & Windows     \\\\\n",
       "\trelease & 10 x64      \\\\\n",
       "\tversion & build 17763 \\\\\n",
       "\tnodename & DFCM-59NJ8Y1\\\\\n",
       "\tmachine & x86-64      \\\\\n",
       "\tlogin & meaneych    \\\\\n",
       "\tuser & meaneych    \\\\\n",
       "\teffective\\_user & meaneych    \\\\\n",
       "\\end{tabular}\n"
      ],
      "text/markdown": [
       "\n",
       "A data.frame: 8 × 1\n",
       "\n",
       "| <!--/--> | Sys.info.. &lt;chr&gt; |\n",
       "|---|---|\n",
       "| sysname | Windows      |\n",
       "| release | 10 x64       |\n",
       "| version | build 17763  |\n",
       "| nodename | DFCM-59NJ8Y1 |\n",
       "| machine | x86-64       |\n",
       "| login | meaneych     |\n",
       "| user | meaneych     |\n",
       "| effective_user | meaneych     |\n",
       "\n"
      ],
      "text/plain": [
       "               Sys.info..  \n",
       "sysname        Windows     \n",
       "release        10 x64      \n",
       "version        build 17763 \n",
       "nodename       DFCM-59NJ8Y1\n",
       "machine        x86-64      \n",
       "login          meaneych    \n",
       "user           meaneych    \n",
       "effective_user meaneych    "
      ]
     },
     "metadata": {},
     "output_type": "display_data"
    }
   ],
   "source": [
    "data.frame(Sys.info())"
   ]
  },
  {
   "cell_type": "code",
   "execution_count": 30,
   "id": "54808fce",
   "metadata": {},
   "outputs": [
    {
     "data": {
      "text/plain": [
       "               _                           \n",
       "platform       x86_64-w64-mingw32          \n",
       "arch           x86_64                      \n",
       "os             mingw32                     \n",
       "system         x86_64, mingw32             \n",
       "status                                     \n",
       "major          4                           \n",
       "minor          1.3                         \n",
       "year           2022                        \n",
       "month          03                          \n",
       "day            10                          \n",
       "svn rev        81868                       \n",
       "language       R                           \n",
       "version.string R version 4.1.3 (2022-03-10)\n",
       "nickname       One Push-Up                 "
      ]
     },
     "metadata": {},
     "output_type": "display_data"
    }
   ],
   "source": [
    "version"
   ]
  },
  {
   "cell_type": "code",
   "execution_count": null,
   "id": "7649ebb8",
   "metadata": {},
   "outputs": [],
   "source": []
  },
  {
   "cell_type": "code",
   "execution_count": null,
   "id": "bfe44b1a",
   "metadata": {},
   "outputs": [],
   "source": []
  }
 ],
 "metadata": {
  "kernelspec": {
   "display_name": "R",
   "language": "R",
   "name": "ir"
  },
  "language_info": {
   "codemirror_mode": "r",
   "file_extension": ".r",
   "mimetype": "text/x-r-source",
   "name": "R",
   "pygments_lexer": "r",
   "version": "4.1.3"
  }
 },
 "nbformat": 4,
 "nbformat_minor": 5
}
